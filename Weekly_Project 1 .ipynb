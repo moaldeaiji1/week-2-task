{
  "cells": [
    {
      "cell_type": "markdown",
      "id": "5749a10a",
      "metadata": {
        "id": "5749a10a"
      },
      "source": [
        "# Weekly Project 2!"
      ]
    },
    {
      "cell_type": "markdown",
      "id": "92d44841",
      "metadata": {
        "id": "92d44841"
      },
      "source": [
        "## Introduction to Road Traffic Accidents (RTA) Dataset\n",
        "\n",
        "### Dataset Overview\n",
        "The RTA Dataset provides a detailed snapshot of road traffic accidents, capturing a range of data from accident conditions to casualty details. This dataset is essential for analyzing patterns and causes of accidents to improve road safety.\n",
        "\n",
        "### Data Characteristics\n",
        "- **Entries**: The dataset contains 12,316 entries.\n",
        "- **Features**: There are 32 features in the dataset, which include:\n",
        "  - `Time`: Time when the accident occurred.\n",
        "  - `Day_of_week`: Day of the week.\n",
        "  - `Age_band_of_driver`: Age group of the driver involved.\n",
        "  - `Sex_of_driver`: Gender of the driver.\n",
        "  - `Educational_level`: Educational level of the driver.\n",
        "  - `Type_of_vehicle`: Type of vehicle involved in the accident.\n",
        "  - `Cause_of_accident`: Reported cause of the accident.\n",
        "  - `Accident_severity`: Severity of the accident.\n",
        "- **Target Column**: `Accident_severity` is used as the target column for modeling. This feature classifies the severity of each accident.\n",
        "\n",
        "### Objective\n",
        "Students will use this dataset to apply various data visualization, modeling, and evaluation techniques learned in class. The primary goal is to build models that can accurately predict the severity of accidents and to identify the key factors that contribute to severe accidents."
      ]
    },
    {
      "cell_type": "markdown",
      "id": "177291c2",
      "metadata": {
        "id": "177291c2"
      },
      "source": [
        "## Import Libraries\n",
        "Import all the necessary libraries here. Include libraries for handling data (like pandas), visualization (like matplotlib and seaborn), and modeling (like scikit-learn)."
      ]
    },
    {
      "cell_type": "code",
      "execution_count": 393,
      "id": "2ad2bd0e",
      "metadata": {
        "id": "2ad2bd0e"
      },
      "outputs": [],
      "source": [
        "import pandas as pd\n",
        "import matplotlib.pyplot as plt\n",
        "import seaborn as sns"
      ]
    },
    {
      "cell_type": "markdown",
      "id": "5f236af2",
      "metadata": {
        "id": "5f236af2"
      },
      "source": [
        "## Load Data\n",
        "Load the dataset from the provided CSV file into a DataFrame."
      ]
    },
    {
      "cell_type": "code",
      "execution_count": 445,
      "id": "2d3f76e8",
      "metadata": {
        "id": "2d3f76e8"
      },
      "outputs": [],
      "source": [
        "df=pd.read_csv(\"RTA_Dataset.csv\")"
      ]
    },
    {
      "cell_type": "markdown",
      "id": "b9215c2f",
      "metadata": {
        "id": "b9215c2f"
      },
      "source": [
        "## Exploratory Data Analysis (EDA)\n",
        "Perform EDA to understand the data better. This involves several steps to summarize the main characteristics, uncover patterns, and establish relationships:\n",
        "* Find the dataset information and observe the datatypes.\n",
        "* Check the shape of the data to understand its structure.\n",
        "* View the the data with various functions to get an initial sense of the data.\n",
        "* Perform summary statistics on the dataset to grasp central tendencies and variability.\n",
        "* Check for duplicated data.\n",
        "* Check for null values.\n",
        "\n",
        "And apply more if needed!\n"
      ]
    },
    {
      "cell_type": "code",
      "execution_count": 319,
      "id": "b206f836",
      "metadata": {
        "colab": {
          "base_uri": "https://localhost:8080/"
        },
        "id": "b206f836",
        "outputId": "a562999b-d14b-48c6-dc7b-b94f9ec0955a"
      },
      "outputs": [
        {
          "output_type": "stream",
          "name": "stdout",
          "text": [
            "<class 'pandas.core.frame.DataFrame'>\n",
            "RangeIndex: 12316 entries, 0 to 12315\n",
            "Data columns (total 32 columns):\n",
            " #   Column                       Non-Null Count  Dtype \n",
            "---  ------                       --------------  ----- \n",
            " 0   Time                         12316 non-null  object\n",
            " 1   Day_of_week                  12316 non-null  object\n",
            " 2   Age_band_of_driver           12316 non-null  object\n",
            " 3   Sex_of_driver                12316 non-null  object\n",
            " 4   Educational_level            11575 non-null  object\n",
            " 5   Vehicle_driver_relation      11737 non-null  object\n",
            " 6   Driving_experience           11487 non-null  object\n",
            " 7   Type_of_vehicle              11366 non-null  object\n",
            " 8   Owner_of_vehicle             11834 non-null  object\n",
            " 9   Service_year_of_vehicle      8388 non-null   object\n",
            " 10  Defect_of_vehicle            7889 non-null   object\n",
            " 11  Area_accident_occured        12077 non-null  object\n",
            " 12  Lanes_or_Medians             11931 non-null  object\n",
            " 13  Road_allignment              12174 non-null  object\n",
            " 14  Types_of_Junction            11429 non-null  object\n",
            " 15  Road_surface_type            12144 non-null  object\n",
            " 16  Road_surface_conditions      12316 non-null  object\n",
            " 17  Light_conditions             12316 non-null  object\n",
            " 18  Weather_conditions           12316 non-null  object\n",
            " 19  Type_of_collision            12161 non-null  object\n",
            " 20  Number_of_vehicles_involved  12316 non-null  int64 \n",
            " 21  Number_of_casualties         12316 non-null  int64 \n",
            " 22  Vehicle_movement             12008 non-null  object\n",
            " 23  Casualty_class               12316 non-null  object\n",
            " 24  Sex_of_casualty              12316 non-null  object\n",
            " 25  Age_band_of_casualty         12316 non-null  object\n",
            " 26  Casualty_severity            12316 non-null  object\n",
            " 27  Work_of_casuality            9118 non-null   object\n",
            " 28  Fitness_of_casuality         9681 non-null   object\n",
            " 29  Pedestrian_movement          12316 non-null  object\n",
            " 30  Cause_of_accident            12316 non-null  object\n",
            " 31  Accident_severity            12316 non-null  object\n",
            "dtypes: int64(2), object(30)\n",
            "memory usage: 3.0+ MB\n"
          ]
        }
      ],
      "source": [
        "df.info()"
      ]
    },
    {
      "cell_type": "code",
      "source": [
        "df.shape"
      ],
      "metadata": {
        "colab": {
          "base_uri": "https://localhost:8080/"
        },
        "id": "GaMr0IdDVtb5",
        "outputId": "2a321499-5699-4030-f335-8f468221e889"
      },
      "id": "GaMr0IdDVtb5",
      "execution_count": 320,
      "outputs": [
        {
          "output_type": "execute_result",
          "data": {
            "text/plain": [
              "(12316, 32)"
            ]
          },
          "metadata": {},
          "execution_count": 320
        }
      ]
    },
    {
      "cell_type": "code",
      "source": [
        "df.head()"
      ],
      "metadata": {
        "colab": {
          "base_uri": "https://localhost:8080/",
          "height": 307
        },
        "id": "rfDb7O4VVv82",
        "outputId": "e7983934-4478-49df-f85c-c7a2e734324c"
      },
      "id": "rfDb7O4VVv82",
      "execution_count": 395,
      "outputs": [
        {
          "output_type": "execute_result",
          "data": {
            "text/plain": [
              "       Time Day_of_week Age_band_of_driver Sex_of_driver   Educational_level  \\\n",
              "0  17:02:00      Monday              18-30          Male   Above high school   \n",
              "1  17:02:00      Monday              31-50          Male  Junior high school   \n",
              "2  17:02:00      Monday              18-30          Male  Junior high school   \n",
              "3   1:06:00      Sunday              18-30          Male  Junior high school   \n",
              "4   1:06:00      Sunday              18-30          Male  Junior high school   \n",
              "\n",
              "  Vehicle_driver_relation Driving_experience      Type_of_vehicle  \\\n",
              "0                Employee              1-2yr           Automobile   \n",
              "1                Employee         Above 10yr  Public (> 45 seats)   \n",
              "2                Employee              1-2yr      Lorry (41?100Q)   \n",
              "3                Employee             5-10yr  Public (> 45 seats)   \n",
              "4                Employee              2-5yr                  NaN   \n",
              "\n",
              "  Owner_of_vehicle Service_year_of_vehicle  ... Vehicle_movement  \\\n",
              "0            Owner              Above 10yr  ...   Going straight   \n",
              "1            Owner                 5-10yrs  ...   Going straight   \n",
              "2            Owner                     NaN  ...   Going straight   \n",
              "3     Governmental                     NaN  ...   Going straight   \n",
              "4            Owner                 5-10yrs  ...   Going straight   \n",
              "\n",
              "    Casualty_class Sex_of_casualty Age_band_of_casualty Casualty_severity  \\\n",
              "0               na              na                   na                na   \n",
              "1               na              na                   na                na   \n",
              "2  Driver or rider            Male                31-50                 3   \n",
              "3       Pedestrian          Female                18-30                 3   \n",
              "4               na              na                   na                na   \n",
              "\n",
              "  Work_of_casuality Fitness_of_casuality Pedestrian_movement  \\\n",
              "0               NaN                  NaN    Not a Pedestrian   \n",
              "1               NaN                  NaN    Not a Pedestrian   \n",
              "2            Driver                  NaN    Not a Pedestrian   \n",
              "3            Driver               Normal    Not a Pedestrian   \n",
              "4               NaN                  NaN    Not a Pedestrian   \n",
              "\n",
              "            Cause_of_accident Accident_severity  \n",
              "0             Moving Backward     Slight Injury  \n",
              "1                  Overtaking     Slight Injury  \n",
              "2   Changing lane to the left    Serious Injury  \n",
              "3  Changing lane to the right     Slight Injury  \n",
              "4                  Overtaking     Slight Injury  \n",
              "\n",
              "[5 rows x 32 columns]"
            ],
            "text/html": [
              "\n",
              "  <div id=\"df-478b08d1-6f02-48f0-a9d2-d7fd0bce6d0c\" class=\"colab-df-container\">\n",
              "    <div>\n",
              "<style scoped>\n",
              "    .dataframe tbody tr th:only-of-type {\n",
              "        vertical-align: middle;\n",
              "    }\n",
              "\n",
              "    .dataframe tbody tr th {\n",
              "        vertical-align: top;\n",
              "    }\n",
              "\n",
              "    .dataframe thead th {\n",
              "        text-align: right;\n",
              "    }\n",
              "</style>\n",
              "<table border=\"1\" class=\"dataframe\">\n",
              "  <thead>\n",
              "    <tr style=\"text-align: right;\">\n",
              "      <th></th>\n",
              "      <th>Time</th>\n",
              "      <th>Day_of_week</th>\n",
              "      <th>Age_band_of_driver</th>\n",
              "      <th>Sex_of_driver</th>\n",
              "      <th>Educational_level</th>\n",
              "      <th>Vehicle_driver_relation</th>\n",
              "      <th>Driving_experience</th>\n",
              "      <th>Type_of_vehicle</th>\n",
              "      <th>Owner_of_vehicle</th>\n",
              "      <th>Service_year_of_vehicle</th>\n",
              "      <th>...</th>\n",
              "      <th>Vehicle_movement</th>\n",
              "      <th>Casualty_class</th>\n",
              "      <th>Sex_of_casualty</th>\n",
              "      <th>Age_band_of_casualty</th>\n",
              "      <th>Casualty_severity</th>\n",
              "      <th>Work_of_casuality</th>\n",
              "      <th>Fitness_of_casuality</th>\n",
              "      <th>Pedestrian_movement</th>\n",
              "      <th>Cause_of_accident</th>\n",
              "      <th>Accident_severity</th>\n",
              "    </tr>\n",
              "  </thead>\n",
              "  <tbody>\n",
              "    <tr>\n",
              "      <th>0</th>\n",
              "      <td>17:02:00</td>\n",
              "      <td>Monday</td>\n",
              "      <td>18-30</td>\n",
              "      <td>Male</td>\n",
              "      <td>Above high school</td>\n",
              "      <td>Employee</td>\n",
              "      <td>1-2yr</td>\n",
              "      <td>Automobile</td>\n",
              "      <td>Owner</td>\n",
              "      <td>Above 10yr</td>\n",
              "      <td>...</td>\n",
              "      <td>Going straight</td>\n",
              "      <td>na</td>\n",
              "      <td>na</td>\n",
              "      <td>na</td>\n",
              "      <td>na</td>\n",
              "      <td>NaN</td>\n",
              "      <td>NaN</td>\n",
              "      <td>Not a Pedestrian</td>\n",
              "      <td>Moving Backward</td>\n",
              "      <td>Slight Injury</td>\n",
              "    </tr>\n",
              "    <tr>\n",
              "      <th>1</th>\n",
              "      <td>17:02:00</td>\n",
              "      <td>Monday</td>\n",
              "      <td>31-50</td>\n",
              "      <td>Male</td>\n",
              "      <td>Junior high school</td>\n",
              "      <td>Employee</td>\n",
              "      <td>Above 10yr</td>\n",
              "      <td>Public (&gt; 45 seats)</td>\n",
              "      <td>Owner</td>\n",
              "      <td>5-10yrs</td>\n",
              "      <td>...</td>\n",
              "      <td>Going straight</td>\n",
              "      <td>na</td>\n",
              "      <td>na</td>\n",
              "      <td>na</td>\n",
              "      <td>na</td>\n",
              "      <td>NaN</td>\n",
              "      <td>NaN</td>\n",
              "      <td>Not a Pedestrian</td>\n",
              "      <td>Overtaking</td>\n",
              "      <td>Slight Injury</td>\n",
              "    </tr>\n",
              "    <tr>\n",
              "      <th>2</th>\n",
              "      <td>17:02:00</td>\n",
              "      <td>Monday</td>\n",
              "      <td>18-30</td>\n",
              "      <td>Male</td>\n",
              "      <td>Junior high school</td>\n",
              "      <td>Employee</td>\n",
              "      <td>1-2yr</td>\n",
              "      <td>Lorry (41?100Q)</td>\n",
              "      <td>Owner</td>\n",
              "      <td>NaN</td>\n",
              "      <td>...</td>\n",
              "      <td>Going straight</td>\n",
              "      <td>Driver or rider</td>\n",
              "      <td>Male</td>\n",
              "      <td>31-50</td>\n",
              "      <td>3</td>\n",
              "      <td>Driver</td>\n",
              "      <td>NaN</td>\n",
              "      <td>Not a Pedestrian</td>\n",
              "      <td>Changing lane to the left</td>\n",
              "      <td>Serious Injury</td>\n",
              "    </tr>\n",
              "    <tr>\n",
              "      <th>3</th>\n",
              "      <td>1:06:00</td>\n",
              "      <td>Sunday</td>\n",
              "      <td>18-30</td>\n",
              "      <td>Male</td>\n",
              "      <td>Junior high school</td>\n",
              "      <td>Employee</td>\n",
              "      <td>5-10yr</td>\n",
              "      <td>Public (&gt; 45 seats)</td>\n",
              "      <td>Governmental</td>\n",
              "      <td>NaN</td>\n",
              "      <td>...</td>\n",
              "      <td>Going straight</td>\n",
              "      <td>Pedestrian</td>\n",
              "      <td>Female</td>\n",
              "      <td>18-30</td>\n",
              "      <td>3</td>\n",
              "      <td>Driver</td>\n",
              "      <td>Normal</td>\n",
              "      <td>Not a Pedestrian</td>\n",
              "      <td>Changing lane to the right</td>\n",
              "      <td>Slight Injury</td>\n",
              "    </tr>\n",
              "    <tr>\n",
              "      <th>4</th>\n",
              "      <td>1:06:00</td>\n",
              "      <td>Sunday</td>\n",
              "      <td>18-30</td>\n",
              "      <td>Male</td>\n",
              "      <td>Junior high school</td>\n",
              "      <td>Employee</td>\n",
              "      <td>2-5yr</td>\n",
              "      <td>NaN</td>\n",
              "      <td>Owner</td>\n",
              "      <td>5-10yrs</td>\n",
              "      <td>...</td>\n",
              "      <td>Going straight</td>\n",
              "      <td>na</td>\n",
              "      <td>na</td>\n",
              "      <td>na</td>\n",
              "      <td>na</td>\n",
              "      <td>NaN</td>\n",
              "      <td>NaN</td>\n",
              "      <td>Not a Pedestrian</td>\n",
              "      <td>Overtaking</td>\n",
              "      <td>Slight Injury</td>\n",
              "    </tr>\n",
              "  </tbody>\n",
              "</table>\n",
              "<p>5 rows × 32 columns</p>\n",
              "</div>\n",
              "    <div class=\"colab-df-buttons\">\n",
              "\n",
              "  <div class=\"colab-df-container\">\n",
              "    <button class=\"colab-df-convert\" onclick=\"convertToInteractive('df-478b08d1-6f02-48f0-a9d2-d7fd0bce6d0c')\"\n",
              "            title=\"Convert this dataframe to an interactive table.\"\n",
              "            style=\"display:none;\">\n",
              "\n",
              "  <svg xmlns=\"http://www.w3.org/2000/svg\" height=\"24px\" viewBox=\"0 -960 960 960\">\n",
              "    <path d=\"M120-120v-720h720v720H120Zm60-500h600v-160H180v160Zm220 220h160v-160H400v160Zm0 220h160v-160H400v160ZM180-400h160v-160H180v160Zm440 0h160v-160H620v160ZM180-180h160v-160H180v160Zm440 0h160v-160H620v160Z\"/>\n",
              "  </svg>\n",
              "    </button>\n",
              "\n",
              "  <style>\n",
              "    .colab-df-container {\n",
              "      display:flex;\n",
              "      gap: 12px;\n",
              "    }\n",
              "\n",
              "    .colab-df-convert {\n",
              "      background-color: #E8F0FE;\n",
              "      border: none;\n",
              "      border-radius: 50%;\n",
              "      cursor: pointer;\n",
              "      display: none;\n",
              "      fill: #1967D2;\n",
              "      height: 32px;\n",
              "      padding: 0 0 0 0;\n",
              "      width: 32px;\n",
              "    }\n",
              "\n",
              "    .colab-df-convert:hover {\n",
              "      background-color: #E2EBFA;\n",
              "      box-shadow: 0px 1px 2px rgba(60, 64, 67, 0.3), 0px 1px 3px 1px rgba(60, 64, 67, 0.15);\n",
              "      fill: #174EA6;\n",
              "    }\n",
              "\n",
              "    .colab-df-buttons div {\n",
              "      margin-bottom: 4px;\n",
              "    }\n",
              "\n",
              "    [theme=dark] .colab-df-convert {\n",
              "      background-color: #3B4455;\n",
              "      fill: #D2E3FC;\n",
              "    }\n",
              "\n",
              "    [theme=dark] .colab-df-convert:hover {\n",
              "      background-color: #434B5C;\n",
              "      box-shadow: 0px 1px 3px 1px rgba(0, 0, 0, 0.15);\n",
              "      filter: drop-shadow(0px 1px 2px rgba(0, 0, 0, 0.3));\n",
              "      fill: #FFFFFF;\n",
              "    }\n",
              "  </style>\n",
              "\n",
              "    <script>\n",
              "      const buttonEl =\n",
              "        document.querySelector('#df-478b08d1-6f02-48f0-a9d2-d7fd0bce6d0c button.colab-df-convert');\n",
              "      buttonEl.style.display =\n",
              "        google.colab.kernel.accessAllowed ? 'block' : 'none';\n",
              "\n",
              "      async function convertToInteractive(key) {\n",
              "        const element = document.querySelector('#df-478b08d1-6f02-48f0-a9d2-d7fd0bce6d0c');\n",
              "        const dataTable =\n",
              "          await google.colab.kernel.invokeFunction('convertToInteractive',\n",
              "                                                    [key], {});\n",
              "        if (!dataTable) return;\n",
              "\n",
              "        const docLinkHtml = 'Like what you see? Visit the ' +\n",
              "          '<a target=\"_blank\" href=https://colab.research.google.com/notebooks/data_table.ipynb>data table notebook</a>'\n",
              "          + ' to learn more about interactive tables.';\n",
              "        element.innerHTML = '';\n",
              "        dataTable['output_type'] = 'display_data';\n",
              "        await google.colab.output.renderOutput(dataTable, element);\n",
              "        const docLink = document.createElement('div');\n",
              "        docLink.innerHTML = docLinkHtml;\n",
              "        element.appendChild(docLink);\n",
              "      }\n",
              "    </script>\n",
              "  </div>\n",
              "\n",
              "\n",
              "<div id=\"df-60e8e4df-fca2-4554-b0d3-b8dd7612f0d7\">\n",
              "  <button class=\"colab-df-quickchart\" onclick=\"quickchart('df-60e8e4df-fca2-4554-b0d3-b8dd7612f0d7')\"\n",
              "            title=\"Suggest charts\"\n",
              "            style=\"display:none;\">\n",
              "\n",
              "<svg xmlns=\"http://www.w3.org/2000/svg\" height=\"24px\"viewBox=\"0 0 24 24\"\n",
              "     width=\"24px\">\n",
              "    <g>\n",
              "        <path d=\"M19 3H5c-1.1 0-2 .9-2 2v14c0 1.1.9 2 2 2h14c1.1 0 2-.9 2-2V5c0-1.1-.9-2-2-2zM9 17H7v-7h2v7zm4 0h-2V7h2v10zm4 0h-2v-4h2v4z\"/>\n",
              "    </g>\n",
              "</svg>\n",
              "  </button>\n",
              "\n",
              "<style>\n",
              "  .colab-df-quickchart {\n",
              "      --bg-color: #E8F0FE;\n",
              "      --fill-color: #1967D2;\n",
              "      --hover-bg-color: #E2EBFA;\n",
              "      --hover-fill-color: #174EA6;\n",
              "      --disabled-fill-color: #AAA;\n",
              "      --disabled-bg-color: #DDD;\n",
              "  }\n",
              "\n",
              "  [theme=dark] .colab-df-quickchart {\n",
              "      --bg-color: #3B4455;\n",
              "      --fill-color: #D2E3FC;\n",
              "      --hover-bg-color: #434B5C;\n",
              "      --hover-fill-color: #FFFFFF;\n",
              "      --disabled-bg-color: #3B4455;\n",
              "      --disabled-fill-color: #666;\n",
              "  }\n",
              "\n",
              "  .colab-df-quickchart {\n",
              "    background-color: var(--bg-color);\n",
              "    border: none;\n",
              "    border-radius: 50%;\n",
              "    cursor: pointer;\n",
              "    display: none;\n",
              "    fill: var(--fill-color);\n",
              "    height: 32px;\n",
              "    padding: 0;\n",
              "    width: 32px;\n",
              "  }\n",
              "\n",
              "  .colab-df-quickchart:hover {\n",
              "    background-color: var(--hover-bg-color);\n",
              "    box-shadow: 0 1px 2px rgba(60, 64, 67, 0.3), 0 1px 3px 1px rgba(60, 64, 67, 0.15);\n",
              "    fill: var(--button-hover-fill-color);\n",
              "  }\n",
              "\n",
              "  .colab-df-quickchart-complete:disabled,\n",
              "  .colab-df-quickchart-complete:disabled:hover {\n",
              "    background-color: var(--disabled-bg-color);\n",
              "    fill: var(--disabled-fill-color);\n",
              "    box-shadow: none;\n",
              "  }\n",
              "\n",
              "  .colab-df-spinner {\n",
              "    border: 2px solid var(--fill-color);\n",
              "    border-color: transparent;\n",
              "    border-bottom-color: var(--fill-color);\n",
              "    animation:\n",
              "      spin 1s steps(1) infinite;\n",
              "  }\n",
              "\n",
              "  @keyframes spin {\n",
              "    0% {\n",
              "      border-color: transparent;\n",
              "      border-bottom-color: var(--fill-color);\n",
              "      border-left-color: var(--fill-color);\n",
              "    }\n",
              "    20% {\n",
              "      border-color: transparent;\n",
              "      border-left-color: var(--fill-color);\n",
              "      border-top-color: var(--fill-color);\n",
              "    }\n",
              "    30% {\n",
              "      border-color: transparent;\n",
              "      border-left-color: var(--fill-color);\n",
              "      border-top-color: var(--fill-color);\n",
              "      border-right-color: var(--fill-color);\n",
              "    }\n",
              "    40% {\n",
              "      border-color: transparent;\n",
              "      border-right-color: var(--fill-color);\n",
              "      border-top-color: var(--fill-color);\n",
              "    }\n",
              "    60% {\n",
              "      border-color: transparent;\n",
              "      border-right-color: var(--fill-color);\n",
              "    }\n",
              "    80% {\n",
              "      border-color: transparent;\n",
              "      border-right-color: var(--fill-color);\n",
              "      border-bottom-color: var(--fill-color);\n",
              "    }\n",
              "    90% {\n",
              "      border-color: transparent;\n",
              "      border-bottom-color: var(--fill-color);\n",
              "    }\n",
              "  }\n",
              "</style>\n",
              "\n",
              "  <script>\n",
              "    async function quickchart(key) {\n",
              "      const quickchartButtonEl =\n",
              "        document.querySelector('#' + key + ' button');\n",
              "      quickchartButtonEl.disabled = true;  // To prevent multiple clicks.\n",
              "      quickchartButtonEl.classList.add('colab-df-spinner');\n",
              "      try {\n",
              "        const charts = await google.colab.kernel.invokeFunction(\n",
              "            'suggestCharts', [key], {});\n",
              "      } catch (error) {\n",
              "        console.error('Error during call to suggestCharts:', error);\n",
              "      }\n",
              "      quickchartButtonEl.classList.remove('colab-df-spinner');\n",
              "      quickchartButtonEl.classList.add('colab-df-quickchart-complete');\n",
              "    }\n",
              "    (() => {\n",
              "      let quickchartButtonEl =\n",
              "        document.querySelector('#df-60e8e4df-fca2-4554-b0d3-b8dd7612f0d7 button');\n",
              "      quickchartButtonEl.style.display =\n",
              "        google.colab.kernel.accessAllowed ? 'block' : 'none';\n",
              "    })();\n",
              "  </script>\n",
              "</div>\n",
              "\n",
              "    </div>\n",
              "  </div>\n"
            ],
            "application/vnd.google.colaboratory.intrinsic+json": {
              "type": "dataframe",
              "variable_name": "df"
            }
          },
          "metadata": {},
          "execution_count": 395
        }
      ]
    },
    {
      "cell_type": "code",
      "source": [
        "df.columns"
      ],
      "metadata": {
        "colab": {
          "base_uri": "https://localhost:8080/"
        },
        "id": "EOh5R5YsV0yB",
        "outputId": "6e381695-4f60-47ef-b77c-31f6160ee326"
      },
      "id": "EOh5R5YsV0yB",
      "execution_count": 9,
      "outputs": [
        {
          "output_type": "execute_result",
          "data": {
            "text/plain": [
              "Index(['Time', 'Day_of_week', 'Age_band_of_driver', 'Sex_of_driver',\n",
              "       'Educational_level', 'Vehicle_driver_relation', 'Driving_experience',\n",
              "       'Type_of_vehicle', 'Owner_of_vehicle', 'Service_year_of_vehicle',\n",
              "       'Defect_of_vehicle', 'Area_accident_occured', 'Lanes_or_Medians',\n",
              "       'Road_allignment', 'Types_of_Junction', 'Road_surface_type',\n",
              "       'Road_surface_conditions', 'Light_conditions', 'Weather_conditions',\n",
              "       'Type_of_collision', 'Number_of_vehicles_involved',\n",
              "       'Number_of_casualties', 'Vehicle_movement', 'Casualty_class',\n",
              "       'Sex_of_casualty', 'Age_band_of_casualty', 'Casualty_severity',\n",
              "       'Work_of_casuality', 'Fitness_of_casuality', 'Pedestrian_movement',\n",
              "       'Cause_of_accident', 'Accident_severity'],\n",
              "      dtype='object')"
            ]
          },
          "metadata": {},
          "execution_count": 9
        }
      ]
    },
    {
      "cell_type": "code",
      "source": [
        "df.duplicated().sum()"
      ],
      "metadata": {
        "colab": {
          "base_uri": "https://localhost:8080/"
        },
        "id": "Hm1CJn9mV8hj",
        "outputId": "2a9d6be4-c3f8-4b23-dee7-d22952ab1adf"
      },
      "id": "Hm1CJn9mV8hj",
      "execution_count": 396,
      "outputs": [
        {
          "output_type": "execute_result",
          "data": {
            "text/plain": [
              "0"
            ]
          },
          "metadata": {},
          "execution_count": 396
        }
      ]
    },
    {
      "cell_type": "code",
      "source": [
        "df.isnull().sum()"
      ],
      "metadata": {
        "colab": {
          "base_uri": "https://localhost:8080/",
          "height": 1000
        },
        "id": "qqxiRvjCWELL",
        "outputId": "cfc5cc51-718a-41eb-f4db-6efec3a7eee1"
      },
      "id": "qqxiRvjCWELL",
      "execution_count": 397,
      "outputs": [
        {
          "output_type": "execute_result",
          "data": {
            "text/plain": [
              "Time                              0\n",
              "Day_of_week                       0\n",
              "Age_band_of_driver                0\n",
              "Sex_of_driver                     0\n",
              "Educational_level               741\n",
              "Vehicle_driver_relation         579\n",
              "Driving_experience              829\n",
              "Type_of_vehicle                 950\n",
              "Owner_of_vehicle                482\n",
              "Service_year_of_vehicle        3928\n",
              "Defect_of_vehicle              4427\n",
              "Area_accident_occured           239\n",
              "Lanes_or_Medians                385\n",
              "Road_allignment                 142\n",
              "Types_of_Junction               887\n",
              "Road_surface_type               172\n",
              "Road_surface_conditions           0\n",
              "Light_conditions                  0\n",
              "Weather_conditions                0\n",
              "Type_of_collision               155\n",
              "Number_of_vehicles_involved       0\n",
              "Number_of_casualties              0\n",
              "Vehicle_movement                308\n",
              "Casualty_class                    0\n",
              "Sex_of_casualty                   0\n",
              "Age_band_of_casualty              0\n",
              "Casualty_severity                 0\n",
              "Work_of_casuality              3198\n",
              "Fitness_of_casuality           2635\n",
              "Pedestrian_movement               0\n",
              "Cause_of_accident                 0\n",
              "Accident_severity                 0\n",
              "dtype: int64"
            ],
            "text/html": [
              "<table border=\"1\" class=\"dataframe\">\n",
              "  <thead>\n",
              "    <tr style=\"text-align: right;\">\n",
              "      <th></th>\n",
              "      <th>0</th>\n",
              "    </tr>\n",
              "  </thead>\n",
              "  <tbody>\n",
              "    <tr>\n",
              "      <th>Time</th>\n",
              "      <td>0</td>\n",
              "    </tr>\n",
              "    <tr>\n",
              "      <th>Day_of_week</th>\n",
              "      <td>0</td>\n",
              "    </tr>\n",
              "    <tr>\n",
              "      <th>Age_band_of_driver</th>\n",
              "      <td>0</td>\n",
              "    </tr>\n",
              "    <tr>\n",
              "      <th>Sex_of_driver</th>\n",
              "      <td>0</td>\n",
              "    </tr>\n",
              "    <tr>\n",
              "      <th>Educational_level</th>\n",
              "      <td>741</td>\n",
              "    </tr>\n",
              "    <tr>\n",
              "      <th>Vehicle_driver_relation</th>\n",
              "      <td>579</td>\n",
              "    </tr>\n",
              "    <tr>\n",
              "      <th>Driving_experience</th>\n",
              "      <td>829</td>\n",
              "    </tr>\n",
              "    <tr>\n",
              "      <th>Type_of_vehicle</th>\n",
              "      <td>950</td>\n",
              "    </tr>\n",
              "    <tr>\n",
              "      <th>Owner_of_vehicle</th>\n",
              "      <td>482</td>\n",
              "    </tr>\n",
              "    <tr>\n",
              "      <th>Service_year_of_vehicle</th>\n",
              "      <td>3928</td>\n",
              "    </tr>\n",
              "    <tr>\n",
              "      <th>Defect_of_vehicle</th>\n",
              "      <td>4427</td>\n",
              "    </tr>\n",
              "    <tr>\n",
              "      <th>Area_accident_occured</th>\n",
              "      <td>239</td>\n",
              "    </tr>\n",
              "    <tr>\n",
              "      <th>Lanes_or_Medians</th>\n",
              "      <td>385</td>\n",
              "    </tr>\n",
              "    <tr>\n",
              "      <th>Road_allignment</th>\n",
              "      <td>142</td>\n",
              "    </tr>\n",
              "    <tr>\n",
              "      <th>Types_of_Junction</th>\n",
              "      <td>887</td>\n",
              "    </tr>\n",
              "    <tr>\n",
              "      <th>Road_surface_type</th>\n",
              "      <td>172</td>\n",
              "    </tr>\n",
              "    <tr>\n",
              "      <th>Road_surface_conditions</th>\n",
              "      <td>0</td>\n",
              "    </tr>\n",
              "    <tr>\n",
              "      <th>Light_conditions</th>\n",
              "      <td>0</td>\n",
              "    </tr>\n",
              "    <tr>\n",
              "      <th>Weather_conditions</th>\n",
              "      <td>0</td>\n",
              "    </tr>\n",
              "    <tr>\n",
              "      <th>Type_of_collision</th>\n",
              "      <td>155</td>\n",
              "    </tr>\n",
              "    <tr>\n",
              "      <th>Number_of_vehicles_involved</th>\n",
              "      <td>0</td>\n",
              "    </tr>\n",
              "    <tr>\n",
              "      <th>Number_of_casualties</th>\n",
              "      <td>0</td>\n",
              "    </tr>\n",
              "    <tr>\n",
              "      <th>Vehicle_movement</th>\n",
              "      <td>308</td>\n",
              "    </tr>\n",
              "    <tr>\n",
              "      <th>Casualty_class</th>\n",
              "      <td>0</td>\n",
              "    </tr>\n",
              "    <tr>\n",
              "      <th>Sex_of_casualty</th>\n",
              "      <td>0</td>\n",
              "    </tr>\n",
              "    <tr>\n",
              "      <th>Age_band_of_casualty</th>\n",
              "      <td>0</td>\n",
              "    </tr>\n",
              "    <tr>\n",
              "      <th>Casualty_severity</th>\n",
              "      <td>0</td>\n",
              "    </tr>\n",
              "    <tr>\n",
              "      <th>Work_of_casuality</th>\n",
              "      <td>3198</td>\n",
              "    </tr>\n",
              "    <tr>\n",
              "      <th>Fitness_of_casuality</th>\n",
              "      <td>2635</td>\n",
              "    </tr>\n",
              "    <tr>\n",
              "      <th>Pedestrian_movement</th>\n",
              "      <td>0</td>\n",
              "    </tr>\n",
              "    <tr>\n",
              "      <th>Cause_of_accident</th>\n",
              "      <td>0</td>\n",
              "    </tr>\n",
              "    <tr>\n",
              "      <th>Accident_severity</th>\n",
              "      <td>0</td>\n",
              "    </tr>\n",
              "  </tbody>\n",
              "</table><br><label><b>dtype:</b> int64</label>"
            ]
          },
          "metadata": {},
          "execution_count": 397
        }
      ]
    },
    {
      "cell_type": "markdown",
      "id": "bccfb706",
      "metadata": {
        "id": "bccfb706"
      },
      "source": [
        "## Data Preprocessing\n",
        "Data preprocessing is essential for transforming raw data into a format suitable for further analysis and modeling. Follow these steps to ensure your data is ready for predictive modeling or advanced analytics:\n",
        "- **Handling Missing Values**: Replace missing values with appropriate statistics (mean, median, mode) or use more complex imputation techniques.\n",
        "- **Normalization/Scaling**: Scale data to a small, specified range like 0 to 1, or transform it to have a mean of zero and a standard deviation of one.\n",
        "- **Label Encoding**: Convert categorical text data into model-understandable numbers where the labels are ordered.\n",
        "- **One-Hot Encoding**: Use for nominal categorical data where no ordinal relationship exists to transform the data into a binary column for each category. (Be careful not to increase the dimensionality significantly)\n",
        "- **Detection and Treatment of Outliers**: Use statistical tests, box plots, or scatter plots to identify outliers and then cap, trim, or use robust methods to reduce the effect of outliers, depending on the context.\n",
        "- **Feature Engineering**: Enhance your dataset by creating new features and transforming existing ones. This might involve combining data from different columns, applying transformations, or reducing dimensionality with techniques like PCA to improve model performance.\n",
        "\n",
        "Consider these steps as a foundation, and feel free to introduce additional preprocessing techniques as needed to address specific characteristics of your dataset."
      ]
    },
    {
      "cell_type": "code",
      "execution_count": 398,
      "id": "14c4a6fd",
      "metadata": {
        "colab": {
          "base_uri": "https://localhost:8080/",
          "height": 1000
        },
        "id": "14c4a6fd",
        "outputId": "b2a8b480-1ac8-401a-b44c-9bb2fe540fc2"
      },
      "outputs": [
        {
          "output_type": "execute_result",
          "data": {
            "text/plain": [
              "Time                              0\n",
              "Day_of_week                       0\n",
              "Age_band_of_driver                0\n",
              "Sex_of_driver                     0\n",
              "Educational_level               741\n",
              "Vehicle_driver_relation         579\n",
              "Driving_experience              829\n",
              "Type_of_vehicle                 950\n",
              "Owner_of_vehicle                482\n",
              "Service_year_of_vehicle        3928\n",
              "Defect_of_vehicle              4427\n",
              "Area_accident_occured           239\n",
              "Lanes_or_Medians                385\n",
              "Road_allignment                 142\n",
              "Types_of_Junction               887\n",
              "Road_surface_type               172\n",
              "Road_surface_conditions           0\n",
              "Light_conditions                  0\n",
              "Weather_conditions                0\n",
              "Type_of_collision               155\n",
              "Number_of_vehicles_involved       0\n",
              "Number_of_casualties              0\n",
              "Vehicle_movement                308\n",
              "Casualty_class                    0\n",
              "Sex_of_casualty                   0\n",
              "Age_band_of_casualty              0\n",
              "Casualty_severity                 0\n",
              "Work_of_casuality              3198\n",
              "Fitness_of_casuality           2635\n",
              "Pedestrian_movement               0\n",
              "Cause_of_accident                 0\n",
              "Accident_severity                 0\n",
              "dtype: int64"
            ],
            "text/html": [
              "<table border=\"1\" class=\"dataframe\">\n",
              "  <thead>\n",
              "    <tr style=\"text-align: right;\">\n",
              "      <th></th>\n",
              "      <th>0</th>\n",
              "    </tr>\n",
              "  </thead>\n",
              "  <tbody>\n",
              "    <tr>\n",
              "      <th>Time</th>\n",
              "      <td>0</td>\n",
              "    </tr>\n",
              "    <tr>\n",
              "      <th>Day_of_week</th>\n",
              "      <td>0</td>\n",
              "    </tr>\n",
              "    <tr>\n",
              "      <th>Age_band_of_driver</th>\n",
              "      <td>0</td>\n",
              "    </tr>\n",
              "    <tr>\n",
              "      <th>Sex_of_driver</th>\n",
              "      <td>0</td>\n",
              "    </tr>\n",
              "    <tr>\n",
              "      <th>Educational_level</th>\n",
              "      <td>741</td>\n",
              "    </tr>\n",
              "    <tr>\n",
              "      <th>Vehicle_driver_relation</th>\n",
              "      <td>579</td>\n",
              "    </tr>\n",
              "    <tr>\n",
              "      <th>Driving_experience</th>\n",
              "      <td>829</td>\n",
              "    </tr>\n",
              "    <tr>\n",
              "      <th>Type_of_vehicle</th>\n",
              "      <td>950</td>\n",
              "    </tr>\n",
              "    <tr>\n",
              "      <th>Owner_of_vehicle</th>\n",
              "      <td>482</td>\n",
              "    </tr>\n",
              "    <tr>\n",
              "      <th>Service_year_of_vehicle</th>\n",
              "      <td>3928</td>\n",
              "    </tr>\n",
              "    <tr>\n",
              "      <th>Defect_of_vehicle</th>\n",
              "      <td>4427</td>\n",
              "    </tr>\n",
              "    <tr>\n",
              "      <th>Area_accident_occured</th>\n",
              "      <td>239</td>\n",
              "    </tr>\n",
              "    <tr>\n",
              "      <th>Lanes_or_Medians</th>\n",
              "      <td>385</td>\n",
              "    </tr>\n",
              "    <tr>\n",
              "      <th>Road_allignment</th>\n",
              "      <td>142</td>\n",
              "    </tr>\n",
              "    <tr>\n",
              "      <th>Types_of_Junction</th>\n",
              "      <td>887</td>\n",
              "    </tr>\n",
              "    <tr>\n",
              "      <th>Road_surface_type</th>\n",
              "      <td>172</td>\n",
              "    </tr>\n",
              "    <tr>\n",
              "      <th>Road_surface_conditions</th>\n",
              "      <td>0</td>\n",
              "    </tr>\n",
              "    <tr>\n",
              "      <th>Light_conditions</th>\n",
              "      <td>0</td>\n",
              "    </tr>\n",
              "    <tr>\n",
              "      <th>Weather_conditions</th>\n",
              "      <td>0</td>\n",
              "    </tr>\n",
              "    <tr>\n",
              "      <th>Type_of_collision</th>\n",
              "      <td>155</td>\n",
              "    </tr>\n",
              "    <tr>\n",
              "      <th>Number_of_vehicles_involved</th>\n",
              "      <td>0</td>\n",
              "    </tr>\n",
              "    <tr>\n",
              "      <th>Number_of_casualties</th>\n",
              "      <td>0</td>\n",
              "    </tr>\n",
              "    <tr>\n",
              "      <th>Vehicle_movement</th>\n",
              "      <td>308</td>\n",
              "    </tr>\n",
              "    <tr>\n",
              "      <th>Casualty_class</th>\n",
              "      <td>0</td>\n",
              "    </tr>\n",
              "    <tr>\n",
              "      <th>Sex_of_casualty</th>\n",
              "      <td>0</td>\n",
              "    </tr>\n",
              "    <tr>\n",
              "      <th>Age_band_of_casualty</th>\n",
              "      <td>0</td>\n",
              "    </tr>\n",
              "    <tr>\n",
              "      <th>Casualty_severity</th>\n",
              "      <td>0</td>\n",
              "    </tr>\n",
              "    <tr>\n",
              "      <th>Work_of_casuality</th>\n",
              "      <td>3198</td>\n",
              "    </tr>\n",
              "    <tr>\n",
              "      <th>Fitness_of_casuality</th>\n",
              "      <td>2635</td>\n",
              "    </tr>\n",
              "    <tr>\n",
              "      <th>Pedestrian_movement</th>\n",
              "      <td>0</td>\n",
              "    </tr>\n",
              "    <tr>\n",
              "      <th>Cause_of_accident</th>\n",
              "      <td>0</td>\n",
              "    </tr>\n",
              "    <tr>\n",
              "      <th>Accident_severity</th>\n",
              "      <td>0</td>\n",
              "    </tr>\n",
              "  </tbody>\n",
              "</table><br><label><b>dtype:</b> int64</label>"
            ]
          },
          "metadata": {},
          "execution_count": 398
        }
      ],
      "source": [
        "df.isnull().sum()"
      ]
    },
    {
      "cell_type": "code",
      "source": [
        "df[\"Vehicle_movement\"].value_counts()"
      ],
      "metadata": {
        "colab": {
          "base_uri": "https://localhost:8080/",
          "height": 523
        },
        "id": "NqyJXe5RWx1p",
        "outputId": "23f6c1b0-83ee-4616-895a-b55c6050fa56"
      },
      "id": "NqyJXe5RWx1p",
      "execution_count": 399,
      "outputs": [
        {
          "output_type": "execute_result",
          "data": {
            "text/plain": [
              "Vehicle_movement\n",
              "Going straight         8158\n",
              "Moving Backward         985\n",
              "Other                   937\n",
              "Reversing               563\n",
              "Turnover                489\n",
              "Getting off             339\n",
              "Entering a junction     193\n",
              "Overtaking               96\n",
              "Unknown                  88\n",
              "Stopping                 61\n",
              "U-Turn                   50\n",
              "Waiting to go            39\n",
              "Parked                   10\n",
              "Name: count, dtype: int64"
            ],
            "text/html": [
              "<table border=\"1\" class=\"dataframe\">\n",
              "  <thead>\n",
              "    <tr style=\"text-align: right;\">\n",
              "      <th></th>\n",
              "      <th>count</th>\n",
              "    </tr>\n",
              "    <tr>\n",
              "      <th>Vehicle_movement</th>\n",
              "      <th></th>\n",
              "    </tr>\n",
              "  </thead>\n",
              "  <tbody>\n",
              "    <tr>\n",
              "      <th>Going straight</th>\n",
              "      <td>8158</td>\n",
              "    </tr>\n",
              "    <tr>\n",
              "      <th>Moving Backward</th>\n",
              "      <td>985</td>\n",
              "    </tr>\n",
              "    <tr>\n",
              "      <th>Other</th>\n",
              "      <td>937</td>\n",
              "    </tr>\n",
              "    <tr>\n",
              "      <th>Reversing</th>\n",
              "      <td>563</td>\n",
              "    </tr>\n",
              "    <tr>\n",
              "      <th>Turnover</th>\n",
              "      <td>489</td>\n",
              "    </tr>\n",
              "    <tr>\n",
              "      <th>Getting off</th>\n",
              "      <td>339</td>\n",
              "    </tr>\n",
              "    <tr>\n",
              "      <th>Entering a junction</th>\n",
              "      <td>193</td>\n",
              "    </tr>\n",
              "    <tr>\n",
              "      <th>Overtaking</th>\n",
              "      <td>96</td>\n",
              "    </tr>\n",
              "    <tr>\n",
              "      <th>Unknown</th>\n",
              "      <td>88</td>\n",
              "    </tr>\n",
              "    <tr>\n",
              "      <th>Stopping</th>\n",
              "      <td>61</td>\n",
              "    </tr>\n",
              "    <tr>\n",
              "      <th>U-Turn</th>\n",
              "      <td>50</td>\n",
              "    </tr>\n",
              "    <tr>\n",
              "      <th>Waiting to go</th>\n",
              "      <td>39</td>\n",
              "    </tr>\n",
              "    <tr>\n",
              "      <th>Parked</th>\n",
              "      <td>10</td>\n",
              "    </tr>\n",
              "  </tbody>\n",
              "</table><br><label><b>dtype:</b> int64</label>"
            ]
          },
          "metadata": {},
          "execution_count": 399
        }
      ]
    },
    {
      "cell_type": "code",
      "source": [
        "df[\"Vehicle_movement\"]=df[\"Vehicle_movement\"].fillna(\"Unknown\")"
      ],
      "metadata": {
        "id": "1dynKmIpW17W"
      },
      "id": "1dynKmIpW17W",
      "execution_count": 446,
      "outputs": []
    },
    {
      "cell_type": "code",
      "source": [
        "df[\"Educational_level\"].value_counts()"
      ],
      "metadata": {
        "colab": {
          "base_uri": "https://localhost:8080/",
          "height": 335
        },
        "id": "chb7NfwIXN3L",
        "outputId": "e241930d-0c87-4799-d766-2cbb556af47b"
      },
      "id": "chb7NfwIXN3L",
      "execution_count": 402,
      "outputs": [
        {
          "output_type": "execute_result",
          "data": {
            "text/plain": [
              "Educational_level\n",
              "Junior high school    7619\n",
              "Elementary school     2163\n",
              "High school           1110\n",
              "Above high school      362\n",
              "Writing & reading      176\n",
              "Unknown                100\n",
              "Illiterate              45\n",
              "Name: count, dtype: int64"
            ],
            "text/html": [
              "<table border=\"1\" class=\"dataframe\">\n",
              "  <thead>\n",
              "    <tr style=\"text-align: right;\">\n",
              "      <th></th>\n",
              "      <th>count</th>\n",
              "    </tr>\n",
              "    <tr>\n",
              "      <th>Educational_level</th>\n",
              "      <th></th>\n",
              "    </tr>\n",
              "  </thead>\n",
              "  <tbody>\n",
              "    <tr>\n",
              "      <th>Junior high school</th>\n",
              "      <td>7619</td>\n",
              "    </tr>\n",
              "    <tr>\n",
              "      <th>Elementary school</th>\n",
              "      <td>2163</td>\n",
              "    </tr>\n",
              "    <tr>\n",
              "      <th>High school</th>\n",
              "      <td>1110</td>\n",
              "    </tr>\n",
              "    <tr>\n",
              "      <th>Above high school</th>\n",
              "      <td>362</td>\n",
              "    </tr>\n",
              "    <tr>\n",
              "      <th>Writing &amp; reading</th>\n",
              "      <td>176</td>\n",
              "    </tr>\n",
              "    <tr>\n",
              "      <th>Unknown</th>\n",
              "      <td>100</td>\n",
              "    </tr>\n",
              "    <tr>\n",
              "      <th>Illiterate</th>\n",
              "      <td>45</td>\n",
              "    </tr>\n",
              "  </tbody>\n",
              "</table><br><label><b>dtype:</b> int64</label>"
            ]
          },
          "metadata": {},
          "execution_count": 402
        }
      ]
    },
    {
      "cell_type": "code",
      "source": [
        "df[\"Educational_level\"]=df[\"Educational_level\"].fillna(\"Unknown\")"
      ],
      "metadata": {
        "id": "NJlGA_37XcaO"
      },
      "id": "NJlGA_37XcaO",
      "execution_count": 448,
      "outputs": []
    },
    {
      "cell_type": "code",
      "source": [
        "df[\"Vehicle_driver_relation\"].value_counts()"
      ],
      "metadata": {
        "colab": {
          "base_uri": "https://localhost:8080/",
          "height": 241
        },
        "id": "fubkbttOXi2K",
        "outputId": "d29eeb38-34f2-4d6f-da3a-08a0d982c10d"
      },
      "id": "fubkbttOXi2K",
      "execution_count": 447,
      "outputs": [
        {
          "output_type": "execute_result",
          "data": {
            "text/plain": [
              "Vehicle_driver_relation\n",
              "Employee    9627\n",
              "Owner       1973\n",
              "Other        123\n",
              "Unknown       14\n",
              "Name: count, dtype: int64"
            ],
            "text/html": [
              "<table border=\"1\" class=\"dataframe\">\n",
              "  <thead>\n",
              "    <tr style=\"text-align: right;\">\n",
              "      <th></th>\n",
              "      <th>count</th>\n",
              "    </tr>\n",
              "    <tr>\n",
              "      <th>Vehicle_driver_relation</th>\n",
              "      <th></th>\n",
              "    </tr>\n",
              "  </thead>\n",
              "  <tbody>\n",
              "    <tr>\n",
              "      <th>Employee</th>\n",
              "      <td>9627</td>\n",
              "    </tr>\n",
              "    <tr>\n",
              "      <th>Owner</th>\n",
              "      <td>1973</td>\n",
              "    </tr>\n",
              "    <tr>\n",
              "      <th>Other</th>\n",
              "      <td>123</td>\n",
              "    </tr>\n",
              "    <tr>\n",
              "      <th>Unknown</th>\n",
              "      <td>14</td>\n",
              "    </tr>\n",
              "  </tbody>\n",
              "</table><br><label><b>dtype:</b> int64</label>"
            ]
          },
          "metadata": {},
          "execution_count": 447
        }
      ]
    },
    {
      "cell_type": "code",
      "source": [
        "df[\"Vehicle_driver_relation\"]=df[\"Vehicle_driver_relation\"].fillna(\"Unknown\")"
      ],
      "metadata": {
        "id": "R_Btozd8YDRH"
      },
      "id": "R_Btozd8YDRH",
      "execution_count": 449,
      "outputs": []
    },
    {
      "cell_type": "code",
      "source": [
        "df[\"Driving_experience\"].value_counts()"
      ],
      "metadata": {
        "colab": {
          "base_uri": "https://localhost:8080/",
          "height": 335
        },
        "id": "6yB7JdoWYNhZ",
        "outputId": "286654be-17f3-4b85-b7db-8cf313225412"
      },
      "id": "6yB7JdoWYNhZ",
      "execution_count": 408,
      "outputs": [
        {
          "output_type": "execute_result",
          "data": {
            "text/plain": [
              "Driving_experience\n",
              "5-10yr        3363\n",
              "2-5yr         2613\n",
              "Above 10yr    2262\n",
              "1-2yr         1756\n",
              "Below 1yr     1342\n",
              "unknown        862\n",
              "No Licence     118\n",
              "Name: count, dtype: int64"
            ],
            "text/html": [
              "<table border=\"1\" class=\"dataframe\">\n",
              "  <thead>\n",
              "    <tr style=\"text-align: right;\">\n",
              "      <th></th>\n",
              "      <th>count</th>\n",
              "    </tr>\n",
              "    <tr>\n",
              "      <th>Driving_experience</th>\n",
              "      <th></th>\n",
              "    </tr>\n",
              "  </thead>\n",
              "  <tbody>\n",
              "    <tr>\n",
              "      <th>5-10yr</th>\n",
              "      <td>3363</td>\n",
              "    </tr>\n",
              "    <tr>\n",
              "      <th>2-5yr</th>\n",
              "      <td>2613</td>\n",
              "    </tr>\n",
              "    <tr>\n",
              "      <th>Above 10yr</th>\n",
              "      <td>2262</td>\n",
              "    </tr>\n",
              "    <tr>\n",
              "      <th>1-2yr</th>\n",
              "      <td>1756</td>\n",
              "    </tr>\n",
              "    <tr>\n",
              "      <th>Below 1yr</th>\n",
              "      <td>1342</td>\n",
              "    </tr>\n",
              "    <tr>\n",
              "      <th>unknown</th>\n",
              "      <td>862</td>\n",
              "    </tr>\n",
              "    <tr>\n",
              "      <th>No Licence</th>\n",
              "      <td>118</td>\n",
              "    </tr>\n",
              "  </tbody>\n",
              "</table><br><label><b>dtype:</b> int64</label>"
            ]
          },
          "metadata": {},
          "execution_count": 408
        }
      ]
    },
    {
      "cell_type": "code",
      "source": [
        "df[\"Driving_experience\"]=df[\"Driving_experience\"].fillna(\"unknown\")"
      ],
      "metadata": {
        "id": "f8bMevdrYax1"
      },
      "id": "f8bMevdrYax1",
      "execution_count": 450,
      "outputs": []
    },
    {
      "cell_type": "code",
      "source": [
        "df[\"Type_of_vehicle\"].value_counts()"
      ],
      "metadata": {
        "colab": {
          "base_uri": "https://localhost:8080/",
          "height": 648
        },
        "id": "CMjX3osOYf2l",
        "outputId": "be6be584-ebc5-4857-84ff-1965cd9c14ba"
      },
      "id": "CMjX3osOYf2l",
      "execution_count": 410,
      "outputs": [
        {
          "output_type": "execute_result",
          "data": {
            "text/plain": [
              "Type_of_vehicle\n",
              "Automobile              3205\n",
              "Lorry (41?100Q)         2186\n",
              "Other                   1208\n",
              "Pick up upto 10Q         811\n",
              "Public (12 seats)        711\n",
              "Stationwagen             687\n",
              "Lorry (11?40Q)           541\n",
              "Public (13?45 seats)     532\n",
              "Public (> 45 seats)      404\n",
              "Long lorry               383\n",
              "Taxi                     265\n",
              "Motorcycle               177\n",
              "Special vehicle           84\n",
              "Ridden horse              76\n",
              "Turbo                     46\n",
              "Bajaj                     29\n",
              "Bicycle                   21\n",
              "Name: count, dtype: int64"
            ],
            "text/html": [
              "<table border=\"1\" class=\"dataframe\">\n",
              "  <thead>\n",
              "    <tr style=\"text-align: right;\">\n",
              "      <th></th>\n",
              "      <th>count</th>\n",
              "    </tr>\n",
              "    <tr>\n",
              "      <th>Type_of_vehicle</th>\n",
              "      <th></th>\n",
              "    </tr>\n",
              "  </thead>\n",
              "  <tbody>\n",
              "    <tr>\n",
              "      <th>Automobile</th>\n",
              "      <td>3205</td>\n",
              "    </tr>\n",
              "    <tr>\n",
              "      <th>Lorry (41?100Q)</th>\n",
              "      <td>2186</td>\n",
              "    </tr>\n",
              "    <tr>\n",
              "      <th>Other</th>\n",
              "      <td>1208</td>\n",
              "    </tr>\n",
              "    <tr>\n",
              "      <th>Pick up upto 10Q</th>\n",
              "      <td>811</td>\n",
              "    </tr>\n",
              "    <tr>\n",
              "      <th>Public (12 seats)</th>\n",
              "      <td>711</td>\n",
              "    </tr>\n",
              "    <tr>\n",
              "      <th>Stationwagen</th>\n",
              "      <td>687</td>\n",
              "    </tr>\n",
              "    <tr>\n",
              "      <th>Lorry (11?40Q)</th>\n",
              "      <td>541</td>\n",
              "    </tr>\n",
              "    <tr>\n",
              "      <th>Public (13?45 seats)</th>\n",
              "      <td>532</td>\n",
              "    </tr>\n",
              "    <tr>\n",
              "      <th>Public (&gt; 45 seats)</th>\n",
              "      <td>404</td>\n",
              "    </tr>\n",
              "    <tr>\n",
              "      <th>Long lorry</th>\n",
              "      <td>383</td>\n",
              "    </tr>\n",
              "    <tr>\n",
              "      <th>Taxi</th>\n",
              "      <td>265</td>\n",
              "    </tr>\n",
              "    <tr>\n",
              "      <th>Motorcycle</th>\n",
              "      <td>177</td>\n",
              "    </tr>\n",
              "    <tr>\n",
              "      <th>Special vehicle</th>\n",
              "      <td>84</td>\n",
              "    </tr>\n",
              "    <tr>\n",
              "      <th>Ridden horse</th>\n",
              "      <td>76</td>\n",
              "    </tr>\n",
              "    <tr>\n",
              "      <th>Turbo</th>\n",
              "      <td>46</td>\n",
              "    </tr>\n",
              "    <tr>\n",
              "      <th>Bajaj</th>\n",
              "      <td>29</td>\n",
              "    </tr>\n",
              "    <tr>\n",
              "      <th>Bicycle</th>\n",
              "      <td>21</td>\n",
              "    </tr>\n",
              "  </tbody>\n",
              "</table><br><label><b>dtype:</b> int64</label>"
            ]
          },
          "metadata": {},
          "execution_count": 410
        }
      ]
    },
    {
      "cell_type": "code",
      "source": [
        "#what to do for the type of veichel"
      ],
      "metadata": {
        "id": "UObrqqwGYq5k"
      },
      "id": "UObrqqwGYq5k",
      "execution_count": null,
      "outputs": []
    },
    {
      "cell_type": "code",
      "source": [
        "df[\"Owner_of_vehicle\"].value_counts()"
      ],
      "metadata": {
        "colab": {
          "base_uri": "https://localhost:8080/",
          "height": 241
        },
        "id": "WLKLUXCoYq84",
        "outputId": "da762381-212e-44c2-bda8-2c791fddc6ee"
      },
      "id": "WLKLUXCoYq84",
      "execution_count": 411,
      "outputs": [
        {
          "output_type": "execute_result",
          "data": {
            "text/plain": [
              "Owner_of_vehicle\n",
              "Owner           10459\n",
              "Governmental     1041\n",
              "Organization      312\n",
              "Other              22\n",
              "Name: count, dtype: int64"
            ],
            "text/html": [
              "<table border=\"1\" class=\"dataframe\">\n",
              "  <thead>\n",
              "    <tr style=\"text-align: right;\">\n",
              "      <th></th>\n",
              "      <th>count</th>\n",
              "    </tr>\n",
              "    <tr>\n",
              "      <th>Owner_of_vehicle</th>\n",
              "      <th></th>\n",
              "    </tr>\n",
              "  </thead>\n",
              "  <tbody>\n",
              "    <tr>\n",
              "      <th>Owner</th>\n",
              "      <td>10459</td>\n",
              "    </tr>\n",
              "    <tr>\n",
              "      <th>Governmental</th>\n",
              "      <td>1041</td>\n",
              "    </tr>\n",
              "    <tr>\n",
              "      <th>Organization</th>\n",
              "      <td>312</td>\n",
              "    </tr>\n",
              "    <tr>\n",
              "      <th>Other</th>\n",
              "      <td>22</td>\n",
              "    </tr>\n",
              "  </tbody>\n",
              "</table><br><label><b>dtype:</b> int64</label>"
            ]
          },
          "metadata": {},
          "execution_count": 411
        }
      ]
    },
    {
      "cell_type": "code",
      "source": [
        "df[\"Owner_of_vehicle\"]=df[\"Owner_of_vehicle\"].fillna(df[\"Owner_of_vehicle\"].mode()[0])"
      ],
      "metadata": {
        "id": "ngHFguAzYxYG"
      },
      "id": "ngHFguAzYxYG",
      "execution_count": 451,
      "outputs": []
    },
    {
      "cell_type": "code",
      "source": [
        "#since the rows are 12316 and 3928 is null and 2883 is unknown, it is better to drop the column\n",
        "print(df[\"Service_year_of_vehicle\"].value_counts())\n",
        "print(df[\"Service_year_of_vehicle\"].isnull().sum())"
      ],
      "metadata": {
        "colab": {
          "base_uri": "https://localhost:8080/"
        },
        "id": "-YuoLGPWZWOH",
        "outputId": "73effdb7-333b-483b-a71a-2bb5ac6f1732"
      },
      "id": "-YuoLGPWZWOH",
      "execution_count": 452,
      "outputs": [
        {
          "output_type": "stream",
          "name": "stdout",
          "text": [
            "Service_year_of_vehicle\n",
            "Unknown       2883\n",
            "2-5yrs        1792\n",
            "Above 10yr    1324\n",
            "5-10yrs       1280\n",
            "1-2yr          827\n",
            "Below 1yr      282\n",
            "Name: count, dtype: int64\n",
            "3928\n"
          ]
        }
      ]
    },
    {
      "cell_type": "code",
      "source": [
        "df=df.drop([\"Service_year_of_vehicle\"],axis=1)"
      ],
      "metadata": {
        "id": "Xmc7qnhxaSRU"
      },
      "id": "Xmc7qnhxaSRU",
      "execution_count": 453,
      "outputs": []
    },
    {
      "cell_type": "code",
      "source": [
        "#since the rows are 12316 and 4427 is null and some weird values it is better to drop it\n",
        "print(df[\"Defect_of_vehicle\"].value_counts())\n",
        "print(df[\"Defect_of_vehicle\"].isnull().sum())"
      ],
      "metadata": {
        "colab": {
          "base_uri": "https://localhost:8080/"
        },
        "id": "BktAooobZs-C",
        "outputId": "4a8b21f5-b442-42dc-b6ee-e1eed0b3f724"
      },
      "id": "BktAooobZs-C",
      "execution_count": 415,
      "outputs": [
        {
          "output_type": "stream",
          "name": "stdout",
          "text": [
            "Defect_of_vehicle\n",
            "No defect    7777\n",
            "7              76\n",
            "5              36\n",
            "Name: count, dtype: int64\n",
            "4427\n"
          ]
        }
      ]
    },
    {
      "cell_type": "code",
      "source": [
        "df=df.drop([\"Defect_of_vehicle\"],axis=1)"
      ],
      "metadata": {
        "id": "6RZFXg1GbE3-"
      },
      "id": "6RZFXg1GbE3-",
      "execution_count": 454,
      "outputs": []
    },
    {
      "cell_type": "code",
      "source": [
        "df[\"Area_accident_occured\"].value_counts()"
      ],
      "metadata": {
        "colab": {
          "base_uri": "https://localhost:8080/",
          "height": 554
        },
        "id": "SRuu3n7lbIvE",
        "outputId": "e6641c51-9e8f-45a0-cdff-785a31febefd"
      },
      "id": "SRuu3n7lbIvE",
      "execution_count": 455,
      "outputs": [
        {
          "output_type": "execute_result",
          "data": {
            "text/plain": [
              "Area_accident_occured\n",
              "Other                              3819\n",
              "Office areas                       3451\n",
              "Residential areas                  2060\n",
              " Church areas                      1060\n",
              " Industrial areas                   456\n",
              "School areas                        415\n",
              "  Recreational areas                327\n",
              " Outside rural areas                218\n",
              " Hospital areas                     121\n",
              "  Market areas                       63\n",
              "Rural village areas                  44\n",
              "Unknown                              22\n",
              "Rural village areasOffice areas      20\n",
              "Recreational areas                    1\n",
              "Name: count, dtype: int64"
            ],
            "text/html": [
              "<table border=\"1\" class=\"dataframe\">\n",
              "  <thead>\n",
              "    <tr style=\"text-align: right;\">\n",
              "      <th></th>\n",
              "      <th>count</th>\n",
              "    </tr>\n",
              "    <tr>\n",
              "      <th>Area_accident_occured</th>\n",
              "      <th></th>\n",
              "    </tr>\n",
              "  </thead>\n",
              "  <tbody>\n",
              "    <tr>\n",
              "      <th>Other</th>\n",
              "      <td>3819</td>\n",
              "    </tr>\n",
              "    <tr>\n",
              "      <th>Office areas</th>\n",
              "      <td>3451</td>\n",
              "    </tr>\n",
              "    <tr>\n",
              "      <th>Residential areas</th>\n",
              "      <td>2060</td>\n",
              "    </tr>\n",
              "    <tr>\n",
              "      <th>Church areas</th>\n",
              "      <td>1060</td>\n",
              "    </tr>\n",
              "    <tr>\n",
              "      <th>Industrial areas</th>\n",
              "      <td>456</td>\n",
              "    </tr>\n",
              "    <tr>\n",
              "      <th>School areas</th>\n",
              "      <td>415</td>\n",
              "    </tr>\n",
              "    <tr>\n",
              "      <th>Recreational areas</th>\n",
              "      <td>327</td>\n",
              "    </tr>\n",
              "    <tr>\n",
              "      <th>Outside rural areas</th>\n",
              "      <td>218</td>\n",
              "    </tr>\n",
              "    <tr>\n",
              "      <th>Hospital areas</th>\n",
              "      <td>121</td>\n",
              "    </tr>\n",
              "    <tr>\n",
              "      <th>Market areas</th>\n",
              "      <td>63</td>\n",
              "    </tr>\n",
              "    <tr>\n",
              "      <th>Rural village areas</th>\n",
              "      <td>44</td>\n",
              "    </tr>\n",
              "    <tr>\n",
              "      <th>Unknown</th>\n",
              "      <td>22</td>\n",
              "    </tr>\n",
              "    <tr>\n",
              "      <th>Rural village areasOffice areas</th>\n",
              "      <td>20</td>\n",
              "    </tr>\n",
              "    <tr>\n",
              "      <th>Recreational areas</th>\n",
              "      <td>1</td>\n",
              "    </tr>\n",
              "  </tbody>\n",
              "</table><br><label><b>dtype:</b> int64</label>"
            ]
          },
          "metadata": {},
          "execution_count": 455
        }
      ]
    },
    {
      "cell_type": "code",
      "source": [
        "df[\"Area_accident_occured\"]=df[\"Area_accident_occured\"].fillna(df[\"Area_accident_occured\"].mode()[0])"
      ],
      "metadata": {
        "id": "0F6E4Edubeqi"
      },
      "id": "0F6E4Edubeqi",
      "execution_count": 456,
      "outputs": []
    },
    {
      "cell_type": "code",
      "source": [
        "df[\"Lanes_or_Medians\"].value_counts()"
      ],
      "metadata": {
        "colab": {
          "base_uri": "https://localhost:8080/",
          "height": 335
        },
        "id": "BJiVusFTbpA9",
        "outputId": "39da8e97-2a27-4d8b-ea40-cbca55867fcd"
      },
      "id": "BJiVusFTbpA9",
      "execution_count": 457,
      "outputs": [
        {
          "output_type": "execute_result",
          "data": {
            "text/plain": [
              "Lanes_or_Medians\n",
              "Two-way (divided with broken lines road marking)    4411\n",
              "Undivided Two way                                   3796\n",
              "other                                               1660\n",
              "Double carriageway (median)                         1020\n",
              "One way                                              845\n",
              "Two-way (divided with solid lines road marking)      142\n",
              "Unknown                                               57\n",
              "Name: count, dtype: int64"
            ],
            "text/html": [
              "<table border=\"1\" class=\"dataframe\">\n",
              "  <thead>\n",
              "    <tr style=\"text-align: right;\">\n",
              "      <th></th>\n",
              "      <th>count</th>\n",
              "    </tr>\n",
              "    <tr>\n",
              "      <th>Lanes_or_Medians</th>\n",
              "      <th></th>\n",
              "    </tr>\n",
              "  </thead>\n",
              "  <tbody>\n",
              "    <tr>\n",
              "      <th>Two-way (divided with broken lines road marking)</th>\n",
              "      <td>4411</td>\n",
              "    </tr>\n",
              "    <tr>\n",
              "      <th>Undivided Two way</th>\n",
              "      <td>3796</td>\n",
              "    </tr>\n",
              "    <tr>\n",
              "      <th>other</th>\n",
              "      <td>1660</td>\n",
              "    </tr>\n",
              "    <tr>\n",
              "      <th>Double carriageway (median)</th>\n",
              "      <td>1020</td>\n",
              "    </tr>\n",
              "    <tr>\n",
              "      <th>One way</th>\n",
              "      <td>845</td>\n",
              "    </tr>\n",
              "    <tr>\n",
              "      <th>Two-way (divided with solid lines road marking)</th>\n",
              "      <td>142</td>\n",
              "    </tr>\n",
              "    <tr>\n",
              "      <th>Unknown</th>\n",
              "      <td>57</td>\n",
              "    </tr>\n",
              "  </tbody>\n",
              "</table><br><label><b>dtype:</b> int64</label>"
            ]
          },
          "metadata": {},
          "execution_count": 457
        }
      ]
    },
    {
      "cell_type": "code",
      "source": [
        "df[\"Lanes_or_Medians\"]=df[\"Lanes_or_Medians\"].fillna(\"Unknown\")"
      ],
      "metadata": {
        "id": "9AO6NV9MbuKV"
      },
      "id": "9AO6NV9MbuKV",
      "execution_count": 458,
      "outputs": []
    },
    {
      "cell_type": "code",
      "source": [
        "df[\"Road_allignment\"].value_counts()"
      ],
      "metadata": {
        "colab": {
          "base_uri": "https://localhost:8080/",
          "height": 397
        },
        "id": "ya_NPyhUb80t",
        "outputId": "459538a3-471e-49c2-85be-bc7850e00e3b"
      },
      "id": "ya_NPyhUb80t",
      "execution_count": 421,
      "outputs": [
        {
          "output_type": "execute_result",
          "data": {
            "text/plain": [
              "Road_allignment\n",
              "Tangent road with flat terrain                   10459\n",
              "Tangent road with mild grade and flat terrain      501\n",
              "Steep grade downward with mountainous terrain      429\n",
              "Tangent road with mountainous terrain and          396\n",
              "Gentle horizontal curve                            163\n",
              "Escarpments                                        113\n",
              "Sharp reverse curve                                 57\n",
              "Tangent road with rolling terrain                   37\n",
              "Steep grade upward with mountainous terrain         19\n",
              "Name: count, dtype: int64"
            ],
            "text/html": [
              "<table border=\"1\" class=\"dataframe\">\n",
              "  <thead>\n",
              "    <tr style=\"text-align: right;\">\n",
              "      <th></th>\n",
              "      <th>count</th>\n",
              "    </tr>\n",
              "    <tr>\n",
              "      <th>Road_allignment</th>\n",
              "      <th></th>\n",
              "    </tr>\n",
              "  </thead>\n",
              "  <tbody>\n",
              "    <tr>\n",
              "      <th>Tangent road with flat terrain</th>\n",
              "      <td>10459</td>\n",
              "    </tr>\n",
              "    <tr>\n",
              "      <th>Tangent road with mild grade and flat terrain</th>\n",
              "      <td>501</td>\n",
              "    </tr>\n",
              "    <tr>\n",
              "      <th>Steep grade downward with mountainous terrain</th>\n",
              "      <td>429</td>\n",
              "    </tr>\n",
              "    <tr>\n",
              "      <th>Tangent road with mountainous terrain and</th>\n",
              "      <td>396</td>\n",
              "    </tr>\n",
              "    <tr>\n",
              "      <th>Gentle horizontal curve</th>\n",
              "      <td>163</td>\n",
              "    </tr>\n",
              "    <tr>\n",
              "      <th>Escarpments</th>\n",
              "      <td>113</td>\n",
              "    </tr>\n",
              "    <tr>\n",
              "      <th>Sharp reverse curve</th>\n",
              "      <td>57</td>\n",
              "    </tr>\n",
              "    <tr>\n",
              "      <th>Tangent road with rolling terrain</th>\n",
              "      <td>37</td>\n",
              "    </tr>\n",
              "    <tr>\n",
              "      <th>Steep grade upward with mountainous terrain</th>\n",
              "      <td>19</td>\n",
              "    </tr>\n",
              "  </tbody>\n",
              "</table><br><label><b>dtype:</b> int64</label>"
            ]
          },
          "metadata": {},
          "execution_count": 421
        }
      ]
    },
    {
      "cell_type": "code",
      "source": [
        "df[\"Road_allignment\"]=df[\"Road_allignment\"].fillna(df[\"Road_allignment\"].mode()[0])"
      ],
      "metadata": {
        "id": "FkXl41tmcOHH"
      },
      "id": "FkXl41tmcOHH",
      "execution_count": 459,
      "outputs": []
    },
    {
      "cell_type": "code",
      "source": [
        "df[\"Types_of_Junction\"].value_counts()"
      ],
      "metadata": {
        "colab": {
          "base_uri": "https://localhost:8080/",
          "height": 366
        },
        "id": "PqrBzIyFcQoL",
        "outputId": "00a1de38-d5a0-4f63-b2b3-f2ae44589730"
      },
      "id": "PqrBzIyFcQoL",
      "execution_count": 423,
      "outputs": [
        {
          "output_type": "execute_result",
          "data": {
            "text/plain": [
              "Types_of_Junction\n",
              "Y Shape        4543\n",
              "No junction    3837\n",
              "Crossing       2177\n",
              "Other           445\n",
              "Unknown         191\n",
              "O Shape         164\n",
              "T Shape          60\n",
              "X Shape          12\n",
              "Name: count, dtype: int64"
            ],
            "text/html": [
              "<table border=\"1\" class=\"dataframe\">\n",
              "  <thead>\n",
              "    <tr style=\"text-align: right;\">\n",
              "      <th></th>\n",
              "      <th>count</th>\n",
              "    </tr>\n",
              "    <tr>\n",
              "      <th>Types_of_Junction</th>\n",
              "      <th></th>\n",
              "    </tr>\n",
              "  </thead>\n",
              "  <tbody>\n",
              "    <tr>\n",
              "      <th>Y Shape</th>\n",
              "      <td>4543</td>\n",
              "    </tr>\n",
              "    <tr>\n",
              "      <th>No junction</th>\n",
              "      <td>3837</td>\n",
              "    </tr>\n",
              "    <tr>\n",
              "      <th>Crossing</th>\n",
              "      <td>2177</td>\n",
              "    </tr>\n",
              "    <tr>\n",
              "      <th>Other</th>\n",
              "      <td>445</td>\n",
              "    </tr>\n",
              "    <tr>\n",
              "      <th>Unknown</th>\n",
              "      <td>191</td>\n",
              "    </tr>\n",
              "    <tr>\n",
              "      <th>O Shape</th>\n",
              "      <td>164</td>\n",
              "    </tr>\n",
              "    <tr>\n",
              "      <th>T Shape</th>\n",
              "      <td>60</td>\n",
              "    </tr>\n",
              "    <tr>\n",
              "      <th>X Shape</th>\n",
              "      <td>12</td>\n",
              "    </tr>\n",
              "  </tbody>\n",
              "</table><br><label><b>dtype:</b> int64</label>"
            ]
          },
          "metadata": {},
          "execution_count": 423
        }
      ]
    },
    {
      "cell_type": "code",
      "source": [
        "df[\"Types_of_Junction\"]=df[\"Type_of_vehicle\"].fillna(\"Unknown\")"
      ],
      "metadata": {
        "id": "F0Y8lx2_cYfP"
      },
      "id": "F0Y8lx2_cYfP",
      "execution_count": 460,
      "outputs": []
    },
    {
      "cell_type": "code",
      "source": [
        "df[\"Road_surface_type\"].value_counts()"
      ],
      "metadata": {
        "colab": {
          "base_uri": "https://localhost:8080/",
          "height": 272
        },
        "id": "I_pEUUr-ceTE",
        "outputId": "406d1e58-8eb2-4c97-8f5e-ec77574ef63b"
      },
      "id": "I_pEUUr-ceTE",
      "execution_count": 425,
      "outputs": [
        {
          "output_type": "execute_result",
          "data": {
            "text/plain": [
              "Road_surface_type\n",
              "Asphalt roads                       11296\n",
              "Earth roads                           358\n",
              "Gravel roads                          242\n",
              "Other                                 167\n",
              "Asphalt roads with some distress       81\n",
              "Name: count, dtype: int64"
            ],
            "text/html": [
              "<table border=\"1\" class=\"dataframe\">\n",
              "  <thead>\n",
              "    <tr style=\"text-align: right;\">\n",
              "      <th></th>\n",
              "      <th>count</th>\n",
              "    </tr>\n",
              "    <tr>\n",
              "      <th>Road_surface_type</th>\n",
              "      <th></th>\n",
              "    </tr>\n",
              "  </thead>\n",
              "  <tbody>\n",
              "    <tr>\n",
              "      <th>Asphalt roads</th>\n",
              "      <td>11296</td>\n",
              "    </tr>\n",
              "    <tr>\n",
              "      <th>Earth roads</th>\n",
              "      <td>358</td>\n",
              "    </tr>\n",
              "    <tr>\n",
              "      <th>Gravel roads</th>\n",
              "      <td>242</td>\n",
              "    </tr>\n",
              "    <tr>\n",
              "      <th>Other</th>\n",
              "      <td>167</td>\n",
              "    </tr>\n",
              "    <tr>\n",
              "      <th>Asphalt roads with some distress</th>\n",
              "      <td>81</td>\n",
              "    </tr>\n",
              "  </tbody>\n",
              "</table><br><label><b>dtype:</b> int64</label>"
            ]
          },
          "metadata": {},
          "execution_count": 425
        }
      ]
    },
    {
      "cell_type": "code",
      "source": [
        "df[\"Road_surface_type\"]=df[\"Road_surface_type\"].fillna(df[\"Road_surface_type\"].mode()[0])"
      ],
      "metadata": {
        "id": "PcEQlClyciEk"
      },
      "id": "PcEQlClyciEk",
      "execution_count": 461,
      "outputs": []
    },
    {
      "cell_type": "code",
      "source": [
        "df[\"Type_of_collision\"].value_counts()"
      ],
      "metadata": {
        "colab": {
          "base_uri": "https://localhost:8080/",
          "height": 429
        },
        "id": "X9MyQhEoctys",
        "outputId": "30ea72af-73a1-4daa-8d49-6cfb951a7703"
      },
      "id": "X9MyQhEoctys",
      "execution_count": 427,
      "outputs": [
        {
          "output_type": "execute_result",
          "data": {
            "text/plain": [
              "Type_of_collision\n",
              "Vehicle with vehicle collision             8774\n",
              "Collision with roadside objects            1786\n",
              "Collision with pedestrians                  896\n",
              "Rollover                                    397\n",
              "Collision with animals                      171\n",
              "Collision with roadside-parked vehicles      54\n",
              "Fall from vehicles                           34\n",
              "Other                                        26\n",
              "Unknown                                      14\n",
              "With Train                                    9\n",
              "Name: count, dtype: int64"
            ],
            "text/html": [
              "<table border=\"1\" class=\"dataframe\">\n",
              "  <thead>\n",
              "    <tr style=\"text-align: right;\">\n",
              "      <th></th>\n",
              "      <th>count</th>\n",
              "    </tr>\n",
              "    <tr>\n",
              "      <th>Type_of_collision</th>\n",
              "      <th></th>\n",
              "    </tr>\n",
              "  </thead>\n",
              "  <tbody>\n",
              "    <tr>\n",
              "      <th>Vehicle with vehicle collision</th>\n",
              "      <td>8774</td>\n",
              "    </tr>\n",
              "    <tr>\n",
              "      <th>Collision with roadside objects</th>\n",
              "      <td>1786</td>\n",
              "    </tr>\n",
              "    <tr>\n",
              "      <th>Collision with pedestrians</th>\n",
              "      <td>896</td>\n",
              "    </tr>\n",
              "    <tr>\n",
              "      <th>Rollover</th>\n",
              "      <td>397</td>\n",
              "    </tr>\n",
              "    <tr>\n",
              "      <th>Collision with animals</th>\n",
              "      <td>171</td>\n",
              "    </tr>\n",
              "    <tr>\n",
              "      <th>Collision with roadside-parked vehicles</th>\n",
              "      <td>54</td>\n",
              "    </tr>\n",
              "    <tr>\n",
              "      <th>Fall from vehicles</th>\n",
              "      <td>34</td>\n",
              "    </tr>\n",
              "    <tr>\n",
              "      <th>Other</th>\n",
              "      <td>26</td>\n",
              "    </tr>\n",
              "    <tr>\n",
              "      <th>Unknown</th>\n",
              "      <td>14</td>\n",
              "    </tr>\n",
              "    <tr>\n",
              "      <th>With Train</th>\n",
              "      <td>9</td>\n",
              "    </tr>\n",
              "  </tbody>\n",
              "</table><br><label><b>dtype:</b> int64</label>"
            ]
          },
          "metadata": {},
          "execution_count": 427
        }
      ]
    },
    {
      "cell_type": "code",
      "source": [
        "df[\"Type_of_collision\"]=df[\"Type_of_collision\"].fillna(\"Unknown\")"
      ],
      "metadata": {
        "id": "lK37bc8UdbTu"
      },
      "id": "lK37bc8UdbTu",
      "execution_count": 462,
      "outputs": []
    },
    {
      "cell_type": "code",
      "source": [
        "#since there are 3198 nulls we will drop the column\n",
        "print(df[\"Work_of_casuality\"].value_counts())\n",
        "print(df[\"Work_of_casuality\"].isnull().sum())"
      ],
      "metadata": {
        "colab": {
          "base_uri": "https://localhost:8080/"
        },
        "id": "x5CEB-ITdi60",
        "outputId": "1aa225fd-3774-42a7-9a91-a7c2bd574a98"
      },
      "id": "x5CEB-ITdi60",
      "execution_count": 429,
      "outputs": [
        {
          "output_type": "stream",
          "name": "stdout",
          "text": [
            "Work_of_casuality\n",
            "Driver           5903\n",
            "Self-employed    2044\n",
            "Employee          553\n",
            "Other             463\n",
            "Student           103\n",
            "Unemployed         33\n",
            "Unknown            19\n",
            "Name: count, dtype: int64\n",
            "3198\n"
          ]
        }
      ]
    },
    {
      "cell_type": "code",
      "source": [
        "df=df.drop([\"Work_of_casuality\"],axis=1)"
      ],
      "metadata": {
        "id": "a_mqA8k9dzQc"
      },
      "id": "a_mqA8k9dzQc",
      "execution_count": 463,
      "outputs": []
    },
    {
      "cell_type": "code",
      "source": [
        "#since there are 2635 nulls and some weird values we will drop the column\n",
        "print(df[\"Fitness_of_casuality\"].value_counts())\n",
        "print(df[\"Fitness_of_casuality\"].isnull().sum())"
      ],
      "metadata": {
        "colab": {
          "base_uri": "https://localhost:8080/"
        },
        "id": "zoTF7P_CeLF8",
        "outputId": "72106b9c-719f-4084-f847-0ff0c3d4a75a"
      },
      "id": "zoTF7P_CeLF8",
      "execution_count": 431,
      "outputs": [
        {
          "output_type": "stream",
          "name": "stdout",
          "text": [
            "Fitness_of_casuality\n",
            "Normal          9608\n",
            "NormalNormal      19\n",
            "Deaf              18\n",
            "Other             18\n",
            "Blind             18\n",
            "Name: count, dtype: int64\n",
            "2635\n"
          ]
        }
      ]
    },
    {
      "cell_type": "code",
      "source": [
        "df=df.drop([\"Fitness_of_casuality\"],axis=1)"
      ],
      "metadata": {
        "id": "BYNkWHJWedJp"
      },
      "id": "BYNkWHJWedJp",
      "execution_count": 464,
      "outputs": []
    },
    {
      "cell_type": "code",
      "source": [
        "#drop the unkown is sex of the driver\n",
        "df=df[ df[\"Sex_of_driver\"]!=\"Unknown\"]"
      ],
      "metadata": {
        "id": "k6MVWdfKeewl"
      },
      "id": "k6MVWdfKeewl",
      "execution_count": 466,
      "outputs": []
    },
    {
      "cell_type": "markdown",
      "source": [
        "Using label encoder"
      ],
      "metadata": {
        "id": "O74atEqoekQb"
      },
      "id": "O74atEqoekQb"
    },
    {
      "cell_type": "code",
      "source": [
        "from sklearn.preprocessing import LabelEncoder,OneHotEncoder"
      ],
      "metadata": {
        "id": "H4eo9VtZesU6"
      },
      "id": "H4eo9VtZesU6",
      "execution_count": 467,
      "outputs": []
    },
    {
      "cell_type": "code",
      "source": [
        "f=OneHotEncoder()\n",
        "f.fit_transform(df[[\"Age_band_of_driver\"]])"
      ],
      "metadata": {
        "colab": {
          "base_uri": "https://localhost:8080/"
        },
        "id": "oiSI8pt6e2rf",
        "outputId": "f9ef7e86-cc2e-4db6-e75d-dfb2043e618f"
      },
      "id": "oiSI8pt6e2rf",
      "execution_count": 357,
      "outputs": [
        {
          "output_type": "execute_result",
          "data": {
            "text/plain": [
              "<12138x5 sparse matrix of type '<class 'numpy.float64'>'\n",
              "\twith 12138 stored elements in Compressed Sparse Row format>"
            ]
          },
          "metadata": {},
          "execution_count": 357
        }
      ]
    },
    {
      "cell_type": "code",
      "source": [
        "k=f.transform(df[[\"Age_band_of_driver\"]]).toarray()"
      ],
      "metadata": {
        "id": "k5QkQglKfoSW"
      },
      "id": "k5QkQglKfoSW",
      "execution_count": 124,
      "outputs": []
    },
    {
      "cell_type": "code",
      "source": [
        "for i in f.categories_[0]:\n",
        "  print(i)"
      ],
      "metadata": {
        "colab": {
          "base_uri": "https://localhost:8080/"
        },
        "id": "vUKdpuyrg9iB",
        "outputId": "6a3966c4-7b16-4451-edd4-3c87132a6280"
      },
      "id": "vUKdpuyrg9iB",
      "execution_count": 123,
      "outputs": [
        {
          "output_type": "stream",
          "name": "stdout",
          "text": [
            "18-30\n",
            "31-50\n",
            "Over 51\n",
            "Under 18\n",
            "Unknown\n"
          ]
        }
      ]
    },
    {
      "cell_type": "code",
      "source": [
        "k[:10,0]"
      ],
      "metadata": {
        "colab": {
          "base_uri": "https://localhost:8080/"
        },
        "id": "782p9MwMhMHX",
        "outputId": "da9f44b2-cd76-4ddf-d247-397f24840735"
      },
      "id": "782p9MwMhMHX",
      "execution_count": 135,
      "outputs": [
        {
          "output_type": "execute_result",
          "data": {
            "text/plain": [
              "array([1., 0., 1., 1., 1., 0., 1., 1., 1., 1.])"
            ]
          },
          "metadata": {},
          "execution_count": 135
        }
      ]
    },
    {
      "cell_type": "code",
      "source": [
        "k[0:10]"
      ],
      "metadata": {
        "colab": {
          "base_uri": "https://localhost:8080/"
        },
        "id": "yWAJ821LhUv6",
        "outputId": "3b8db44a-aaf1-45e6-cea6-0c66348152ea"
      },
      "id": "yWAJ821LhUv6",
      "execution_count": 133,
      "outputs": [
        {
          "data": {
            "text/plain": [
              "array([[1., 0., 0., 0., 0.],\n",
              "       [0., 1., 0., 0., 0.],\n",
              "       [1., 0., 0., 0., 0.],\n",
              "       [1., 0., 0., 0., 0.],\n",
              "       [1., 0., 0., 0., 0.],\n",
              "       [0., 1., 0., 0., 0.],\n",
              "       [1., 0., 0., 0., 0.],\n",
              "       [1., 0., 0., 0., 0.],\n",
              "       [1., 0., 0., 0., 0.],\n",
              "       [1., 0., 0., 0., 0.]])"
            ]
          },
          "execution_count": 133,
          "metadata": {},
          "output_type": "execute_result"
        }
      ]
    },
    {
      "cell_type": "code",
      "source": [
        "df.info()"
      ],
      "metadata": {
        "colab": {
          "base_uri": "https://localhost:8080/"
        },
        "id": "Fp1C205nh6c3",
        "outputId": "8d5a9844-94a5-4caa-fe1b-338beb7a5669"
      },
      "id": "Fp1C205nh6c3",
      "execution_count": 358,
      "outputs": [
        {
          "output_type": "stream",
          "name": "stdout",
          "text": [
            "<class 'pandas.core.frame.DataFrame'>\n",
            "Index: 12138 entries, 0 to 12315\n",
            "Data columns (total 28 columns):\n",
            " #   Column                       Non-Null Count  Dtype \n",
            "---  ------                       --------------  ----- \n",
            " 0   Time                         12138 non-null  object\n",
            " 1   Day_of_week                  12138 non-null  object\n",
            " 2   Age_band_of_driver           12138 non-null  object\n",
            " 3   Sex_of_driver                12138 non-null  object\n",
            " 4   Educational_level            12138 non-null  object\n",
            " 5   Vehicle_driver_relation      12138 non-null  object\n",
            " 6   Driving_experience           12138 non-null  object\n",
            " 7   Type_of_vehicle              11213 non-null  object\n",
            " 8   Owner_of_vehicle             12138 non-null  object\n",
            " 9   Area_accident_occured        12138 non-null  object\n",
            " 10  Lanes_or_Medians             12138 non-null  object\n",
            " 11  Road_allignment              12138 non-null  object\n",
            " 12  Types_of_Junction            12138 non-null  object\n",
            " 13  Road_surface_type            12138 non-null  object\n",
            " 14  Road_surface_conditions      12138 non-null  object\n",
            " 15  Light_conditions             12138 non-null  object\n",
            " 16  Weather_conditions           12138 non-null  object\n",
            " 17  Type_of_collision            12138 non-null  object\n",
            " 18  Number_of_vehicles_involved  12138 non-null  int64 \n",
            " 19  Number_of_casualties         12138 non-null  int64 \n",
            " 20  Vehicle_movement             12138 non-null  object\n",
            " 21  Casualty_class               12138 non-null  object\n",
            " 22  Sex_of_casualty              12138 non-null  object\n",
            " 23  Age_band_of_casualty         12138 non-null  object\n",
            " 24  Casualty_severity            12138 non-null  object\n",
            " 25  Pedestrian_movement          12138 non-null  object\n",
            " 26  Cause_of_accident            12138 non-null  object\n",
            " 27  Accident_severity            12138 non-null  object\n",
            "dtypes: int64(2), object(26)\n",
            "memory usage: 2.7+ MB\n"
          ]
        }
      ]
    },
    {
      "cell_type": "markdown",
      "source": [
        "selected feature for further processing\n",
        "\n",
        "Age_band_of_driver,Sex_of_driver,Educational_level,Driving_experience,Lanes_or_Medians,Light_conditions,Type_of_collision,Number_of_vehicles_involved,Number_of_casualties,Vehicle_movement,\n",
        "\n",
        "Temp for test\n",
        "Day_of_week,Area_accident_occured,Road_allignment,Road_surface_conditions,Weather_conditions,Cause_of_accident,"
      ],
      "metadata": {
        "id": "cCUPkzafjPQG"
      },
      "id": "cCUPkzafjPQG"
    },
    {
      "cell_type": "code",
      "source": [
        "l=LabelEncoder()\n",
        "o=OneHotEncoder()"
      ],
      "metadata": {
        "id": "Qa3G3_ljsgu7"
      },
      "id": "Qa3G3_ljsgu7",
      "execution_count": 468,
      "outputs": []
    },
    {
      "cell_type": "code",
      "source": [
        "df[\"Age_band_of_driver_Cat\"]=l.fit_transform(df[\"Age_band_of_driver\"])\n",
        "df[\"Sex_of_driver_Cat\"]=l.fit_transform(df[\"Sex_of_driver\"])\n",
        "df[\"Educational_level_Cat\"]=l.fit_transform(df[\"Educational_level\"])\n",
        "df[\"Driving_experience_Cat\"]=l.fit_transform(df[\"Driving_experience\"])\n",
        "df[\"Lanes_or_Medians_Cat\"]=l.fit_transform(df[\"Lanes_or_Medians\"])\n",
        "df[\"Light_conditions_Cat\"]=l.fit_transform(df[\"Light_conditions\"])\n",
        "df[\"Type_of_collision_Cat\"]=l.fit_transform(df[\"Type_of_collision\"])\n",
        "df[\"Vehicle_movement_Cat\"]=l.fit_transform(df[\"Vehicle_movement\"])\n",
        "df[\"Accident_severity_Cat\"]=l.fit_transform(df[\"Accident_severity\"])\n",
        "df[\"Accident_severity_Cat\"]=l.fit_transform(df[\"Accident_severity\"])\n",
        "df[\"Day_of_week_Cat\"]=l.fit_transform(df[\"Day_of_week\"])\n",
        "df[\"Area_accident_occured_Cat\"]=l.fit_transform(df[\"Area_accident_occured\"])\n",
        "df[\"Road_allignment_Cat\"]=l.fit_transform(df[\"Road_allignment\"])\n",
        "df[\"Road_surface_conditions_Cat\"]=l.fit_transform(df[\"Road_surface_conditions\"])\n",
        "df[\"Weather_conditions_Cat\"]=l.fit_transform(df[\"Weather_conditions\"])\n",
        "df[\"Cause_of_accident_Cat\"]=l.fit_transform(df[\"Cause_of_accident\"])"
      ],
      "metadata": {
        "id": "Ok_JJb-fsXjo"
      },
      "id": "Ok_JJb-fsXjo",
      "execution_count": 469,
      "outputs": []
    },
    {
      "cell_type": "code",
      "source": [
        "df.head()"
      ],
      "metadata": {
        "colab": {
          "base_uri": "https://localhost:8080/",
          "height": 290
        },
        "id": "AtwWb7aetti_",
        "outputId": "1fb562c8-9ab4-4c18-df4d-5d78289a2fa0"
      },
      "id": "AtwWb7aetti_",
      "execution_count": 437,
      "outputs": [
        {
          "output_type": "execute_result",
          "data": {
            "text/plain": [
              "       Time Day_of_week Age_band_of_driver Sex_of_driver   Educational_level  \\\n",
              "0  17:02:00      Monday              18-30          Male   Above high school   \n",
              "1  17:02:00      Monday              31-50          Male  Junior high school   \n",
              "2  17:02:00      Monday              18-30          Male  Junior high school   \n",
              "3   1:06:00      Sunday              18-30          Male  Junior high school   \n",
              "4   1:06:00      Sunday              18-30          Male  Junior high school   \n",
              "\n",
              "  Vehicle_driver_relation Driving_experience      Type_of_vehicle  \\\n",
              "0                Employee              1-2yr           Automobile   \n",
              "1                Employee         Above 10yr  Public (> 45 seats)   \n",
              "2                Employee              1-2yr      Lorry (41?100Q)   \n",
              "3                Employee             5-10yr  Public (> 45 seats)   \n",
              "4                Employee              2-5yr                  NaN   \n",
              "\n",
              "  Owner_of_vehicle Area_accident_occured  ... Light_conditions_Cat  \\\n",
              "0            Owner     Residential areas  ...                    3   \n",
              "1            Owner          Office areas  ...                    3   \n",
              "2            Owner    Recreational areas  ...                    3   \n",
              "3     Governmental          Office areas  ...                    0   \n",
              "4            Owner      Industrial areas  ...                    0   \n",
              "\n",
              "  Type_of_collision_Cat Vehicle_movement_Cat Accident_severity_Cat  \\\n",
              "0                     3                    2                     2   \n",
              "1                     8                    2                     2   \n",
              "2                     2                    2                     1   \n",
              "3                     8                    2                     2   \n",
              "4                     8                    2                     2   \n",
              "\n",
              "  Day_of_week_Cat Area_accident_occured_Cat Road_allignment_Cat  \\\n",
              "0               1                         9                   5   \n",
              "1               1                         6                   5   \n",
              "2               1                         1                   5   \n",
              "3               3                         6                   6   \n",
              "4               3                         4                   5   \n",
              "\n",
              "  Road_surface_conditions_Cat  Weather_conditions_Cat  Cause_of_accident_Cat  \n",
              "0                           0                       2                      9  \n",
              "1                           0                       2                     16  \n",
              "2                           0                       2                      0  \n",
              "3                           0                       2                      1  \n",
              "4                           0                       2                     16  \n",
              "\n",
              "[5 rows x 43 columns]"
            ],
            "text/html": [
              "\n",
              "  <div id=\"df-58165cd4-11b4-4bb7-8360-15e9c8ae581c\" class=\"colab-df-container\">\n",
              "    <div>\n",
              "<style scoped>\n",
              "    .dataframe tbody tr th:only-of-type {\n",
              "        vertical-align: middle;\n",
              "    }\n",
              "\n",
              "    .dataframe tbody tr th {\n",
              "        vertical-align: top;\n",
              "    }\n",
              "\n",
              "    .dataframe thead th {\n",
              "        text-align: right;\n",
              "    }\n",
              "</style>\n",
              "<table border=\"1\" class=\"dataframe\">\n",
              "  <thead>\n",
              "    <tr style=\"text-align: right;\">\n",
              "      <th></th>\n",
              "      <th>Time</th>\n",
              "      <th>Day_of_week</th>\n",
              "      <th>Age_band_of_driver</th>\n",
              "      <th>Sex_of_driver</th>\n",
              "      <th>Educational_level</th>\n",
              "      <th>Vehicle_driver_relation</th>\n",
              "      <th>Driving_experience</th>\n",
              "      <th>Type_of_vehicle</th>\n",
              "      <th>Owner_of_vehicle</th>\n",
              "      <th>Area_accident_occured</th>\n",
              "      <th>...</th>\n",
              "      <th>Light_conditions_Cat</th>\n",
              "      <th>Type_of_collision_Cat</th>\n",
              "      <th>Vehicle_movement_Cat</th>\n",
              "      <th>Accident_severity_Cat</th>\n",
              "      <th>Day_of_week_Cat</th>\n",
              "      <th>Area_accident_occured_Cat</th>\n",
              "      <th>Road_allignment_Cat</th>\n",
              "      <th>Road_surface_conditions_Cat</th>\n",
              "      <th>Weather_conditions_Cat</th>\n",
              "      <th>Cause_of_accident_Cat</th>\n",
              "    </tr>\n",
              "  </thead>\n",
              "  <tbody>\n",
              "    <tr>\n",
              "      <th>0</th>\n",
              "      <td>17:02:00</td>\n",
              "      <td>Monday</td>\n",
              "      <td>18-30</td>\n",
              "      <td>Male</td>\n",
              "      <td>Above high school</td>\n",
              "      <td>Employee</td>\n",
              "      <td>1-2yr</td>\n",
              "      <td>Automobile</td>\n",
              "      <td>Owner</td>\n",
              "      <td>Residential areas</td>\n",
              "      <td>...</td>\n",
              "      <td>3</td>\n",
              "      <td>3</td>\n",
              "      <td>2</td>\n",
              "      <td>2</td>\n",
              "      <td>1</td>\n",
              "      <td>9</td>\n",
              "      <td>5</td>\n",
              "      <td>0</td>\n",
              "      <td>2</td>\n",
              "      <td>9</td>\n",
              "    </tr>\n",
              "    <tr>\n",
              "      <th>1</th>\n",
              "      <td>17:02:00</td>\n",
              "      <td>Monday</td>\n",
              "      <td>31-50</td>\n",
              "      <td>Male</td>\n",
              "      <td>Junior high school</td>\n",
              "      <td>Employee</td>\n",
              "      <td>Above 10yr</td>\n",
              "      <td>Public (&gt; 45 seats)</td>\n",
              "      <td>Owner</td>\n",
              "      <td>Office areas</td>\n",
              "      <td>...</td>\n",
              "      <td>3</td>\n",
              "      <td>8</td>\n",
              "      <td>2</td>\n",
              "      <td>2</td>\n",
              "      <td>1</td>\n",
              "      <td>6</td>\n",
              "      <td>5</td>\n",
              "      <td>0</td>\n",
              "      <td>2</td>\n",
              "      <td>16</td>\n",
              "    </tr>\n",
              "    <tr>\n",
              "      <th>2</th>\n",
              "      <td>17:02:00</td>\n",
              "      <td>Monday</td>\n",
              "      <td>18-30</td>\n",
              "      <td>Male</td>\n",
              "      <td>Junior high school</td>\n",
              "      <td>Employee</td>\n",
              "      <td>1-2yr</td>\n",
              "      <td>Lorry (41?100Q)</td>\n",
              "      <td>Owner</td>\n",
              "      <td>Recreational areas</td>\n",
              "      <td>...</td>\n",
              "      <td>3</td>\n",
              "      <td>2</td>\n",
              "      <td>2</td>\n",
              "      <td>1</td>\n",
              "      <td>1</td>\n",
              "      <td>1</td>\n",
              "      <td>5</td>\n",
              "      <td>0</td>\n",
              "      <td>2</td>\n",
              "      <td>0</td>\n",
              "    </tr>\n",
              "    <tr>\n",
              "      <th>3</th>\n",
              "      <td>1:06:00</td>\n",
              "      <td>Sunday</td>\n",
              "      <td>18-30</td>\n",
              "      <td>Male</td>\n",
              "      <td>Junior high school</td>\n",
              "      <td>Employee</td>\n",
              "      <td>5-10yr</td>\n",
              "      <td>Public (&gt; 45 seats)</td>\n",
              "      <td>Governmental</td>\n",
              "      <td>Office areas</td>\n",
              "      <td>...</td>\n",
              "      <td>0</td>\n",
              "      <td>8</td>\n",
              "      <td>2</td>\n",
              "      <td>2</td>\n",
              "      <td>3</td>\n",
              "      <td>6</td>\n",
              "      <td>6</td>\n",
              "      <td>0</td>\n",
              "      <td>2</td>\n",
              "      <td>1</td>\n",
              "    </tr>\n",
              "    <tr>\n",
              "      <th>4</th>\n",
              "      <td>1:06:00</td>\n",
              "      <td>Sunday</td>\n",
              "      <td>18-30</td>\n",
              "      <td>Male</td>\n",
              "      <td>Junior high school</td>\n",
              "      <td>Employee</td>\n",
              "      <td>2-5yr</td>\n",
              "      <td>NaN</td>\n",
              "      <td>Owner</td>\n",
              "      <td>Industrial areas</td>\n",
              "      <td>...</td>\n",
              "      <td>0</td>\n",
              "      <td>8</td>\n",
              "      <td>2</td>\n",
              "      <td>2</td>\n",
              "      <td>3</td>\n",
              "      <td>4</td>\n",
              "      <td>5</td>\n",
              "      <td>0</td>\n",
              "      <td>2</td>\n",
              "      <td>16</td>\n",
              "    </tr>\n",
              "  </tbody>\n",
              "</table>\n",
              "<p>5 rows × 43 columns</p>\n",
              "</div>\n",
              "    <div class=\"colab-df-buttons\">\n",
              "\n",
              "  <div class=\"colab-df-container\">\n",
              "    <button class=\"colab-df-convert\" onclick=\"convertToInteractive('df-58165cd4-11b4-4bb7-8360-15e9c8ae581c')\"\n",
              "            title=\"Convert this dataframe to an interactive table.\"\n",
              "            style=\"display:none;\">\n",
              "\n",
              "  <svg xmlns=\"http://www.w3.org/2000/svg\" height=\"24px\" viewBox=\"0 -960 960 960\">\n",
              "    <path d=\"M120-120v-720h720v720H120Zm60-500h600v-160H180v160Zm220 220h160v-160H400v160Zm0 220h160v-160H400v160ZM180-400h160v-160H180v160Zm440 0h160v-160H620v160ZM180-180h160v-160H180v160Zm440 0h160v-160H620v160Z\"/>\n",
              "  </svg>\n",
              "    </button>\n",
              "\n",
              "  <style>\n",
              "    .colab-df-container {\n",
              "      display:flex;\n",
              "      gap: 12px;\n",
              "    }\n",
              "\n",
              "    .colab-df-convert {\n",
              "      background-color: #E8F0FE;\n",
              "      border: none;\n",
              "      border-radius: 50%;\n",
              "      cursor: pointer;\n",
              "      display: none;\n",
              "      fill: #1967D2;\n",
              "      height: 32px;\n",
              "      padding: 0 0 0 0;\n",
              "      width: 32px;\n",
              "    }\n",
              "\n",
              "    .colab-df-convert:hover {\n",
              "      background-color: #E2EBFA;\n",
              "      box-shadow: 0px 1px 2px rgba(60, 64, 67, 0.3), 0px 1px 3px 1px rgba(60, 64, 67, 0.15);\n",
              "      fill: #174EA6;\n",
              "    }\n",
              "\n",
              "    .colab-df-buttons div {\n",
              "      margin-bottom: 4px;\n",
              "    }\n",
              "\n",
              "    [theme=dark] .colab-df-convert {\n",
              "      background-color: #3B4455;\n",
              "      fill: #D2E3FC;\n",
              "    }\n",
              "\n",
              "    [theme=dark] .colab-df-convert:hover {\n",
              "      background-color: #434B5C;\n",
              "      box-shadow: 0px 1px 3px 1px rgba(0, 0, 0, 0.15);\n",
              "      filter: drop-shadow(0px 1px 2px rgba(0, 0, 0, 0.3));\n",
              "      fill: #FFFFFF;\n",
              "    }\n",
              "  </style>\n",
              "\n",
              "    <script>\n",
              "      const buttonEl =\n",
              "        document.querySelector('#df-58165cd4-11b4-4bb7-8360-15e9c8ae581c button.colab-df-convert');\n",
              "      buttonEl.style.display =\n",
              "        google.colab.kernel.accessAllowed ? 'block' : 'none';\n",
              "\n",
              "      async function convertToInteractive(key) {\n",
              "        const element = document.querySelector('#df-58165cd4-11b4-4bb7-8360-15e9c8ae581c');\n",
              "        const dataTable =\n",
              "          await google.colab.kernel.invokeFunction('convertToInteractive',\n",
              "                                                    [key], {});\n",
              "        if (!dataTable) return;\n",
              "\n",
              "        const docLinkHtml = 'Like what you see? Visit the ' +\n",
              "          '<a target=\"_blank\" href=https://colab.research.google.com/notebooks/data_table.ipynb>data table notebook</a>'\n",
              "          + ' to learn more about interactive tables.';\n",
              "        element.innerHTML = '';\n",
              "        dataTable['output_type'] = 'display_data';\n",
              "        await google.colab.output.renderOutput(dataTable, element);\n",
              "        const docLink = document.createElement('div');\n",
              "        docLink.innerHTML = docLinkHtml;\n",
              "        element.appendChild(docLink);\n",
              "      }\n",
              "    </script>\n",
              "  </div>\n",
              "\n",
              "\n",
              "<div id=\"df-7b5e446b-6a99-4168-aab7-bc0ad1e06485\">\n",
              "  <button class=\"colab-df-quickchart\" onclick=\"quickchart('df-7b5e446b-6a99-4168-aab7-bc0ad1e06485')\"\n",
              "            title=\"Suggest charts\"\n",
              "            style=\"display:none;\">\n",
              "\n",
              "<svg xmlns=\"http://www.w3.org/2000/svg\" height=\"24px\"viewBox=\"0 0 24 24\"\n",
              "     width=\"24px\">\n",
              "    <g>\n",
              "        <path d=\"M19 3H5c-1.1 0-2 .9-2 2v14c0 1.1.9 2 2 2h14c1.1 0 2-.9 2-2V5c0-1.1-.9-2-2-2zM9 17H7v-7h2v7zm4 0h-2V7h2v10zm4 0h-2v-4h2v4z\"/>\n",
              "    </g>\n",
              "</svg>\n",
              "  </button>\n",
              "\n",
              "<style>\n",
              "  .colab-df-quickchart {\n",
              "      --bg-color: #E8F0FE;\n",
              "      --fill-color: #1967D2;\n",
              "      --hover-bg-color: #E2EBFA;\n",
              "      --hover-fill-color: #174EA6;\n",
              "      --disabled-fill-color: #AAA;\n",
              "      --disabled-bg-color: #DDD;\n",
              "  }\n",
              "\n",
              "  [theme=dark] .colab-df-quickchart {\n",
              "      --bg-color: #3B4455;\n",
              "      --fill-color: #D2E3FC;\n",
              "      --hover-bg-color: #434B5C;\n",
              "      --hover-fill-color: #FFFFFF;\n",
              "      --disabled-bg-color: #3B4455;\n",
              "      --disabled-fill-color: #666;\n",
              "  }\n",
              "\n",
              "  .colab-df-quickchart {\n",
              "    background-color: var(--bg-color);\n",
              "    border: none;\n",
              "    border-radius: 50%;\n",
              "    cursor: pointer;\n",
              "    display: none;\n",
              "    fill: var(--fill-color);\n",
              "    height: 32px;\n",
              "    padding: 0;\n",
              "    width: 32px;\n",
              "  }\n",
              "\n",
              "  .colab-df-quickchart:hover {\n",
              "    background-color: var(--hover-bg-color);\n",
              "    box-shadow: 0 1px 2px rgba(60, 64, 67, 0.3), 0 1px 3px 1px rgba(60, 64, 67, 0.15);\n",
              "    fill: var(--button-hover-fill-color);\n",
              "  }\n",
              "\n",
              "  .colab-df-quickchart-complete:disabled,\n",
              "  .colab-df-quickchart-complete:disabled:hover {\n",
              "    background-color: var(--disabled-bg-color);\n",
              "    fill: var(--disabled-fill-color);\n",
              "    box-shadow: none;\n",
              "  }\n",
              "\n",
              "  .colab-df-spinner {\n",
              "    border: 2px solid var(--fill-color);\n",
              "    border-color: transparent;\n",
              "    border-bottom-color: var(--fill-color);\n",
              "    animation:\n",
              "      spin 1s steps(1) infinite;\n",
              "  }\n",
              "\n",
              "  @keyframes spin {\n",
              "    0% {\n",
              "      border-color: transparent;\n",
              "      border-bottom-color: var(--fill-color);\n",
              "      border-left-color: var(--fill-color);\n",
              "    }\n",
              "    20% {\n",
              "      border-color: transparent;\n",
              "      border-left-color: var(--fill-color);\n",
              "      border-top-color: var(--fill-color);\n",
              "    }\n",
              "    30% {\n",
              "      border-color: transparent;\n",
              "      border-left-color: var(--fill-color);\n",
              "      border-top-color: var(--fill-color);\n",
              "      border-right-color: var(--fill-color);\n",
              "    }\n",
              "    40% {\n",
              "      border-color: transparent;\n",
              "      border-right-color: var(--fill-color);\n",
              "      border-top-color: var(--fill-color);\n",
              "    }\n",
              "    60% {\n",
              "      border-color: transparent;\n",
              "      border-right-color: var(--fill-color);\n",
              "    }\n",
              "    80% {\n",
              "      border-color: transparent;\n",
              "      border-right-color: var(--fill-color);\n",
              "      border-bottom-color: var(--fill-color);\n",
              "    }\n",
              "    90% {\n",
              "      border-color: transparent;\n",
              "      border-bottom-color: var(--fill-color);\n",
              "    }\n",
              "  }\n",
              "</style>\n",
              "\n",
              "  <script>\n",
              "    async function quickchart(key) {\n",
              "      const quickchartButtonEl =\n",
              "        document.querySelector('#' + key + ' button');\n",
              "      quickchartButtonEl.disabled = true;  // To prevent multiple clicks.\n",
              "      quickchartButtonEl.classList.add('colab-df-spinner');\n",
              "      try {\n",
              "        const charts = await google.colab.kernel.invokeFunction(\n",
              "            'suggestCharts', [key], {});\n",
              "      } catch (error) {\n",
              "        console.error('Error during call to suggestCharts:', error);\n",
              "      }\n",
              "      quickchartButtonEl.classList.remove('colab-df-spinner');\n",
              "      quickchartButtonEl.classList.add('colab-df-quickchart-complete');\n",
              "    }\n",
              "    (() => {\n",
              "      let quickchartButtonEl =\n",
              "        document.querySelector('#df-7b5e446b-6a99-4168-aab7-bc0ad1e06485 button');\n",
              "      quickchartButtonEl.style.display =\n",
              "        google.colab.kernel.accessAllowed ? 'block' : 'none';\n",
              "    })();\n",
              "  </script>\n",
              "</div>\n",
              "\n",
              "    </div>\n",
              "  </div>\n"
            ],
            "application/vnd.google.colaboratory.intrinsic+json": {
              "type": "dataframe",
              "variable_name": "df"
            }
          },
          "metadata": {},
          "execution_count": 437
        }
      ]
    },
    {
      "cell_type": "markdown",
      "id": "292ab9c9",
      "metadata": {
        "id": "292ab9c9"
      },
      "source": [
        "## Data Visualization\n",
        "Create various plots to visualize the relationships in the data. Consider using the following to show different aspects of the data:\n",
        "\n",
        "* Heatmap of Correlation Matrix.\n",
        "* Line plots.\n",
        "* Scatter plots.\n",
        "* Histograms.\n",
        "* Boxplots.\n",
        "\n",
        "Use more if needed!"
      ]
    },
    {
      "cell_type": "code",
      "execution_count": 178,
      "id": "5cfa25ae",
      "metadata": {
        "colab": {
          "base_uri": "https://localhost:8080/",
          "height": 469
        },
        "id": "5cfa25ae",
        "outputId": "bfc40e5b-6258-4398-d764-66a390be5ffd"
      },
      "outputs": [
        {
          "output_type": "execute_result",
          "data": {
            "text/plain": [
              "<BarContainer object of 5 artists>"
            ]
          },
          "metadata": {},
          "execution_count": 178
        },
        {
          "output_type": "display_data",
          "data": {
            "text/plain": [
              "<Figure size 640x480 with 1 Axes>"
            ],
            "image/png": "[encoded data removed]"
          },
          "metadata": {}
        }
      ],
      "source": [
        "p=df[\"Age_band_of_driver\"].value_counts()\n",
        "plt.title(\"Accident by Age group\")\n",
        "plt.bar(p.index,p.values)"
      ]
    },
    {
      "cell_type": "code",
      "source": [
        "p=df[\"Accident_severity\"].value_counts()\n",
        "plt.title(\"Accident by Accident severity\")\n",
        "plt.bar(p.index,p.values)"
      ],
      "metadata": {
        "colab": {
          "base_uri": "https://localhost:8080/",
          "height": 469
        },
        "id": "HwrIveGHoiC1",
        "outputId": "39f107a4-9884-4b80-80c9-74da18a18830"
      },
      "id": "HwrIveGHoiC1",
      "execution_count": 438,
      "outputs": [
        {
          "output_type": "execute_result",
          "data": {
            "text/plain": [
              "<BarContainer object of 3 artists>"
            ]
          },
          "metadata": {},
          "execution_count": 438
        },
        {
          "output_type": "display_data",
          "data": {
            "text/plain": [
              "<Figure size 640x480 with 1 Axes>"
            ],
            "image/png": "[encoded data removed]"
          },
          "metadata": {}
        }
      ]
    },
    {
      "cell_type": "code",
      "source": [
        "df[\"Accident_severity\"].value_counts()\n",
        "###The data is not balanced since 84% of the target values is Slight Injury\tthe model is likelky to\n",
        "##classify Slight Injury and get high accuracy"
      ],
      "metadata": {
        "colab": {
          "base_uri": "https://localhost:8080/",
          "height": 209
        },
        "id": "twUUUCe69ZeX",
        "outputId": "07d0a705-d83c-46f8-9124-e1ce2216951d"
      },
      "id": "twUUUCe69ZeX",
      "execution_count": 520,
      "outputs": [
        {
          "output_type": "execute_result",
          "data": {
            "text/plain": [
              "Accident_severity\n",
              "Slight Injury     10256\n",
              "Serious Injury     1725\n",
              "Fatal injury        157\n",
              "Name: count, dtype: int64"
            ],
            "text/html": [
              "<table border=\"1\" class=\"dataframe\">\n",
              "  <thead>\n",
              "    <tr style=\"text-align: right;\">\n",
              "      <th></th>\n",
              "      <th>count</th>\n",
              "    </tr>\n",
              "    <tr>\n",
              "      <th>Accident_severity</th>\n",
              "      <th></th>\n",
              "    </tr>\n",
              "  </thead>\n",
              "  <tbody>\n",
              "    <tr>\n",
              "      <th>Slight Injury</th>\n",
              "      <td>10256</td>\n",
              "    </tr>\n",
              "    <tr>\n",
              "      <th>Serious Injury</th>\n",
              "      <td>1725</td>\n",
              "    </tr>\n",
              "    <tr>\n",
              "      <th>Fatal injury</th>\n",
              "      <td>157</td>\n",
              "    </tr>\n",
              "  </tbody>\n",
              "</table><br><label><b>dtype:</b> int64</label>"
            ]
          },
          "metadata": {},
          "execution_count": 520
        }
      ]
    },
    {
      "cell_type": "code",
      "source": [
        "p=df[\"Sex_of_driver\"].value_counts()\n",
        "plt.title(\"Accident by Sex of driver\")\n",
        "plt.bar(p.index,p.values)"
      ],
      "metadata": {
        "colab": {
          "base_uri": "https://localhost:8080/",
          "height": 469
        },
        "id": "r7TV1XVoorsd",
        "outputId": "41ac5697-0e0e-4a6b-da4e-a553588bc350"
      },
      "id": "r7TV1XVoorsd",
      "execution_count": 181,
      "outputs": [
        {
          "output_type": "execute_result",
          "data": {
            "text/plain": [
              "<BarContainer object of 2 artists>"
            ]
          },
          "metadata": {},
          "execution_count": 181
        },
        {
          "output_type": "display_data",
          "data": {
            "text/plain": [
              "<Figure size 640x480 with 1 Axes>"
            ],
            "image/png": "[encoded data removed]"
          },
          "metadata": {}
        }
      ]
    },
    {
      "cell_type": "markdown",
      "source": [
        "Most Accidents are on Friday which is weekend in most countries"
      ],
      "metadata": {
        "id": "QO_Z7EsSpP08"
      },
      "id": "QO_Z7EsSpP08"
    },
    {
      "cell_type": "code",
      "source": [
        "p=df[\"Day_of_week\"].value_counts()\n",
        "plt.title(\"Accident by Day of week\")\n",
        "plt.bar(p.index,p.values)\n",
        "plt.xticks(rotation=90)\n"
      ],
      "metadata": {
        "colab": {
          "base_uri": "https://localhost:8080/",
          "height": 658
        },
        "id": "pPNbCkbXo7rg",
        "outputId": "afe8b4a8-be16-44c5-e162-3a357d5ebbb6"
      },
      "id": "pPNbCkbXo7rg",
      "execution_count": 183,
      "outputs": [
        {
          "output_type": "execute_result",
          "data": {
            "text/plain": [
              "([0, 1, 2, 3, 4, 5, 6],\n",
              " [Text(0, 0, 'Friday'),\n",
              "  Text(1, 0, 'Thursday'),\n",
              "  Text(2, 0, 'Wednesday'),\n",
              "  Text(3, 0, 'Tuesday'),\n",
              "  Text(4, 0, 'Monday'),\n",
              "  Text(5, 0, 'Saturday'),\n",
              "  Text(6, 0, 'Sunday')])"
            ]
          },
          "metadata": {},
          "execution_count": 183
        },
        {
          "output_type": "display_data",
          "data": {
            "text/plain": [
              "<Figure size 640x480 with 1 Axes>"
            ],
            "image/png": "[encoded data removed]"
          },
          "metadata": {}
        }
      ]
    },
    {
      "cell_type": "markdown",
      "source": [
        "Showing Accident severity with each age group"
      ],
      "metadata": {
        "id": "SNyn6VjpqyKh"
      },
      "id": "SNyn6VjpqyKh"
    },
    {
      "cell_type": "code",
      "source": [
        "p=df[[\"Age_band_of_driver\",\"Accident_severity\"]].value_counts()\n",
        "print(p.values)\n",
        "indx=[]\n",
        "for i in p.index:\n",
        "  indx.append(i[0] +\"-\"+i[1])\n",
        "plt.title(\"Accident by age and how Accident severity\")\n",
        "plt.bar(indx,p.values)\n",
        "plt.xticks(rotation=90)"
      ],
      "metadata": {
        "colab": {
          "base_uri": "https://localhost:8080/",
          "height": 915
        },
        "id": "GyZdWPRzpxJI",
        "outputId": "7b70a436-0c79-4fa3-e1b9-271103e55969"
      },
      "id": "GyZdWPRzpxJI",
      "execution_count": 190,
      "outputs": [
        {
          "output_type": "stream",
          "name": "stdout",
          "text": [
            "[3547 3434 1358 1284  633  596  534  254  172  169   62   53   24   12\n",
            "    6]\n"
          ]
        },
        {
          "output_type": "execute_result",
          "data": {
            "text/plain": [
              "([0, 1, 2, 3, 4, 5, 6, 7, 8, 9, 10, 11, 12, 13, 14],\n",
              " [Text(0, 0, '18-30-Slight Injury'),\n",
              "  Text(1, 0, '31-50-Slight Injury'),\n",
              "  Text(2, 0, 'Unknown-Slight Injury'),\n",
              "  Text(3, 0, 'Over 51-Slight Injury'),\n",
              "  Text(4, 0, 'Under 18-Slight Injury'),\n",
              "  Text(5, 0, '18-30-Serious Injury'),\n",
              "  Text(6, 0, '31-50-Serious Injury'),\n",
              "  Text(7, 0, 'Over 51-Serious Injury'),\n",
              "  Text(8, 0, 'Unknown-Serious Injury'),\n",
              "  Text(9, 0, 'Under 18-Serious Injury'),\n",
              "  Text(10, 0, '18-30-Fatal injury'),\n",
              "  Text(11, 0, '31-50-Fatal injury'),\n",
              "  Text(12, 0, 'Over 51-Fatal injury'),\n",
              "  Text(13, 0, 'Under 18-Fatal injury'),\n",
              "  Text(14, 0, 'Unknown-Fatal injury')])"
            ]
          },
          "metadata": {},
          "execution_count": 190
        },
        {
          "output_type": "display_data",
          "data": {
            "text/plain": [
              "<Figure size 640x480 with 1 Axes>"
            ],
            "image/png": "[encoded data removed]"
          },
          "metadata": {}
        }
      ]
    },
    {
      "cell_type": "markdown",
      "source": [
        "Women have less Accident hence they have less fatalallty"
      ],
      "metadata": {
        "id": "WdqV5TCIrEsP"
      },
      "id": "WdqV5TCIrEsP"
    },
    {
      "cell_type": "code",
      "source": [
        "p=df[[\"Sex_of_driver\",\"Accident_severity\"]].value_counts()\n",
        "print(p.values)\n",
        "indx=[]\n",
        "for i in p.index:\n",
        "  indx.append(i[0] +\"-\"+i[1])\n",
        "plt.title(\"Accident by sex and Accident severity\")\n",
        "plt.bar(indx,p.values)\n",
        "plt.xticks(rotation=90)"
      ],
      "metadata": {
        "colab": {
          "base_uri": "https://localhost:8080/",
          "height": 727
        },
        "id": "r16616y_q3_7",
        "outputId": "e9d56509-a290-40e1-8776-ddfc963d36b8"
      },
      "id": "r16616y_q3_7",
      "execution_count": 191,
      "outputs": [
        {
          "output_type": "stream",
          "name": "stdout",
          "text": [
            "[9664 1621  592  152  104    5]\n"
          ]
        },
        {
          "output_type": "execute_result",
          "data": {
            "text/plain": [
              "([0, 1, 2, 3, 4, 5],\n",
              " [Text(0, 0, 'Male-Slight Injury'),\n",
              "  Text(1, 0, 'Male-Serious Injury'),\n",
              "  Text(2, 0, 'Female-Slight Injury'),\n",
              "  Text(3, 0, 'Male-Fatal injury'),\n",
              "  Text(4, 0, 'Female-Serious Injury'),\n",
              "  Text(5, 0, 'Female-Fatal injury')])"
            ]
          },
          "metadata": {},
          "execution_count": 191
        },
        {
          "output_type": "display_data",
          "data": {
            "text/plain": [
              "<Figure size 640x480 with 1 Axes>"
            ],
            "image/png": "[encoded data removed]"
          },
          "metadata": {}
        }
      ]
    },
    {
      "cell_type": "code",
      "source": [
        "df.info()"
      ],
      "metadata": {
        "colab": {
          "base_uri": "https://localhost:8080/"
        },
        "id": "OMIOR275vNtS",
        "outputId": "24f0009f-e8a7-4d16-baad-946ebecd4a6a"
      },
      "id": "OMIOR275vNtS",
      "execution_count": 205,
      "outputs": [
        {
          "output_type": "stream",
          "name": "stdout",
          "text": [
            "<class 'pandas.core.frame.DataFrame'>\n",
            "Index: 12138 entries, 0 to 12315\n",
            "Data columns (total 35 columns):\n",
            " #   Column                       Non-Null Count  Dtype \n",
            "---  ------                       --------------  ----- \n",
            " 0   Time                         12138 non-null  object\n",
            " 1   Day_of_week                  12138 non-null  object\n",
            " 2   Age_band_of_driver           12138 non-null  object\n",
            " 3   Sex_of_driver                12138 non-null  object\n",
            " 4   Educational_level            12138 non-null  object\n",
            " 5   Vehicle_driver_relation      12138 non-null  object\n",
            " 6   Driving_experience           12138 non-null  object\n",
            " 7   Type_of_vehicle              11213 non-null  object\n",
            " 8   Owner_of_vehicle             12138 non-null  object\n",
            " 9   Area_accident_occured        12138 non-null  object\n",
            " 10  Lanes_or_Medians             12138 non-null  object\n",
            " 11  Road_allignment              12138 non-null  object\n",
            " 12  Types_of_Junction            12138 non-null  object\n",
            " 13  Road_surface_type            12138 non-null  object\n",
            " 14  Road_surface_conditions      12138 non-null  object\n",
            " 15  Light_conditions             12138 non-null  object\n",
            " 16  Weather_conditions           12138 non-null  object\n",
            " 17  Type_of_collision            12138 non-null  object\n",
            " 18  Number_of_vehicles_involved  12138 non-null  int64 \n",
            " 19  Number_of_casualties         12138 non-null  int64 \n",
            " 20  Vehicle_movement             12138 non-null  object\n",
            " 21  Casualty_class               12138 non-null  object\n",
            " 22  Sex_of_casualty              12138 non-null  object\n",
            " 23  Age_band_of_casualty         12138 non-null  object\n",
            " 24  Casualty_severity            12138 non-null  object\n",
            " 25  Pedestrian_movement          12138 non-null  object\n",
            " 26  Cause_of_accident            12138 non-null  object\n",
            " 27  Accident_severity            12138 non-null  object\n",
            " 28  Age_band_of_driver_Cat       12138 non-null  int64 \n",
            " 29  Educational_level_Cat        12138 non-null  int64 \n",
            " 30  Driving_experience_Cat       12138 non-null  int64 \n",
            " 31  Lanes_or_Medians_Cat         12138 non-null  int64 \n",
            " 32  Light_conditions_Cat         12138 non-null  int64 \n",
            " 33  Type_of_collision_Cat        12138 non-null  int64 \n",
            " 34  Vehicle_movement_Cat         12138 non-null  int64 \n",
            "dtypes: int64(9), object(26)\n",
            "memory usage: 3.3+ MB\n"
          ]
        }
      ]
    },
    {
      "cell_type": "code",
      "source": [],
      "metadata": {
        "id": "iAMxZHasvdnN"
      },
      "id": "iAMxZHasvdnN",
      "execution_count": null,
      "outputs": []
    },
    {
      "cell_type": "code",
      "source": [
        "plt.hexbin(df[\"Number_of_vehicles_involved\"],df[\"Number_of_casualties\"],gridsize=25, cmap='viridis')\n",
        "plt.xlabel(\"Number_of_vehicles_involved\")\n",
        "plt.ylabel(\"Number_of_casualties\")"
      ],
      "metadata": {
        "colab": {
          "base_uri": "https://localhost:8080/",
          "height": 467
        },
        "id": "3bNBrr7usDS7",
        "outputId": "ac750d55-e09a-464d-d08b-bad55e86b551"
      },
      "id": "3bNBrr7usDS7",
      "execution_count": 212,
      "outputs": [
        {
          "output_type": "execute_result",
          "data": {
            "text/plain": [
              "Text(0, 0.5, 'Number_of_casualties')"
            ]
          },
          "metadata": {},
          "execution_count": 212
        },
        {
          "output_type": "display_data",
          "data": {
            "text/plain": [
              "<Figure size 640x480 with 1 Axes>"
            ],
            "image/png": "[encoded data removed]"
          },
          "metadata": {}
        }
      ]
    },
    {
      "cell_type": "code",
      "source": [],
      "metadata": {
        "id": "kdXbpyRpram8"
      },
      "id": "kdXbpyRpram8",
      "execution_count": null,
      "outputs": []
    },
    {
      "cell_type": "markdown",
      "id": "40ce1d71",
      "metadata": {
        "id": "40ce1d71"
      },
      "source": [
        "## Feature Selection\n",
        "- Choose features that you believe will most influence the outcome based on your analysis and the insights from your visualizations. Focus on those that appear most impactful to include in your modeling.\n",
        "\n",
        "## Train-Test Split\n",
        "* Divide the dataset into training and testing sets to evaluate the performance of your models."
      ]
    },
    {
      "cell_type": "markdown",
      "source": [
        "selected feature for further processing\n",
        "\n",
        "Age_band_of_driver,Sex_of_driver,Educational_level,Driving_experience,Lanes_or_Medians,Light_conditions,Type_of_collision,Number_of_vehicles_involved,Number_of_casualties,Vehicle_movement,\n",
        "\n",
        "Temp for test\n",
        "Day_of_week,Area_accident_occured,Road_allignment,Road_surface_conditions,Weather_conditions,Cause_of_accident,"
      ],
      "metadata": {
        "id": "hWhJin9kwM0E"
      },
      "id": "hWhJin9kwM0E"
    },
    {
      "cell_type": "code",
      "source": [
        "from sklearn.model_selection import train_test_split"
      ],
      "metadata": {
        "id": "NpxhrAdrxQqB"
      },
      "id": "NpxhrAdrxQqB",
      "execution_count": 362,
      "outputs": []
    },
    {
      "cell_type": "code",
      "source": [
        "x=df[[\"Age_band_of_driver_Cat\",\"Sex_of_driver_Cat\",\"Educational_level_Cat\",\"Driving_experience_Cat\",\"Lanes_or_Medians_Cat\",\"Light_conditions_Cat\",\"Type_of_collision_Cat\",\"Number_of_vehicles_involved\",\"Number_of_casualties\",\"Vehicle_movement_Cat\",\"Day_of_week_Cat\",\"Area_accident_occured_Cat\",\"Road_allignment_Cat\",\"Road_surface_conditions_Cat\",\"Weather_conditions_Cat\",\"Cause_of_accident_Cat\"]]\n",
        "y=df[\"Accident_severity_Cat\"]"
      ],
      "metadata": {
        "id": "eWTSDFGsvFqR"
      },
      "id": "eWTSDFGsvFqR",
      "execution_count": 524,
      "outputs": []
    },
    {
      "cell_type": "code",
      "source": [
        "x.head()"
      ],
      "metadata": {
        "colab": {
          "base_uri": "https://localhost:8080/",
          "height": 226
        },
        "id": "Q0Bsd7lQ1e4k",
        "outputId": "e5260d9c-447e-43c5-b7b6-c34a6b06d7c9"
      },
      "id": "Q0Bsd7lQ1e4k",
      "execution_count": 525,
      "outputs": [
        {
          "output_type": "execute_result",
          "data": {
            "text/plain": [
              "   Age_band_of_driver_Cat  Sex_of_driver_Cat  Educational_level_Cat  \\\n",
              "0                       0                  1                      0   \n",
              "1                       1                  1                      4   \n",
              "2                       0                  1                      4   \n",
              "3                       0                  1                      4   \n",
              "4                       0                  1                      4   \n",
              "\n",
              "   Driving_experience_Cat  Lanes_or_Medians_Cat  Light_conditions_Cat  \\\n",
              "0                       0                     5                     3   \n",
              "1                       3                     4                     3   \n",
              "2                       0                     6                     3   \n",
              "3                       2                     6                     0   \n",
              "4                       1                     6                     0   \n",
              "\n",
              "   Type_of_collision_Cat  Number_of_vehicles_involved  Number_of_casualties  \\\n",
              "0                      3                            2                     2   \n",
              "1                      8                            2                     2   \n",
              "2                      2                            2                     2   \n",
              "3                      8                            2                     2   \n",
              "4                      8                            2                     2   \n",
              "\n",
              "   Vehicle_movement_Cat  Day_of_week_Cat  Area_accident_occured_Cat  \\\n",
              "0                     2                1                          9   \n",
              "1                     2                1                          6   \n",
              "2                     2                1                          1   \n",
              "3                     2                3                          6   \n",
              "4                     2                3                          4   \n",
              "\n",
              "   Road_allignment_Cat  Road_surface_conditions_Cat  Weather_conditions_Cat  \\\n",
              "0                    5                            0                       2   \n",
              "1                    5                            0                       2   \n",
              "2                    5                            0                       2   \n",
              "3                    6                            0                       2   \n",
              "4                    5                            0                       2   \n",
              "\n",
              "   Cause_of_accident_Cat  \n",
              "0                      9  \n",
              "1                     16  \n",
              "2                      0  \n",
              "3                      1  \n",
              "4                     16  "
            ],
            "text/html": [
              "\n",
              "  <div id=\"df-0c39c86b-321b-4302-8b35-434540d326a4\" class=\"colab-df-container\">\n",
              "    <div>\n",
              "<style scoped>\n",
              "    .dataframe tbody tr th:only-of-type {\n",
              "        vertical-align: middle;\n",
              "    }\n",
              "\n",
              "    .dataframe tbody tr th {\n",
              "        vertical-align: top;\n",
              "    }\n",
              "\n",
              "    .dataframe thead th {\n",
              "        text-align: right;\n",
              "    }\n",
              "</style>\n",
              "<table border=\"1\" class=\"dataframe\">\n",
              "  <thead>\n",
              "    <tr style=\"text-align: right;\">\n",
              "      <th></th>\n",
              "      <th>Age_band_of_driver_Cat</th>\n",
              "      <th>Sex_of_driver_Cat</th>\n",
              "      <th>Educational_level_Cat</th>\n",
              "      <th>Driving_experience_Cat</th>\n",
              "      <th>Lanes_or_Medians_Cat</th>\n",
              "      <th>Light_conditions_Cat</th>\n",
              "      <th>Type_of_collision_Cat</th>\n",
              "      <th>Number_of_vehicles_involved</th>\n",
              "      <th>Number_of_casualties</th>\n",
              "      <th>Vehicle_movement_Cat</th>\n",
              "      <th>Day_of_week_Cat</th>\n",
              "      <th>Area_accident_occured_Cat</th>\n",
              "      <th>Road_allignment_Cat</th>\n",
              "      <th>Road_surface_conditions_Cat</th>\n",
              "      <th>Weather_conditions_Cat</th>\n",
              "      <th>Cause_of_accident_Cat</th>\n",
              "    </tr>\n",
              "  </thead>\n",
              "  <tbody>\n",
              "    <tr>\n",
              "      <th>0</th>\n",
              "      <td>0</td>\n",
              "      <td>1</td>\n",
              "      <td>0</td>\n",
              "      <td>0</td>\n",
              "      <td>5</td>\n",
              "      <td>3</td>\n",
              "      <td>3</td>\n",
              "      <td>2</td>\n",
              "      <td>2</td>\n",
              "      <td>2</td>\n",
              "      <td>1</td>\n",
              "      <td>9</td>\n",
              "      <td>5</td>\n",
              "      <td>0</td>\n",
              "      <td>2</td>\n",
              "      <td>9</td>\n",
              "    </tr>\n",
              "    <tr>\n",
              "      <th>1</th>\n",
              "      <td>1</td>\n",
              "      <td>1</td>\n",
              "      <td>4</td>\n",
              "      <td>3</td>\n",
              "      <td>4</td>\n",
              "      <td>3</td>\n",
              "      <td>8</td>\n",
              "      <td>2</td>\n",
              "      <td>2</td>\n",
              "      <td>2</td>\n",
              "      <td>1</td>\n",
              "      <td>6</td>\n",
              "      <td>5</td>\n",
              "      <td>0</td>\n",
              "      <td>2</td>\n",
              "      <td>16</td>\n",
              "    </tr>\n",
              "    <tr>\n",
              "      <th>2</th>\n",
              "      <td>0</td>\n",
              "      <td>1</td>\n",
              "      <td>4</td>\n",
              "      <td>0</td>\n",
              "      <td>6</td>\n",
              "      <td>3</td>\n",
              "      <td>2</td>\n",
              "      <td>2</td>\n",
              "      <td>2</td>\n",
              "      <td>2</td>\n",
              "      <td>1</td>\n",
              "      <td>1</td>\n",
              "      <td>5</td>\n",
              "      <td>0</td>\n",
              "      <td>2</td>\n",
              "      <td>0</td>\n",
              "    </tr>\n",
              "    <tr>\n",
              "      <th>3</th>\n",
              "      <td>0</td>\n",
              "      <td>1</td>\n",
              "      <td>4</td>\n",
              "      <td>2</td>\n",
              "      <td>6</td>\n",
              "      <td>0</td>\n",
              "      <td>8</td>\n",
              "      <td>2</td>\n",
              "      <td>2</td>\n",
              "      <td>2</td>\n",
              "      <td>3</td>\n",
              "      <td>6</td>\n",
              "      <td>6</td>\n",
              "      <td>0</td>\n",
              "      <td>2</td>\n",
              "      <td>1</td>\n",
              "    </tr>\n",
              "    <tr>\n",
              "      <th>4</th>\n",
              "      <td>0</td>\n",
              "      <td>1</td>\n",
              "      <td>4</td>\n",
              "      <td>1</td>\n",
              "      <td>6</td>\n",
              "      <td>0</td>\n",
              "      <td>8</td>\n",
              "      <td>2</td>\n",
              "      <td>2</td>\n",
              "      <td>2</td>\n",
              "      <td>3</td>\n",
              "      <td>4</td>\n",
              "      <td>5</td>\n",
              "      <td>0</td>\n",
              "      <td>2</td>\n",
              "      <td>16</td>\n",
              "    </tr>\n",
              "  </tbody>\n",
              "</table>\n",
              "</div>\n",
              "    <div class=\"colab-df-buttons\">\n",
              "\n",
              "  <div class=\"colab-df-container\">\n",
              "    <button class=\"colab-df-convert\" onclick=\"convertToInteractive('df-0c39c86b-321b-4302-8b35-434540d326a4')\"\n",
              "            title=\"Convert this dataframe to an interactive table.\"\n",
              "            style=\"display:none;\">\n",
              "\n",
              "  <svg xmlns=\"http://www.w3.org/2000/svg\" height=\"24px\" viewBox=\"0 -960 960 960\">\n",
              "    <path d=\"M120-120v-720h720v720H120Zm60-500h600v-160H180v160Zm220 220h160v-160H400v160Zm0 220h160v-160H400v160ZM180-400h160v-160H180v160Zm440 0h160v-160H620v160ZM180-180h160v-160H180v160Zm440 0h160v-160H620v160Z\"/>\n",
              "  </svg>\n",
              "    </button>\n",
              "\n",
              "  <style>\n",
              "    .colab-df-container {\n",
              "      display:flex;\n",
              "      gap: 12px;\n",
              "    }\n",
              "\n",
              "    .colab-df-convert {\n",
              "      background-color: #E8F0FE;\n",
              "      border: none;\n",
              "      border-radius: 50%;\n",
              "      cursor: pointer;\n",
              "      display: none;\n",
              "      fill: #1967D2;\n",
              "      height: 32px;\n",
              "      padding: 0 0 0 0;\n",
              "      width: 32px;\n",
              "    }\n",
              "\n",
              "    .colab-df-convert:hover {\n",
              "      background-color: #E2EBFA;\n",
              "      box-shadow: 0px 1px 2px rgba(60, 64, 67, 0.3), 0px 1px 3px 1px rgba(60, 64, 67, 0.15);\n",
              "      fill: #174EA6;\n",
              "    }\n",
              "\n",
              "    .colab-df-buttons div {\n",
              "      margin-bottom: 4px;\n",
              "    }\n",
              "\n",
              "    [theme=dark] .colab-df-convert {\n",
              "      background-color: #3B4455;\n",
              "      fill: #D2E3FC;\n",
              "    }\n",
              "\n",
              "    [theme=dark] .colab-df-convert:hover {\n",
              "      background-color: #434B5C;\n",
              "      box-shadow: 0px 1px 3px 1px rgba(0, 0, 0, 0.15);\n",
              "      filter: drop-shadow(0px 1px 2px rgba(0, 0, 0, 0.3));\n",
              "      fill: #FFFFFF;\n",
              "    }\n",
              "  </style>\n",
              "\n",
              "    <script>\n",
              "      const buttonEl =\n",
              "        document.querySelector('#df-0c39c86b-321b-4302-8b35-434540d326a4 button.colab-df-convert');\n",
              "      buttonEl.style.display =\n",
              "        google.colab.kernel.accessAllowed ? 'block' : 'none';\n",
              "\n",
              "      async function convertToInteractive(key) {\n",
              "        const element = document.querySelector('#df-0c39c86b-321b-4302-8b35-434540d326a4');\n",
              "        const dataTable =\n",
              "          await google.colab.kernel.invokeFunction('convertToInteractive',\n",
              "                                                    [key], {});\n",
              "        if (!dataTable) return;\n",
              "\n",
              "        const docLinkHtml = 'Like what you see? Visit the ' +\n",
              "          '<a target=\"_blank\" href=https://colab.research.google.com/notebooks/data_table.ipynb>data table notebook</a>'\n",
              "          + ' to learn more about interactive tables.';\n",
              "        element.innerHTML = '';\n",
              "        dataTable['output_type'] = 'display_data';\n",
              "        await google.colab.output.renderOutput(dataTable, element);\n",
              "        const docLink = document.createElement('div');\n",
              "        docLink.innerHTML = docLinkHtml;\n",
              "        element.appendChild(docLink);\n",
              "      }\n",
              "    </script>\n",
              "  </div>\n",
              "\n",
              "\n",
              "<div id=\"df-b96bf277-a4c0-4236-bcad-17f454dfc872\">\n",
              "  <button class=\"colab-df-quickchart\" onclick=\"quickchart('df-b96bf277-a4c0-4236-bcad-17f454dfc872')\"\n",
              "            title=\"Suggest charts\"\n",
              "            style=\"display:none;\">\n",
              "\n",
              "<svg xmlns=\"http://www.w3.org/2000/svg\" height=\"24px\"viewBox=\"0 0 24 24\"\n",
              "     width=\"24px\">\n",
              "    <g>\n",
              "        <path d=\"M19 3H5c-1.1 0-2 .9-2 2v14c0 1.1.9 2 2 2h14c1.1 0 2-.9 2-2V5c0-1.1-.9-2-2-2zM9 17H7v-7h2v7zm4 0h-2V7h2v10zm4 0h-2v-4h2v4z\"/>\n",
              "    </g>\n",
              "</svg>\n",
              "  </button>\n",
              "\n",
              "<style>\n",
              "  .colab-df-quickchart {\n",
              "      --bg-color: #E8F0FE;\n",
              "      --fill-color: #1967D2;\n",
              "      --hover-bg-color: #E2EBFA;\n",
              "      --hover-fill-color: #174EA6;\n",
              "      --disabled-fill-color: #AAA;\n",
              "      --disabled-bg-color: #DDD;\n",
              "  }\n",
              "\n",
              "  [theme=dark] .colab-df-quickchart {\n",
              "      --bg-color: #3B4455;\n",
              "      --fill-color: #D2E3FC;\n",
              "      --hover-bg-color: #434B5C;\n",
              "      --hover-fill-color: #FFFFFF;\n",
              "      --disabled-bg-color: #3B4455;\n",
              "      --disabled-fill-color: #666;\n",
              "  }\n",
              "\n",
              "  .colab-df-quickchart {\n",
              "    background-color: var(--bg-color);\n",
              "    border: none;\n",
              "    border-radius: 50%;\n",
              "    cursor: pointer;\n",
              "    display: none;\n",
              "    fill: var(--fill-color);\n",
              "    height: 32px;\n",
              "    padding: 0;\n",
              "    width: 32px;\n",
              "  }\n",
              "\n",
              "  .colab-df-quickchart:hover {\n",
              "    background-color: var(--hover-bg-color);\n",
              "    box-shadow: 0 1px 2px rgba(60, 64, 67, 0.3), 0 1px 3px 1px rgba(60, 64, 67, 0.15);\n",
              "    fill: var(--button-hover-fill-color);\n",
              "  }\n",
              "\n",
              "  .colab-df-quickchart-complete:disabled,\n",
              "  .colab-df-quickchart-complete:disabled:hover {\n",
              "    background-color: var(--disabled-bg-color);\n",
              "    fill: var(--disabled-fill-color);\n",
              "    box-shadow: none;\n",
              "  }\n",
              "\n",
              "  .colab-df-spinner {\n",
              "    border: 2px solid var(--fill-color);\n",
              "    border-color: transparent;\n",
              "    border-bottom-color: var(--fill-color);\n",
              "    animation:\n",
              "      spin 1s steps(1) infinite;\n",
              "  }\n",
              "\n",
              "  @keyframes spin {\n",
              "    0% {\n",
              "      border-color: transparent;\n",
              "      border-bottom-color: var(--fill-color);\n",
              "      border-left-color: var(--fill-color);\n",
              "    }\n",
              "    20% {\n",
              "      border-color: transparent;\n",
              "      border-left-color: var(--fill-color);\n",
              "      border-top-color: var(--fill-color);\n",
              "    }\n",
              "    30% {\n",
              "      border-color: transparent;\n",
              "      border-left-color: var(--fill-color);\n",
              "      border-top-color: var(--fill-color);\n",
              "      border-right-color: var(--fill-color);\n",
              "    }\n",
              "    40% {\n",
              "      border-color: transparent;\n",
              "      border-right-color: var(--fill-color);\n",
              "      border-top-color: var(--fill-color);\n",
              "    }\n",
              "    60% {\n",
              "      border-color: transparent;\n",
              "      border-right-color: var(--fill-color);\n",
              "    }\n",
              "    80% {\n",
              "      border-color: transparent;\n",
              "      border-right-color: var(--fill-color);\n",
              "      border-bottom-color: var(--fill-color);\n",
              "    }\n",
              "    90% {\n",
              "      border-color: transparent;\n",
              "      border-bottom-color: var(--fill-color);\n",
              "    }\n",
              "  }\n",
              "</style>\n",
              "\n",
              "  <script>\n",
              "    async function quickchart(key) {\n",
              "      const quickchartButtonEl =\n",
              "        document.querySelector('#' + key + ' button');\n",
              "      quickchartButtonEl.disabled = true;  // To prevent multiple clicks.\n",
              "      quickchartButtonEl.classList.add('colab-df-spinner');\n",
              "      try {\n",
              "        const charts = await google.colab.kernel.invokeFunction(\n",
              "            'suggestCharts', [key], {});\n",
              "      } catch (error) {\n",
              "        console.error('Error during call to suggestCharts:', error);\n",
              "      }\n",
              "      quickchartButtonEl.classList.remove('colab-df-spinner');\n",
              "      quickchartButtonEl.classList.add('colab-df-quickchart-complete');\n",
              "    }\n",
              "    (() => {\n",
              "      let quickchartButtonEl =\n",
              "        document.querySelector('#df-b96bf277-a4c0-4236-bcad-17f454dfc872 button');\n",
              "      quickchartButtonEl.style.display =\n",
              "        google.colab.kernel.accessAllowed ? 'block' : 'none';\n",
              "    })();\n",
              "  </script>\n",
              "</div>\n",
              "\n",
              "    </div>\n",
              "  </div>\n"
            ],
            "application/vnd.google.colaboratory.intrinsic+json": {
              "type": "dataframe",
              "variable_name": "x",
              "summary": "{\n  \"name\": \"x\",\n  \"rows\": 12138,\n  \"fields\": [\n    {\n      \"column\": \"Age_band_of_driver_Cat\",\n      \"properties\": {\n        \"dtype\": \"number\",\n        \"std\": 1,\n        \"min\": 0,\n        \"max\": 4,\n        \"num_unique_values\": 5,\n        \"samples\": [\n          1,\n          4,\n          3\n        ],\n        \"semantic_type\": \"\",\n        \"description\": \"\"\n      }\n    },\n    {\n      \"column\": \"Sex_of_driver_Cat\",\n      \"properties\": {\n        \"dtype\": \"number\",\n        \"std\": 0,\n        \"min\": 0,\n        \"max\": 1,\n        \"num_unique_values\": 2,\n        \"samples\": [\n          0,\n          1\n        ],\n        \"semantic_type\": \"\",\n        \"description\": \"\"\n      }\n    },\n    {\n      \"column\": \"Educational_level_Cat\",\n      \"properties\": {\n        \"dtype\": \"number\",\n        \"std\": 1,\n        \"min\": 0,\n        \"max\": 6,\n        \"num_unique_values\": 7,\n        \"samples\": [\n          0,\n          4\n        ],\n        \"semantic_type\": \"\",\n        \"description\": \"\"\n      }\n    },\n    {\n      \"column\": \"Driving_experience_Cat\",\n      \"properties\": {\n        \"dtype\": \"number\",\n        \"std\": 1,\n        \"min\": 0,\n        \"max\": 6,\n        \"num_unique_values\": 7,\n        \"samples\": [\n          0,\n          3\n        ],\n        \"semantic_type\": \"\",\n        \"description\": \"\"\n      }\n    },\n    {\n      \"column\": \"Lanes_or_Medians_Cat\",\n      \"properties\": {\n        \"dtype\": \"number\",\n        \"std\": 1,\n        \"min\": 0,\n        \"max\": 6,\n        \"num_unique_values\": 7,\n        \"samples\": [\n          5,\n          4\n        ],\n        \"semantic_type\": \"\",\n        \"description\": \"\"\n      }\n    },\n    {\n      \"column\": \"Light_conditions_Cat\",\n      \"properties\": {\n        \"dtype\": \"number\",\n        \"std\": 1,\n        \"min\": 0,\n        \"max\": 3,\n        \"num_unique_values\": 4,\n        \"samples\": [\n          0,\n          1\n        ],\n        \"semantic_type\": \"\",\n        \"description\": \"\"\n      }\n    },\n    {\n      \"column\": \"Type_of_collision_Cat\",\n      \"properties\": {\n        \"dtype\": \"number\",\n        \"std\": 2,\n        \"min\": 0,\n        \"max\": 9,\n        \"num_unique_values\": 10,\n        \"samples\": [\n          9,\n          8\n        ],\n        \"semantic_type\": \"\",\n        \"description\": \"\"\n      }\n    },\n    {\n      \"column\": \"Number_of_vehicles_involved\",\n      \"properties\": {\n        \"dtype\": \"number\",\n        \"std\": 0,\n        \"min\": 1,\n        \"max\": 7,\n        \"num_unique_values\": 6,\n        \"samples\": [\n          2,\n          1\n        ],\n        \"semantic_type\": \"\",\n        \"description\": \"\"\n      }\n    },\n    {\n      \"column\": \"Number_of_casualties\",\n      \"properties\": {\n        \"dtype\": \"number\",\n        \"std\": 1,\n        \"min\": 1,\n        \"max\": 8,\n        \"num_unique_values\": 8,\n        \"samples\": [\n          1,\n          5\n        ],\n        \"semantic_type\": \"\",\n        \"description\": \"\"\n      }\n    },\n    {\n      \"column\": \"Vehicle_movement_Cat\",\n      \"properties\": {\n        \"dtype\": \"number\",\n        \"std\": 2,\n        \"min\": 0,\n        \"max\": 12,\n        \"num_unique_values\": 13,\n        \"samples\": [\n          4,\n          8\n        ],\n        \"semantic_type\": \"\",\n        \"description\": \"\"\n      }\n    },\n    {\n      \"column\": \"Day_of_week_Cat\",\n      \"properties\": {\n        \"dtype\": \"number\",\n        \"std\": 2,\n        \"min\": 0,\n        \"max\": 6,\n        \"num_unique_values\": 7,\n        \"samples\": [\n          1,\n          3\n        ],\n        \"semantic_type\": \"\",\n        \"description\": \"\"\n      }\n    },\n    {\n      \"column\": \"Area_accident_occured_Cat\",\n      \"properties\": {\n        \"dtype\": \"number\",\n        \"std\": 2,\n        \"min\": 0,\n        \"max\": 13,\n        \"num_unique_values\": 14,\n        \"samples\": [\n          3,\n          11\n        ],\n        \"semantic_type\": \"\",\n        \"description\": \"\"\n      }\n    },\n    {\n      \"column\": \"Road_allignment_Cat\",\n      \"properties\": {\n        \"dtype\": \"number\",\n        \"std\": 0,\n        \"min\": 0,\n        \"max\": 8,\n        \"num_unique_values\": 9,\n        \"samples\": [\n          2,\n          6\n        ],\n        \"semantic_type\": \"\",\n        \"description\": \"\"\n      }\n    },\n    {\n      \"column\": \"Road_surface_conditions_Cat\",\n      \"properties\": {\n        \"dtype\": \"number\",\n        \"std\": 1,\n        \"min\": 0,\n        \"max\": 3,\n        \"num_unique_values\": 4,\n        \"samples\": [\n          3,\n          1\n        ],\n        \"semantic_type\": \"\",\n        \"description\": \"\"\n      }\n    },\n    {\n      \"column\": \"Weather_conditions_Cat\",\n      \"properties\": {\n        \"dtype\": \"number\",\n        \"std\": 1,\n        \"min\": 0,\n        \"max\": 8,\n        \"num_unique_values\": 9,\n        \"samples\": [\n          7,\n          4\n        ],\n        \"semantic_type\": \"\",\n        \"description\": \"\"\n      }\n    },\n    {\n      \"column\": \"Cause_of_accident_Cat\",\n      \"properties\": {\n        \"dtype\": \"number\",\n        \"std\": 5,\n        \"min\": 0,\n        \"max\": 19,\n        \"num_unique_values\": 20,\n        \"samples\": [\n          9,\n          18\n        ],\n        \"semantic_type\": \"\",\n        \"description\": \"\"\n      }\n    }\n  ]\n}"
            }
          },
          "metadata": {},
          "execution_count": 525
        }
      ]
    },
    {
      "cell_type": "code",
      "source": [
        "y.head()"
      ],
      "metadata": {
        "colab": {
          "base_uri": "https://localhost:8080/",
          "height": 241
        },
        "id": "y6pYLeYFCehA",
        "outputId": "90a3e189-75f7-4616-d0f6-246632ad9a78"
      },
      "id": "y6pYLeYFCehA",
      "execution_count": 526,
      "outputs": [
        {
          "output_type": "execute_result",
          "data": {
            "text/plain": [
              "0    2\n",
              "1    2\n",
              "2    1\n",
              "3    2\n",
              "4    2\n",
              "Name: Accident_severity_Cat, dtype: int64"
            ],
            "text/html": [
              "<table border=\"1\" class=\"dataframe\">\n",
              "  <thead>\n",
              "    <tr style=\"text-align: right;\">\n",
              "      <th></th>\n",
              "      <th>Accident_severity_Cat</th>\n",
              "    </tr>\n",
              "  </thead>\n",
              "  <tbody>\n",
              "    <tr>\n",
              "      <th>0</th>\n",
              "      <td>2</td>\n",
              "    </tr>\n",
              "    <tr>\n",
              "      <th>1</th>\n",
              "      <td>2</td>\n",
              "    </tr>\n",
              "    <tr>\n",
              "      <th>2</th>\n",
              "      <td>1</td>\n",
              "    </tr>\n",
              "    <tr>\n",
              "      <th>3</th>\n",
              "      <td>2</td>\n",
              "    </tr>\n",
              "    <tr>\n",
              "      <th>4</th>\n",
              "      <td>2</td>\n",
              "    </tr>\n",
              "  </tbody>\n",
              "</table><br><label><b>dtype:</b> int64</label>"
            ]
          },
          "metadata": {},
          "execution_count": 526
        }
      ]
    },
    {
      "cell_type": "code",
      "source": [
        "x_train,x_test,y_train,y_test=train_test_split(x,y,train_size=0.8,random_state=11)"
      ],
      "metadata": {
        "id": "zJ5ojOqzxPgK"
      },
      "id": "zJ5ojOqzxPgK",
      "execution_count": 527,
      "outputs": []
    },
    {
      "cell_type": "markdown",
      "id": "e74a5058",
      "metadata": {
        "id": "e74a5058"
      },
      "source": [
        "## Modeling\n",
        "\n",
        "Once the data is split into training and testing sets, the next step is to build models to make predictions. Here, we will explore several machine learning algorithms, each with its unique characteristics and suitability for different types of data and problems. You will implement the following models:\n",
        "\n",
        "### 1. Logistic Regression\n",
        "\n",
        "### 2. Decision Tree Classifier\n",
        "\n",
        "### 3. Support Vector Machine (SVM)\n",
        "\n",
        "### 4. K-Neighbors Classifier\n",
        "\n",
        "### Implementing the Models\n",
        "- For each model, use the training data you have prepared to train the model."
      ]
    },
    {
      "cell_type": "markdown",
      "id": "1a6c9815",
      "metadata": {
        "id": "1a6c9815"
      },
      "source": [
        "#### Logistic Regression"
      ]
    },
    {
      "cell_type": "code",
      "execution_count": 546,
      "id": "d35137d1",
      "metadata": {
        "id": "d35137d1"
      },
      "outputs": [],
      "source": [
        "from sklearn.linear_model import LogisticRegression\n",
        "from sklearn.tree import DecisionTreeClassifier\n",
        "from sklearn.model_selection import GridSearchCV\n",
        "from sklearn.svm import SVC\n",
        "from sklearn.neighbors import KNeighborsClassifier\n"
      ]
    },
    {
      "cell_type": "code",
      "source": [
        "log=LogisticRegression()\n",
        "has={\"solver\":[\"lbfgs\",\"newton-cg\"],'penalty': ['l1','l2'], 'C': [0.001,0.01,0.1,1,10,100,1000]}\n",
        "g=GridSearchCV(log,has,cv=3,verbose=3)"
      ],
      "metadata": {
        "id": "xEjiCyJ80N3o"
      },
      "id": "xEjiCyJ80N3o",
      "execution_count": 534,
      "outputs": []
    },
    {
      "cell_type": "code",
      "source": [
        "g.fit(x_train,y_train)"
      ],
      "metadata": {
        "colab": {
          "base_uri": "https://localhost:8080/",
          "height": 1000
        },
        "id": "ZiCYJEUnyG-5",
        "outputId": "72de86f6-8474-4c40-b53a-0616f4571aaa"
      },
      "id": "ZiCYJEUnyG-5",
      "execution_count": 535,
      "outputs": [
        {
          "output_type": "stream",
          "name": "stdout",
          "text": [
            "Fitting 3 folds for each of 28 candidates, totalling 84 fits\n",
            "[CV 1/3] END ...C=0.001, penalty=l1, solver=lbfgs;, score=nan total time=   0.0s\n",
            "[CV 2/3] END ...C=0.001, penalty=l1, solver=lbfgs;, score=nan total time=   0.0s\n",
            "[CV 3/3] END ...C=0.001, penalty=l1, solver=lbfgs;, score=nan total time=   0.0s\n",
            "[CV 1/3] END C=0.001, penalty=l1, solver=newton-cg;, score=nan total time=   0.0s\n",
            "[CV 2/3] END C=0.001, penalty=l1, solver=newton-cg;, score=nan total time=   0.0s\n",
            "[CV 3/3] END C=0.001, penalty=l1, solver=newton-cg;, score=nan total time=   0.0s\n",
            "[CV 1/3] END .C=0.001, penalty=l2, solver=lbfgs;, score=0.845 total time=   0.2s\n"
          ]
        },
        {
          "output_type": "stream",
          "name": "stderr",
          "text": [
            "/usr/local/lib/python3.10/dist-packages/sklearn/linear_model/_logistic.py:460: ConvergenceWarning: lbfgs failed to converge (status=1):\n",
            "STOP: TOTAL NO. of ITERATIONS REACHED LIMIT.\n",
            "\n",
            "Increase the number of iterations (max_iter) or scale the data as shown in:\n",
            "    https://scikit-learn.org/stable/modules/preprocessing.html\n",
            "Please also refer to the documentation for alternative solver options:\n",
            "    https://scikit-learn.org/stable/modules/linear_model.html#logistic-regression\n",
            "  n_iter_i = _check_optimize_result(\n"
          ]
        },
        {
          "output_type": "stream",
          "name": "stdout",
          "text": [
            "[CV 2/3] END .C=0.001, penalty=l2, solver=lbfgs;, score=0.844 total time=   0.2s\n",
            "[CV 3/3] END .C=0.001, penalty=l2, solver=lbfgs;, score=0.845 total time=   0.2s\n",
            "[CV 1/3] END C=0.001, penalty=l2, solver=newton-cg;, score=0.845 total time=   0.4s\n",
            "[CV 2/3] END C=0.001, penalty=l2, solver=newton-cg;, score=0.844 total time=   0.4s\n",
            "[CV 3/3] END C=0.001, penalty=l2, solver=newton-cg;, score=0.845 total time=   0.4s\n",
            "[CV 1/3] END ....C=0.01, penalty=l1, solver=lbfgs;, score=nan total time=   0.0s\n",
            "[CV 2/3] END ....C=0.01, penalty=l1, solver=lbfgs;, score=nan total time=   0.0s\n",
            "[CV 3/3] END ....C=0.01, penalty=l1, solver=lbfgs;, score=nan total time=   0.0s\n",
            "[CV 1/3] END C=0.01, penalty=l1, solver=newton-cg;, score=nan total time=   0.0s\n",
            "[CV 2/3] END C=0.01, penalty=l1, solver=newton-cg;, score=nan total time=   0.0s\n",
            "[CV 3/3] END C=0.01, penalty=l1, solver=newton-cg;, score=nan total time=   0.0s\n"
          ]
        },
        {
          "output_type": "stream",
          "name": "stderr",
          "text": [
            "/usr/local/lib/python3.10/dist-packages/sklearn/linear_model/_logistic.py:460: ConvergenceWarning: lbfgs failed to converge (status=1):\n",
            "STOP: TOTAL NO. of ITERATIONS REACHED LIMIT.\n",
            "\n",
            "Increase the number of iterations (max_iter) or scale the data as shown in:\n",
            "    https://scikit-learn.org/stable/modules/preprocessing.html\n",
            "Please also refer to the documentation for alternative solver options:\n",
            "    https://scikit-learn.org/stable/modules/linear_model.html#logistic-regression\n",
            "  n_iter_i = _check_optimize_result(\n"
          ]
        },
        {
          "output_type": "stream",
          "name": "stdout",
          "text": [
            "[CV 1/3] END ..C=0.01, penalty=l2, solver=lbfgs;, score=0.845 total time=   0.2s\n"
          ]
        },
        {
          "output_type": "stream",
          "name": "stderr",
          "text": [
            "/usr/local/lib/python3.10/dist-packages/sklearn/linear_model/_logistic.py:460: ConvergenceWarning: lbfgs failed to converge (status=1):\n",
            "STOP: TOTAL NO. of ITERATIONS REACHED LIMIT.\n",
            "\n",
            "Increase the number of iterations (max_iter) or scale the data as shown in:\n",
            "    https://scikit-learn.org/stable/modules/preprocessing.html\n",
            "Please also refer to the documentation for alternative solver options:\n",
            "    https://scikit-learn.org/stable/modules/linear_model.html#logistic-regression\n",
            "  n_iter_i = _check_optimize_result(\n"
          ]
        },
        {
          "output_type": "stream",
          "name": "stdout",
          "text": [
            "[CV 2/3] END ..C=0.01, penalty=l2, solver=lbfgs;, score=0.844 total time=   0.2s\n"
          ]
        },
        {
          "output_type": "stream",
          "name": "stderr",
          "text": [
            "/usr/local/lib/python3.10/dist-packages/sklearn/linear_model/_logistic.py:460: ConvergenceWarning: lbfgs failed to converge (status=1):\n",
            "STOP: TOTAL NO. of ITERATIONS REACHED LIMIT.\n",
            "\n",
            "Increase the number of iterations (max_iter) or scale the data as shown in:\n",
            "    https://scikit-learn.org/stable/modules/preprocessing.html\n",
            "Please also refer to the documentation for alternative solver options:\n",
            "    https://scikit-learn.org/stable/modules/linear_model.html#logistic-regression\n",
            "  n_iter_i = _check_optimize_result(\n"
          ]
        },
        {
          "output_type": "stream",
          "name": "stdout",
          "text": [
            "[CV 3/3] END ..C=0.01, penalty=l2, solver=lbfgs;, score=0.845 total time=   0.2s\n",
            "[CV 1/3] END C=0.01, penalty=l2, solver=newton-cg;, score=0.845 total time=   0.7s\n",
            "[CV 2/3] END C=0.01, penalty=l2, solver=newton-cg;, score=0.844 total time=   0.5s\n",
            "[CV 3/3] END C=0.01, penalty=l2, solver=newton-cg;, score=0.845 total time=   0.5s\n",
            "[CV 1/3] END .....C=0.1, penalty=l1, solver=lbfgs;, score=nan total time=   0.0s\n",
            "[CV 2/3] END .....C=0.1, penalty=l1, solver=lbfgs;, score=nan total time=   0.0s\n",
            "[CV 3/3] END .....C=0.1, penalty=l1, solver=lbfgs;, score=nan total time=   0.0s\n",
            "[CV 1/3] END .C=0.1, penalty=l1, solver=newton-cg;, score=nan total time=   0.0s\n",
            "[CV 2/3] END .C=0.1, penalty=l1, solver=newton-cg;, score=nan total time=   0.0s\n",
            "[CV 3/3] END .C=0.1, penalty=l1, solver=newton-cg;, score=nan total time=   0.0s\n"
          ]
        },
        {
          "output_type": "stream",
          "name": "stderr",
          "text": [
            "/usr/local/lib/python3.10/dist-packages/sklearn/linear_model/_logistic.py:460: ConvergenceWarning: lbfgs failed to converge (status=1):\n",
            "STOP: TOTAL NO. of ITERATIONS REACHED LIMIT.\n",
            "\n",
            "Increase the number of iterations (max_iter) or scale the data as shown in:\n",
            "    https://scikit-learn.org/stable/modules/preprocessing.html\n",
            "Please also refer to the documentation for alternative solver options:\n",
            "    https://scikit-learn.org/stable/modules/linear_model.html#logistic-regression\n",
            "  n_iter_i = _check_optimize_result(\n"
          ]
        },
        {
          "output_type": "stream",
          "name": "stdout",
          "text": [
            "[CV 1/3] END ...C=0.1, penalty=l2, solver=lbfgs;, score=0.845 total time=   0.2s\n"
          ]
        },
        {
          "output_type": "stream",
          "name": "stderr",
          "text": [
            "/usr/local/lib/python3.10/dist-packages/sklearn/linear_model/_logistic.py:460: ConvergenceWarning: lbfgs failed to converge (status=1):\n",
            "STOP: TOTAL NO. of ITERATIONS REACHED LIMIT.\n",
            "\n",
            "Increase the number of iterations (max_iter) or scale the data as shown in:\n",
            "    https://scikit-learn.org/stable/modules/preprocessing.html\n",
            "Please also refer to the documentation for alternative solver options:\n",
            "    https://scikit-learn.org/stable/modules/linear_model.html#logistic-regression\n",
            "  n_iter_i = _check_optimize_result(\n",
            "/usr/local/lib/python3.10/dist-packages/sklearn/linear_model/_logistic.py:460: ConvergenceWarning: lbfgs failed to converge (status=1):\n",
            "STOP: TOTAL NO. of ITERATIONS REACHED LIMIT.\n",
            "\n",
            "Increase the number of iterations (max_iter) or scale the data as shown in:\n",
            "    https://scikit-learn.org/stable/modules/preprocessing.html\n",
            "Please also refer to the documentation for alternative solver options:\n",
            "    https://scikit-learn.org/stable/modules/linear_model.html#logistic-regression\n",
            "  n_iter_i = _check_optimize_result(\n"
          ]
        },
        {
          "output_type": "stream",
          "name": "stdout",
          "text": [
            "[CV 2/3] END ...C=0.1, penalty=l2, solver=lbfgs;, score=0.844 total time=   0.2s\n",
            "[CV 3/3] END ...C=0.1, penalty=l2, solver=lbfgs;, score=0.845 total time=   0.2s\n",
            "[CV 1/3] END C=0.1, penalty=l2, solver=newton-cg;, score=0.845 total time=   0.6s\n",
            "[CV 2/3] END C=0.1, penalty=l2, solver=newton-cg;, score=0.844 total time=   1.0s\n",
            "[CV 3/3] END C=0.1, penalty=l2, solver=newton-cg;, score=0.845 total time=   0.6s\n",
            "[CV 1/3] END .......C=1, penalty=l1, solver=lbfgs;, score=nan total time=   0.0s\n",
            "[CV 2/3] END .......C=1, penalty=l1, solver=lbfgs;, score=nan total time=   0.0s\n",
            "[CV 3/3] END .......C=1, penalty=l1, solver=lbfgs;, score=nan total time=   0.0s\n",
            "[CV 1/3] END ...C=1, penalty=l1, solver=newton-cg;, score=nan total time=   0.0s\n",
            "[CV 2/3] END ...C=1, penalty=l1, solver=newton-cg;, score=nan total time=   0.0s\n",
            "[CV 3/3] END ...C=1, penalty=l1, solver=newton-cg;, score=nan total time=   0.0s\n"
          ]
        },
        {
          "output_type": "stream",
          "name": "stderr",
          "text": [
            "/usr/local/lib/python3.10/dist-packages/sklearn/linear_model/_logistic.py:460: ConvergenceWarning: lbfgs failed to converge (status=1):\n",
            "STOP: TOTAL NO. of ITERATIONS REACHED LIMIT.\n",
            "\n",
            "Increase the number of iterations (max_iter) or scale the data as shown in:\n",
            "    https://scikit-learn.org/stable/modules/preprocessing.html\n",
            "Please also refer to the documentation for alternative solver options:\n",
            "    https://scikit-learn.org/stable/modules/linear_model.html#logistic-regression\n",
            "  n_iter_i = _check_optimize_result(\n",
            "/usr/local/lib/python3.10/dist-packages/sklearn/linear_model/_logistic.py:460: ConvergenceWarning: lbfgs failed to converge (status=1):\n",
            "STOP: TOTAL NO. of ITERATIONS REACHED LIMIT.\n",
            "\n",
            "Increase the number of iterations (max_iter) or scale the data as shown in:\n",
            "    https://scikit-learn.org/stable/modules/preprocessing.html\n",
            "Please also refer to the documentation for alternative solver options:\n",
            "    https://scikit-learn.org/stable/modules/linear_model.html#logistic-regression\n",
            "  n_iter_i = _check_optimize_result(\n"
          ]
        },
        {
          "output_type": "stream",
          "name": "stdout",
          "text": [
            "[CV 1/3] END .....C=1, penalty=l2, solver=lbfgs;, score=0.845 total time=   0.2s\n",
            "[CV 2/3] END .....C=1, penalty=l2, solver=lbfgs;, score=0.844 total time=   0.2s\n"
          ]
        },
        {
          "output_type": "stream",
          "name": "stderr",
          "text": [
            "/usr/local/lib/python3.10/dist-packages/sklearn/linear_model/_logistic.py:460: ConvergenceWarning: lbfgs failed to converge (status=1):\n",
            "STOP: TOTAL NO. of ITERATIONS REACHED LIMIT.\n",
            "\n",
            "Increase the number of iterations (max_iter) or scale the data as shown in:\n",
            "    https://scikit-learn.org/stable/modules/preprocessing.html\n",
            "Please also refer to the documentation for alternative solver options:\n",
            "    https://scikit-learn.org/stable/modules/linear_model.html#logistic-regression\n",
            "  n_iter_i = _check_optimize_result(\n"
          ]
        },
        {
          "output_type": "stream",
          "name": "stdout",
          "text": [
            "[CV 3/3] END .....C=1, penalty=l2, solver=lbfgs;, score=0.845 total time=   0.2s\n",
            "[CV 1/3] END .C=1, penalty=l2, solver=newton-cg;, score=0.845 total time=   0.6s\n",
            "[CV 2/3] END .C=1, penalty=l2, solver=newton-cg;, score=0.844 total time=   0.7s\n",
            "[CV 3/3] END .C=1, penalty=l2, solver=newton-cg;, score=0.845 total time=   0.6s\n",
            "[CV 1/3] END ......C=10, penalty=l1, solver=lbfgs;, score=nan total time=   0.0s\n",
            "[CV 2/3] END ......C=10, penalty=l1, solver=lbfgs;, score=nan total time=   0.0s\n",
            "[CV 3/3] END ......C=10, penalty=l1, solver=lbfgs;, score=nan total time=   0.0s\n",
            "[CV 1/3] END ..C=10, penalty=l1, solver=newton-cg;, score=nan total time=   0.0s\n",
            "[CV 2/3] END ..C=10, penalty=l1, solver=newton-cg;, score=nan total time=   0.0s\n",
            "[CV 3/3] END ..C=10, penalty=l1, solver=newton-cg;, score=nan total time=   0.0s\n"
          ]
        },
        {
          "output_type": "stream",
          "name": "stderr",
          "text": [
            "/usr/local/lib/python3.10/dist-packages/sklearn/linear_model/_logistic.py:460: ConvergenceWarning: lbfgs failed to converge (status=1):\n",
            "STOP: TOTAL NO. of ITERATIONS REACHED LIMIT.\n",
            "\n",
            "Increase the number of iterations (max_iter) or scale the data as shown in:\n",
            "    https://scikit-learn.org/stable/modules/preprocessing.html\n",
            "Please also refer to the documentation for alternative solver options:\n",
            "    https://scikit-learn.org/stable/modules/linear_model.html#logistic-regression\n",
            "  n_iter_i = _check_optimize_result(\n"
          ]
        },
        {
          "output_type": "stream",
          "name": "stdout",
          "text": [
            "[CV 1/3] END ....C=10, penalty=l2, solver=lbfgs;, score=0.845 total time=   0.2s\n"
          ]
        },
        {
          "output_type": "stream",
          "name": "stderr",
          "text": [
            "/usr/local/lib/python3.10/dist-packages/sklearn/linear_model/_logistic.py:460: ConvergenceWarning: lbfgs failed to converge (status=1):\n",
            "STOP: TOTAL NO. of ITERATIONS REACHED LIMIT.\n",
            "\n",
            "Increase the number of iterations (max_iter) or scale the data as shown in:\n",
            "    https://scikit-learn.org/stable/modules/preprocessing.html\n",
            "Please also refer to the documentation for alternative solver options:\n",
            "    https://scikit-learn.org/stable/modules/linear_model.html#logistic-regression\n",
            "  n_iter_i = _check_optimize_result(\n"
          ]
        },
        {
          "output_type": "stream",
          "name": "stdout",
          "text": [
            "[CV 2/3] END ....C=10, penalty=l2, solver=lbfgs;, score=0.844 total time=   0.5s\n"
          ]
        },
        {
          "output_type": "stream",
          "name": "stderr",
          "text": [
            "/usr/local/lib/python3.10/dist-packages/sklearn/linear_model/_logistic.py:460: ConvergenceWarning: lbfgs failed to converge (status=1):\n",
            "STOP: TOTAL NO. of ITERATIONS REACHED LIMIT.\n",
            "\n",
            "Increase the number of iterations (max_iter) or scale the data as shown in:\n",
            "    https://scikit-learn.org/stable/modules/preprocessing.html\n",
            "Please also refer to the documentation for alternative solver options:\n",
            "    https://scikit-learn.org/stable/modules/linear_model.html#logistic-regression\n",
            "  n_iter_i = _check_optimize_result(\n"
          ]
        },
        {
          "output_type": "stream",
          "name": "stdout",
          "text": [
            "[CV 3/3] END ....C=10, penalty=l2, solver=lbfgs;, score=0.845 total time=   0.5s\n",
            "[CV 1/3] END C=10, penalty=l2, solver=newton-cg;, score=0.845 total time=   2.1s\n",
            "[CV 2/3] END C=10, penalty=l2, solver=newton-cg;, score=0.844 total time=   1.3s\n",
            "[CV 3/3] END C=10, penalty=l2, solver=newton-cg;, score=0.845 total time=   0.7s\n",
            "[CV 1/3] END .....C=100, penalty=l1, solver=lbfgs;, score=nan total time=   0.0s\n",
            "[CV 2/3] END .....C=100, penalty=l1, solver=lbfgs;, score=nan total time=   0.0s\n",
            "[CV 3/3] END .....C=100, penalty=l1, solver=lbfgs;, score=nan total time=   0.0s\n",
            "[CV 1/3] END .C=100, penalty=l1, solver=newton-cg;, score=nan total time=   0.0s\n",
            "[CV 2/3] END .C=100, penalty=l1, solver=newton-cg;, score=nan total time=   0.0s\n",
            "[CV 3/3] END .C=100, penalty=l1, solver=newton-cg;, score=nan total time=   0.0s\n"
          ]
        },
        {
          "output_type": "stream",
          "name": "stderr",
          "text": [
            "/usr/local/lib/python3.10/dist-packages/sklearn/linear_model/_logistic.py:460: ConvergenceWarning: lbfgs failed to converge (status=1):\n",
            "STOP: TOTAL NO. of ITERATIONS REACHED LIMIT.\n",
            "\n",
            "Increase the number of iterations (max_iter) or scale the data as shown in:\n",
            "    https://scikit-learn.org/stable/modules/preprocessing.html\n",
            "Please also refer to the documentation for alternative solver options:\n",
            "    https://scikit-learn.org/stable/modules/linear_model.html#logistic-regression\n",
            "  n_iter_i = _check_optimize_result(\n",
            "/usr/local/lib/python3.10/dist-packages/sklearn/linear_model/_logistic.py:460: ConvergenceWarning: lbfgs failed to converge (status=1):\n",
            "STOP: TOTAL NO. of ITERATIONS REACHED LIMIT.\n",
            "\n",
            "Increase the number of iterations (max_iter) or scale the data as shown in:\n",
            "    https://scikit-learn.org/stable/modules/preprocessing.html\n",
            "Please also refer to the documentation for alternative solver options:\n",
            "    https://scikit-learn.org/stable/modules/linear_model.html#logistic-regression\n",
            "  n_iter_i = _check_optimize_result(\n"
          ]
        },
        {
          "output_type": "stream",
          "name": "stdout",
          "text": [
            "[CV 1/3] END ...C=100, penalty=l2, solver=lbfgs;, score=0.845 total time=   0.2s\n",
            "[CV 2/3] END ...C=100, penalty=l2, solver=lbfgs;, score=0.844 total time=   0.2s\n"
          ]
        },
        {
          "output_type": "stream",
          "name": "stderr",
          "text": [
            "/usr/local/lib/python3.10/dist-packages/sklearn/linear_model/_logistic.py:460: ConvergenceWarning: lbfgs failed to converge (status=1):\n",
            "STOP: TOTAL NO. of ITERATIONS REACHED LIMIT.\n",
            "\n",
            "Increase the number of iterations (max_iter) or scale the data as shown in:\n",
            "    https://scikit-learn.org/stable/modules/preprocessing.html\n",
            "Please also refer to the documentation for alternative solver options:\n",
            "    https://scikit-learn.org/stable/modules/linear_model.html#logistic-regression\n",
            "  n_iter_i = _check_optimize_result(\n"
          ]
        },
        {
          "output_type": "stream",
          "name": "stdout",
          "text": [
            "[CV 3/3] END ...C=100, penalty=l2, solver=lbfgs;, score=0.845 total time=   0.2s\n",
            "[CV 1/3] END C=100, penalty=l2, solver=newton-cg;, score=0.845 total time=   0.6s\n",
            "[CV 2/3] END C=100, penalty=l2, solver=newton-cg;, score=0.844 total time=   0.8s\n",
            "[CV 3/3] END C=100, penalty=l2, solver=newton-cg;, score=0.845 total time=   0.7s\n",
            "[CV 1/3] END ....C=1000, penalty=l1, solver=lbfgs;, score=nan total time=   0.0s\n",
            "[CV 2/3] END ....C=1000, penalty=l1, solver=lbfgs;, score=nan total time=   0.0s\n",
            "[CV 3/3] END ....C=1000, penalty=l1, solver=lbfgs;, score=nan total time=   0.0s\n",
            "[CV 1/3] END C=1000, penalty=l1, solver=newton-cg;, score=nan total time=   0.0s\n",
            "[CV 2/3] END C=1000, penalty=l1, solver=newton-cg;, score=nan total time=   0.0s\n",
            "[CV 3/3] END C=1000, penalty=l1, solver=newton-cg;, score=nan total time=   0.0s\n"
          ]
        },
        {
          "output_type": "stream",
          "name": "stderr",
          "text": [
            "/usr/local/lib/python3.10/dist-packages/sklearn/linear_model/_logistic.py:460: ConvergenceWarning: lbfgs failed to converge (status=1):\n",
            "STOP: TOTAL NO. of ITERATIONS REACHED LIMIT.\n",
            "\n",
            "Increase the number of iterations (max_iter) or scale the data as shown in:\n",
            "    https://scikit-learn.org/stable/modules/preprocessing.html\n",
            "Please also refer to the documentation for alternative solver options:\n",
            "    https://scikit-learn.org/stable/modules/linear_model.html#logistic-regression\n",
            "  n_iter_i = _check_optimize_result(\n",
            "/usr/local/lib/python3.10/dist-packages/sklearn/linear_model/_logistic.py:460: ConvergenceWarning: lbfgs failed to converge (status=1):\n",
            "STOP: TOTAL NO. of ITERATIONS REACHED LIMIT.\n",
            "\n",
            "Increase the number of iterations (max_iter) or scale the data as shown in:\n",
            "    https://scikit-learn.org/stable/modules/preprocessing.html\n",
            "Please also refer to the documentation for alternative solver options:\n",
            "    https://scikit-learn.org/stable/modules/linear_model.html#logistic-regression\n",
            "  n_iter_i = _check_optimize_result(\n"
          ]
        },
        {
          "output_type": "stream",
          "name": "stdout",
          "text": [
            "[CV 1/3] END ..C=1000, penalty=l2, solver=lbfgs;, score=0.845 total time=   0.2s\n",
            "[CV 2/3] END ..C=1000, penalty=l2, solver=lbfgs;, score=0.844 total time=   0.2s\n"
          ]
        },
        {
          "output_type": "stream",
          "name": "stderr",
          "text": [
            "/usr/local/lib/python3.10/dist-packages/sklearn/linear_model/_logistic.py:460: ConvergenceWarning: lbfgs failed to converge (status=1):\n",
            "STOP: TOTAL NO. of ITERATIONS REACHED LIMIT.\n",
            "\n",
            "Increase the number of iterations (max_iter) or scale the data as shown in:\n",
            "    https://scikit-learn.org/stable/modules/preprocessing.html\n",
            "Please also refer to the documentation for alternative solver options:\n",
            "    https://scikit-learn.org/stable/modules/linear_model.html#logistic-regression\n",
            "  n_iter_i = _check_optimize_result(\n"
          ]
        },
        {
          "output_type": "stream",
          "name": "stdout",
          "text": [
            "[CV 3/3] END ..C=1000, penalty=l2, solver=lbfgs;, score=0.845 total time=   0.2s\n",
            "[CV 1/3] END C=1000, penalty=l2, solver=newton-cg;, score=0.845 total time=   0.8s\n",
            "[CV 2/3] END C=1000, penalty=l2, solver=newton-cg;, score=0.844 total time=   0.7s\n",
            "[CV 3/3] END C=1000, penalty=l2, solver=newton-cg;, score=0.845 total time=   0.7s\n"
          ]
        },
        {
          "output_type": "stream",
          "name": "stderr",
          "text": [
            "/usr/local/lib/python3.10/dist-packages/sklearn/model_selection/_validation.py:425: FitFailedWarning: \n",
            "42 fits failed out of a total of 84.\n",
            "The score on these train-test partitions for these parameters will be set to nan.\n",
            "If these failures are not expected, you can try to debug them by setting error_score='raise'.\n",
            "\n",
            "Below are more details about the failures:\n",
            "--------------------------------------------------------------------------------\n",
            "21 fits failed with the following error:\n",
            "Traceback (most recent call last):\n",
            "  File \"/usr/local/lib/python3.10/dist-packages/sklearn/model_selection/_validation.py\", line 729, in _fit_and_score\n",
            "    estimator.fit(X_train, y_train, **fit_params)\n",
            "  File \"/usr/local/lib/python3.10/dist-packages/sklearn/base.py\", line 1152, in wrapper\n",
            "    return fit_method(estimator, *args, **kwargs)\n",
            "  File \"/usr/local/lib/python3.10/dist-packages/sklearn/linear_model/_logistic.py\", line 1169, in fit\n",
            "    solver = _check_solver(self.solver, self.penalty, self.dual)\n",
            "  File \"/usr/local/lib/python3.10/dist-packages/sklearn/linear_model/_logistic.py\", line 56, in _check_solver\n",
            "    raise ValueError(\n",
            "ValueError: Solver lbfgs supports only 'l2' or 'none' penalties, got l1 penalty.\n",
            "\n",
            "--------------------------------------------------------------------------------\n",
            "21 fits failed with the following error:\n",
            "Traceback (most recent call last):\n",
            "  File \"/usr/local/lib/python3.10/dist-packages/sklearn/model_selection/_validation.py\", line 729, in _fit_and_score\n",
            "    estimator.fit(X_train, y_train, **fit_params)\n",
            "  File \"/usr/local/lib/python3.10/dist-packages/sklearn/base.py\", line 1152, in wrapper\n",
            "    return fit_method(estimator, *args, **kwargs)\n",
            "  File \"/usr/local/lib/python3.10/dist-packages/sklearn/linear_model/_logistic.py\", line 1169, in fit\n",
            "    solver = _check_solver(self.solver, self.penalty, self.dual)\n",
            "  File \"/usr/local/lib/python3.10/dist-packages/sklearn/linear_model/_logistic.py\", line 56, in _check_solver\n",
            "    raise ValueError(\n",
            "ValueError: Solver newton-cg supports only 'l2' or 'none' penalties, got l1 penalty.\n",
            "\n",
            "  warnings.warn(some_fits_failed_message, FitFailedWarning)\n",
            "/usr/local/lib/python3.10/dist-packages/sklearn/model_selection/_search.py:979: UserWarning: One or more of the test scores are non-finite: [       nan        nan 0.84449022 0.84449022        nan        nan\n",
            " 0.84449022 0.84449022        nan        nan 0.84449022 0.84449022\n",
            "        nan        nan 0.84449022 0.84449022        nan        nan\n",
            " 0.84449022 0.84449022        nan        nan 0.84449022 0.84449022\n",
            "        nan        nan 0.84449022 0.84449022]\n",
            "  warnings.warn(\n"
          ]
        },
        {
          "output_type": "execute_result",
          "data": {
            "text/plain": [
              "GridSearchCV(cv=3, estimator=LogisticRegression(),\n",
              "             param_grid={'C': [0.001, 0.01, 0.1, 1, 10, 100, 1000],\n",
              "                         'penalty': ['l1', 'l2'],\n",
              "                         'solver': ['lbfgs', 'newton-cg']},\n",
              "             verbose=3)"
            ],
            "text/html": [
              "<style>#sk-container-id-32 {color: black;}#sk-container-id-32 pre{padding: 0;}#sk-container-id-32 div.sk-toggleable {background-color: white;}#sk-container-id-32 label.sk-toggleable__label {cursor: pointer;display: block;width: 100%;margin-bottom: 0;padding: 0.3em;box-sizing: border-box;text-align: center;}#sk-container-id-32 label.sk-toggleable__label-arrow:before {content: \"▸\";float: left;margin-right: 0.25em;color: #696969;}#sk-container-id-32 label.sk-toggleable__label-arrow:hover:before {color: black;}#sk-container-id-32 div.sk-estimator:hover label.sk-toggleable__label-arrow:before {color: black;}#sk-container-id-32 div.sk-toggleable__content {max-height: 0;max-width: 0;overflow: hidden;text-align: left;background-color: #f0f8ff;}#sk-container-id-32 div.sk-toggleable__content pre {margin: 0.2em;color: black;border-radius: 0.25em;background-color: #f0f8ff;}#sk-container-id-32 input.sk-toggleable__control:checked~div.sk-toggleable__content {max-height: 200px;max-width: 100%;overflow: auto;}#sk-container-id-32 input.sk-toggleable__control:checked~label.sk-toggleable__label-arrow:before {content: \"▾\";}#sk-container-id-32 div.sk-estimator input.sk-toggleable__control:checked~label.sk-toggleable__label {background-color: #d4ebff;}#sk-container-id-32 div.sk-label input.sk-toggleable__control:checked~label.sk-toggleable__label {background-color: #d4ebff;}#sk-container-id-32 input.sk-hidden--visually {border: 0;clip: rect(1px 1px 1px 1px);clip: rect(1px, 1px, 1px, 1px);height: 1px;margin: -1px;overflow: hidden;padding: 0;position: absolute;width: 1px;}#sk-container-id-32 div.sk-estimator {font-family: monospace;background-color: #f0f8ff;border: 1px dotted black;border-radius: 0.25em;box-sizing: border-box;margin-bottom: 0.5em;}#sk-container-id-32 div.sk-estimator:hover {background-color: #d4ebff;}#sk-container-id-32 div.sk-parallel-item::after {content: \"\";width: 100%;border-bottom: 1px solid gray;flex-grow: 1;}#sk-container-id-32 div.sk-label:hover label.sk-toggleable__label {background-color: #d4ebff;}#sk-container-id-32 div.sk-serial::before {content: \"\";position: absolute;border-left: 1px solid gray;box-sizing: border-box;top: 0;bottom: 0;left: 50%;z-index: 0;}#sk-container-id-32 div.sk-serial {display: flex;flex-direction: column;align-items: center;background-color: white;padding-right: 0.2em;padding-left: 0.2em;position: relative;}#sk-container-id-32 div.sk-item {position: relative;z-index: 1;}#sk-container-id-32 div.sk-parallel {display: flex;align-items: stretch;justify-content: center;background-color: white;position: relative;}#sk-container-id-32 div.sk-item::before, #sk-container-id-32 div.sk-parallel-item::before {content: \"\";position: absolute;border-left: 1px solid gray;box-sizing: border-box;top: 0;bottom: 0;left: 50%;z-index: -1;}#sk-container-id-32 div.sk-parallel-item {display: flex;flex-direction: column;z-index: 1;position: relative;background-color: white;}#sk-container-id-32 div.sk-parallel-item:first-child::after {align-self: flex-end;width: 50%;}#sk-container-id-32 div.sk-parallel-item:last-child::after {align-self: flex-start;width: 50%;}#sk-container-id-32 div.sk-parallel-item:only-child::after {width: 0;}#sk-container-id-32 div.sk-dashed-wrapped {border: 1px dashed gray;margin: 0 0.4em 0.5em 0.4em;box-sizing: border-box;padding-bottom: 0.4em;background-color: white;}#sk-container-id-32 div.sk-label label {font-family: monospace;font-weight: bold;display: inline-block;line-height: 1.2em;}#sk-container-id-32 div.sk-label-container {text-align: center;}#sk-container-id-32 div.sk-container {/* jupyter's `normalize.less` sets `[hidden] { display: none; }` but bootstrap.min.css set `[hidden] { display: none !important; }` so we also need the `!important` here to be able to override the default hidden behavior on the sphinx rendered scikit-learn.org. See: https://github.com/scikit-learn/scikit-learn/issues/21755 */display: inline-block !important;position: relative;}#sk-container-id-32 div.sk-text-repr-fallback {display: none;}</style><div id=\"sk-container-id-32\" class=\"sk-top-container\"><div class=\"sk-text-repr-fallback\"><pre>GridSearchCV(cv=3, estimator=LogisticRegression(),\n",
              "             param_grid={&#x27;C&#x27;: [0.001, 0.01, 0.1, 1, 10, 100, 1000],\n",
              "                         &#x27;penalty&#x27;: [&#x27;l1&#x27;, &#x27;l2&#x27;],\n",
              "                         &#x27;solver&#x27;: [&#x27;lbfgs&#x27;, &#x27;newton-cg&#x27;]},\n",
              "             verbose=3)</pre><b>In a Jupyter environment, please rerun this cell to show the HTML representation or trust the notebook. <br />On GitHub, the HTML representation is unable to render, please try loading this page with nbviewer.org.</b></div><div class=\"sk-container\" hidden><div class=\"sk-item sk-dashed-wrapped\"><div class=\"sk-label-container\"><div class=\"sk-label sk-toggleable\"><input class=\"sk-toggleable__control sk-hidden--visually\" id=\"sk-estimator-id-68\" type=\"checkbox\" ><label for=\"sk-estimator-id-68\" class=\"sk-toggleable__label sk-toggleable__label-arrow\">GridSearchCV</label><div class=\"sk-toggleable__content\"><pre>GridSearchCV(cv=3, estimator=LogisticRegression(),\n",
              "             param_grid={&#x27;C&#x27;: [0.001, 0.01, 0.1, 1, 10, 100, 1000],\n",
              "                         &#x27;penalty&#x27;: [&#x27;l1&#x27;, &#x27;l2&#x27;],\n",
              "                         &#x27;solver&#x27;: [&#x27;lbfgs&#x27;, &#x27;newton-cg&#x27;]},\n",
              "             verbose=3)</pre></div></div></div><div class=\"sk-parallel\"><div class=\"sk-parallel-item\"><div class=\"sk-item\"><div class=\"sk-label-container\"><div class=\"sk-label sk-toggleable\"><input class=\"sk-toggleable__control sk-hidden--visually\" id=\"sk-estimator-id-69\" type=\"checkbox\" ><label for=\"sk-estimator-id-69\" class=\"sk-toggleable__label sk-toggleable__label-arrow\">estimator: LogisticRegression</label><div class=\"sk-toggleable__content\"><pre>LogisticRegression()</pre></div></div></div><div class=\"sk-serial\"><div class=\"sk-item\"><div class=\"sk-estimator sk-toggleable\"><input class=\"sk-toggleable__control sk-hidden--visually\" id=\"sk-estimator-id-70\" type=\"checkbox\" ><label for=\"sk-estimator-id-70\" class=\"sk-toggleable__label sk-toggleable__label-arrow\">LogisticRegression</label><div class=\"sk-toggleable__content\"><pre>LogisticRegression()</pre></div></div></div></div></div></div></div></div></div></div>"
            ]
          },
          "metadata": {},
          "execution_count": 535
        }
      ]
    },
    {
      "cell_type": "code",
      "source": [
        "g.best_score_"
      ],
      "metadata": {
        "colab": {
          "base_uri": "https://localhost:8080/"
        },
        "id": "W4VMcQdy1Qpz",
        "outputId": "4964e8ee-cef1-4eb9-abba-0f2e39bb3d79"
      },
      "id": "W4VMcQdy1Qpz",
      "execution_count": 536,
      "outputs": [
        {
          "output_type": "execute_result",
          "data": {
            "text/plain": [
              "0.8444902235801308"
            ]
          },
          "metadata": {},
          "execution_count": 536
        }
      ]
    },
    {
      "cell_type": "markdown",
      "id": "0cfd5ecb",
      "metadata": {
        "id": "0cfd5ecb"
      },
      "source": [
        "Decision Tree Classifier"
      ]
    },
    {
      "cell_type": "code",
      "source": [
        "d=DecisionTreeClassifier()\n",
        "has={\"max_depth\":[3,4,5,6,7,8,9], \"min_samples_leaf\":[2,3,4,5,6,7,8,9]}\n",
        "g_d=GridSearchCV(d,has,cv=5,verbose=3)"
      ],
      "metadata": {
        "id": "jywcovZ0y8Yj"
      },
      "id": "jywcovZ0y8Yj",
      "execution_count": 537,
      "outputs": []
    },
    {
      "cell_type": "code",
      "source": [
        "g_d.fit(x_train,y_train)"
      ],
      "metadata": {
        "colab": {
          "base_uri": "https://localhost:8080/",
          "height": 1000
        },
        "id": "TvIERnZMDcaq",
        "outputId": "bd224f9e-a233-4353-d7ea-6ad355c5847d"
      },
      "id": "TvIERnZMDcaq",
      "execution_count": 538,
      "outputs": [
        {
          "output_type": "stream",
          "name": "stdout",
          "text": [
            "Fitting 5 folds for each of 56 candidates, totalling 280 fits\n",
            "[CV 1/5] END ...max_depth=3, min_samples_leaf=2;, score=0.846 total time=   0.0s\n",
            "[CV 2/5] END ...max_depth=3, min_samples_leaf=2;, score=0.844 total time=   0.0s\n",
            "[CV 3/5] END ...max_depth=3, min_samples_leaf=2;, score=0.844 total time=   0.0s\n",
            "[CV 4/5] END ...max_depth=3, min_samples_leaf=2;, score=0.839 total time=   0.0s\n",
            "[CV 5/5] END ...max_depth=3, min_samples_leaf=2;, score=0.846 total time=   0.0s\n",
            "[CV 1/5] END ...max_depth=3, min_samples_leaf=3;, score=0.846 total time=   0.0s\n",
            "[CV 2/5] END ...max_depth=3, min_samples_leaf=3;, score=0.844 total time=   0.0s\n",
            "[CV 3/5] END ...max_depth=3, min_samples_leaf=3;, score=0.844 total time=   0.0s\n",
            "[CV 4/5] END ...max_depth=3, min_samples_leaf=3;, score=0.839 total time=   0.0s\n",
            "[CV 5/5] END ...max_depth=3, min_samples_leaf=3;, score=0.846 total time=   0.0s\n",
            "[CV 1/5] END ...max_depth=3, min_samples_leaf=4;, score=0.846 total time=   0.0s\n",
            "[CV 2/5] END ...max_depth=3, min_samples_leaf=4;, score=0.844 total time=   0.0s\n",
            "[CV 3/5] END ...max_depth=3, min_samples_leaf=4;, score=0.844 total time=   0.0s\n",
            "[CV 4/5] END ...max_depth=3, min_samples_leaf=4;, score=0.839 total time=   0.0s\n",
            "[CV 5/5] END ...max_depth=3, min_samples_leaf=4;, score=0.846 total time=   0.0s\n",
            "[CV 1/5] END ...max_depth=3, min_samples_leaf=5;, score=0.846 total time=   0.0s\n",
            "[CV 2/5] END ...max_depth=3, min_samples_leaf=5;, score=0.844 total time=   0.0s\n",
            "[CV 3/5] END ...max_depth=3, min_samples_leaf=5;, score=0.844 total time=   0.0s\n",
            "[CV 4/5] END ...max_depth=3, min_samples_leaf=5;, score=0.839 total time=   0.0s\n",
            "[CV 5/5] END ...max_depth=3, min_samples_leaf=5;, score=0.846 total time=   0.0s\n",
            "[CV 1/5] END ...max_depth=3, min_samples_leaf=6;, score=0.846 total time=   0.0s\n",
            "[CV 2/5] END ...max_depth=3, min_samples_leaf=6;, score=0.844 total time=   0.0s\n",
            "[CV 3/5] END ...max_depth=3, min_samples_leaf=6;, score=0.844 total time=   0.0s\n",
            "[CV 4/5] END ...max_depth=3, min_samples_leaf=6;, score=0.839 total time=   0.0s\n",
            "[CV 5/5] END ...max_depth=3, min_samples_leaf=6;, score=0.846 total time=   0.0s\n",
            "[CV 1/5] END ...max_depth=3, min_samples_leaf=7;, score=0.846 total time=   0.0s\n",
            "[CV 2/5] END ...max_depth=3, min_samples_leaf=7;, score=0.844 total time=   0.0s\n",
            "[CV 3/5] END ...max_depth=3, min_samples_leaf=7;, score=0.844 total time=   0.0s\n",
            "[CV 4/5] END ...max_depth=3, min_samples_leaf=7;, score=0.839 total time=   0.0s\n",
            "[CV 5/5] END ...max_depth=3, min_samples_leaf=7;, score=0.846 total time=   0.0s\n",
            "[CV 1/5] END ...max_depth=3, min_samples_leaf=8;, score=0.846 total time=   0.0s\n",
            "[CV 2/5] END ...max_depth=3, min_samples_leaf=8;, score=0.844 total time=   0.0s\n",
            "[CV 3/5] END ...max_depth=3, min_samples_leaf=8;, score=0.844 total time=   0.0s\n",
            "[CV 4/5] END ...max_depth=3, min_samples_leaf=8;, score=0.839 total time=   0.0s\n",
            "[CV 5/5] END ...max_depth=3, min_samples_leaf=8;, score=0.846 total time=   0.0s\n",
            "[CV 1/5] END ...max_depth=3, min_samples_leaf=9;, score=0.846 total time=   0.0s\n",
            "[CV 2/5] END ...max_depth=3, min_samples_leaf=9;, score=0.844 total time=   0.0s\n",
            "[CV 3/5] END ...max_depth=3, min_samples_leaf=9;, score=0.844 total time=   0.0s\n",
            "[CV 4/5] END ...max_depth=3, min_samples_leaf=9;, score=0.839 total time=   0.0s\n",
            "[CV 5/5] END ...max_depth=3, min_samples_leaf=9;, score=0.846 total time=   0.0s\n",
            "[CV 1/5] END ...max_depth=4, min_samples_leaf=2;, score=0.844 total time=   0.0s\n",
            "[CV 2/5] END ...max_depth=4, min_samples_leaf=2;, score=0.844 total time=   0.0s\n",
            "[CV 3/5] END ...max_depth=4, min_samples_leaf=2;, score=0.844 total time=   0.0s\n",
            "[CV 4/5] END ...max_depth=4, min_samples_leaf=2;, score=0.845 total time=   0.0s\n",
            "[CV 5/5] END ...max_depth=4, min_samples_leaf=2;, score=0.845 total time=   0.0s\n",
            "[CV 1/5] END ...max_depth=4, min_samples_leaf=3;, score=0.844 total time=   0.0s\n",
            "[CV 2/5] END ...max_depth=4, min_samples_leaf=3;, score=0.844 total time=   0.0s\n",
            "[CV 3/5] END ...max_depth=4, min_samples_leaf=3;, score=0.844 total time=   0.0s\n",
            "[CV 4/5] END ...max_depth=4, min_samples_leaf=3;, score=0.845 total time=   0.0s\n",
            "[CV 5/5] END ...max_depth=4, min_samples_leaf=3;, score=0.845 total time=   0.0s\n",
            "[CV 1/5] END ...max_depth=4, min_samples_leaf=4;, score=0.846 total time=   0.0s\n",
            "[CV 2/5] END ...max_depth=4, min_samples_leaf=4;, score=0.844 total time=   0.0s\n",
            "[CV 3/5] END ...max_depth=4, min_samples_leaf=4;, score=0.845 total time=   0.0s\n",
            "[CV 4/5] END ...max_depth=4, min_samples_leaf=4;, score=0.845 total time=   0.0s\n",
            "[CV 5/5] END ...max_depth=4, min_samples_leaf=4;, score=0.845 total time=   0.0s\n",
            "[CV 1/5] END ...max_depth=4, min_samples_leaf=5;, score=0.846 total time=   0.0s\n",
            "[CV 2/5] END ...max_depth=4, min_samples_leaf=5;, score=0.844 total time=   0.0s\n",
            "[CV 3/5] END ...max_depth=4, min_samples_leaf=5;, score=0.845 total time=   0.0s\n",
            "[CV 4/5] END ...max_depth=4, min_samples_leaf=5;, score=0.845 total time=   0.0s\n",
            "[CV 5/5] END ...max_depth=4, min_samples_leaf=5;, score=0.845 total time=   0.0s\n",
            "[CV 1/5] END ...max_depth=4, min_samples_leaf=6;, score=0.846 total time=   0.0s\n",
            "[CV 2/5] END ...max_depth=4, min_samples_leaf=6;, score=0.844 total time=   0.0s\n",
            "[CV 3/5] END ...max_depth=4, min_samples_leaf=6;, score=0.845 total time=   0.0s\n",
            "[CV 4/5] END ...max_depth=4, min_samples_leaf=6;, score=0.844 total time=   0.0s\n",
            "[CV 5/5] END ...max_depth=4, min_samples_leaf=6;, score=0.845 total time=   0.0s\n",
            "[CV 1/5] END ...max_depth=4, min_samples_leaf=7;, score=0.846 total time=   0.0s\n",
            "[CV 2/5] END ...max_depth=4, min_samples_leaf=7;, score=0.844 total time=   0.0s\n",
            "[CV 3/5] END ...max_depth=4, min_samples_leaf=7;, score=0.845 total time=   0.0s\n",
            "[CV 4/5] END ...max_depth=4, min_samples_leaf=7;, score=0.843 total time=   0.0s\n",
            "[CV 5/5] END ...max_depth=4, min_samples_leaf=7;, score=0.845 total time=   0.0s\n",
            "[CV 1/5] END ...max_depth=4, min_samples_leaf=8;, score=0.846 total time=   0.0s\n",
            "[CV 2/5] END ...max_depth=4, min_samples_leaf=8;, score=0.844 total time=   0.0s\n",
            "[CV 3/5] END ...max_depth=4, min_samples_leaf=8;, score=0.845 total time=   0.0s\n",
            "[CV 4/5] END ...max_depth=4, min_samples_leaf=8;, score=0.843 total time=   0.0s\n",
            "[CV 5/5] END ...max_depth=4, min_samples_leaf=8;, score=0.845 total time=   0.0s\n",
            "[CV 1/5] END ...max_depth=4, min_samples_leaf=9;, score=0.846 total time=   0.0s\n",
            "[CV 2/5] END ...max_depth=4, min_samples_leaf=9;, score=0.843 total time=   0.0s\n",
            "[CV 3/5] END ...max_depth=4, min_samples_leaf=9;, score=0.845 total time=   0.0s\n",
            "[CV 4/5] END ...max_depth=4, min_samples_leaf=9;, score=0.843 total time=   0.0s\n",
            "[CV 5/5] END ...max_depth=4, min_samples_leaf=9;, score=0.845 total time=   0.0s\n",
            "[CV 1/5] END ...max_depth=5, min_samples_leaf=2;, score=0.844 total time=   0.0s\n",
            "[CV 2/5] END ...max_depth=5, min_samples_leaf=2;, score=0.846 total time=   0.0s\n",
            "[CV 3/5] END ...max_depth=5, min_samples_leaf=2;, score=0.845 total time=   0.0s\n",
            "[CV 4/5] END ...max_depth=5, min_samples_leaf=2;, score=0.846 total time=   0.0s\n",
            "[CV 5/5] END ...max_depth=5, min_samples_leaf=2;, score=0.843 total time=   0.0s\n",
            "[CV 1/5] END ...max_depth=5, min_samples_leaf=3;, score=0.844 total time=   0.0s\n",
            "[CV 2/5] END ...max_depth=5, min_samples_leaf=3;, score=0.846 total time=   0.0s\n",
            "[CV 3/5] END ...max_depth=5, min_samples_leaf=3;, score=0.846 total time=   0.0s\n",
            "[CV 4/5] END ...max_depth=5, min_samples_leaf=3;, score=0.844 total time=   0.0s\n",
            "[CV 5/5] END ...max_depth=5, min_samples_leaf=3;, score=0.843 total time=   0.0s\n",
            "[CV 1/5] END ...max_depth=5, min_samples_leaf=4;, score=0.845 total time=   0.0s\n",
            "[CV 2/5] END ...max_depth=5, min_samples_leaf=4;, score=0.846 total time=   0.0s\n",
            "[CV 3/5] END ...max_depth=5, min_samples_leaf=4;, score=0.844 total time=   0.0s\n",
            "[CV 4/5] END ...max_depth=5, min_samples_leaf=4;, score=0.845 total time=   0.0s\n",
            "[CV 5/5] END ...max_depth=5, min_samples_leaf=4;, score=0.843 total time=   0.0s\n",
            "[CV 1/5] END ...max_depth=5, min_samples_leaf=5;, score=0.844 total time=   0.0s\n",
            "[CV 2/5] END ...max_depth=5, min_samples_leaf=5;, score=0.846 total time=   0.0s\n",
            "[CV 3/5] END ...max_depth=5, min_samples_leaf=5;, score=0.844 total time=   0.0s\n",
            "[CV 4/5] END ...max_depth=5, min_samples_leaf=5;, score=0.845 total time=   0.0s\n",
            "[CV 5/5] END ...max_depth=5, min_samples_leaf=5;, score=0.843 total time=   0.0s\n",
            "[CV 1/5] END ...max_depth=5, min_samples_leaf=6;, score=0.844 total time=   0.0s\n",
            "[CV 2/5] END ...max_depth=5, min_samples_leaf=6;, score=0.844 total time=   0.0s\n",
            "[CV 3/5] END ...max_depth=5, min_samples_leaf=6;, score=0.844 total time=   0.0s\n",
            "[CV 4/5] END ...max_depth=5, min_samples_leaf=6;, score=0.844 total time=   0.0s\n",
            "[CV 5/5] END ...max_depth=5, min_samples_leaf=6;, score=0.843 total time=   0.0s\n",
            "[CV 1/5] END ...max_depth=5, min_samples_leaf=7;, score=0.844 total time=   0.0s\n",
            "[CV 2/5] END ...max_depth=5, min_samples_leaf=7;, score=0.844 total time=   0.0s\n",
            "[CV 3/5] END ...max_depth=5, min_samples_leaf=7;, score=0.844 total time=   0.0s\n",
            "[CV 4/5] END ...max_depth=5, min_samples_leaf=7;, score=0.843 total time=   0.0s\n",
            "[CV 5/5] END ...max_depth=5, min_samples_leaf=7;, score=0.843 total time=   0.0s\n",
            "[CV 1/5] END ...max_depth=5, min_samples_leaf=8;, score=0.844 total time=   0.0s\n",
            "[CV 2/5] END ...max_depth=5, min_samples_leaf=8;, score=0.844 total time=   0.0s\n",
            "[CV 3/5] END ...max_depth=5, min_samples_leaf=8;, score=0.842 total time=   0.0s\n",
            "[CV 4/5] END ...max_depth=5, min_samples_leaf=8;, score=0.843 total time=   0.0s\n",
            "[CV 5/5] END ...max_depth=5, min_samples_leaf=8;, score=0.843 total time=   0.0s\n",
            "[CV 1/5] END ...max_depth=5, min_samples_leaf=9;, score=0.844 total time=   0.0s\n",
            "[CV 2/5] END ...max_depth=5, min_samples_leaf=9;, score=0.843 total time=   0.0s\n",
            "[CV 3/5] END ...max_depth=5, min_samples_leaf=9;, score=0.843 total time=   0.0s\n",
            "[CV 4/5] END ...max_depth=5, min_samples_leaf=9;, score=0.846 total time=   0.0s\n",
            "[CV 5/5] END ...max_depth=5, min_samples_leaf=9;, score=0.844 total time=   0.0s\n",
            "[CV 1/5] END ...max_depth=6, min_samples_leaf=2;, score=0.843 total time=   0.0s\n",
            "[CV 2/5] END ...max_depth=6, min_samples_leaf=2;, score=0.843 total time=   0.0s\n",
            "[CV 3/5] END ...max_depth=6, min_samples_leaf=2;, score=0.846 total time=   0.0s\n",
            "[CV 4/5] END ...max_depth=6, min_samples_leaf=2;, score=0.844 total time=   0.0s\n",
            "[CV 5/5] END ...max_depth=6, min_samples_leaf=2;, score=0.845 total time=   0.0s\n",
            "[CV 1/5] END ...max_depth=6, min_samples_leaf=3;, score=0.842 total time=   0.0s\n",
            "[CV 2/5] END ...max_depth=6, min_samples_leaf=3;, score=0.843 total time=   0.0s\n",
            "[CV 3/5] END ...max_depth=6, min_samples_leaf=3;, score=0.847 total time=   0.0s\n",
            "[CV 4/5] END ...max_depth=6, min_samples_leaf=3;, score=0.842 total time=   0.0s\n",
            "[CV 5/5] END ...max_depth=6, min_samples_leaf=3;, score=0.846 total time=   0.0s\n",
            "[CV 1/5] END ...max_depth=6, min_samples_leaf=4;, score=0.843 total time=   0.0s\n",
            "[CV 2/5] END ...max_depth=6, min_samples_leaf=4;, score=0.844 total time=   0.0s\n",
            "[CV 3/5] END ...max_depth=6, min_samples_leaf=4;, score=0.846 total time=   0.0s\n",
            "[CV 4/5] END ...max_depth=6, min_samples_leaf=4;, score=0.844 total time=   0.0s\n",
            "[CV 5/5] END ...max_depth=6, min_samples_leaf=4;, score=0.847 total time=   0.0s\n",
            "[CV 1/5] END ...max_depth=6, min_samples_leaf=5;, score=0.841 total time=   0.0s\n",
            "[CV 2/5] END ...max_depth=6, min_samples_leaf=5;, score=0.844 total time=   0.0s\n",
            "[CV 3/5] END ...max_depth=6, min_samples_leaf=5;, score=0.846 total time=   0.0s\n",
            "[CV 4/5] END ...max_depth=6, min_samples_leaf=5;, score=0.845 total time=   0.0s\n",
            "[CV 5/5] END ...max_depth=6, min_samples_leaf=5;, score=0.847 total time=   0.0s\n",
            "[CV 1/5] END ...max_depth=6, min_samples_leaf=6;, score=0.840 total time=   0.0s\n",
            "[CV 2/5] END ...max_depth=6, min_samples_leaf=6;, score=0.844 total time=   0.0s\n",
            "[CV 3/5] END ...max_depth=6, min_samples_leaf=6;, score=0.846 total time=   0.0s\n",
            "[CV 4/5] END ...max_depth=6, min_samples_leaf=6;, score=0.843 total time=   0.0s\n",
            "[CV 5/5] END ...max_depth=6, min_samples_leaf=6;, score=0.847 total time=   0.0s\n",
            "[CV 1/5] END ...max_depth=6, min_samples_leaf=7;, score=0.840 total time=   0.0s\n",
            "[CV 2/5] END ...max_depth=6, min_samples_leaf=7;, score=0.844 total time=   0.0s\n",
            "[CV 3/5] END ...max_depth=6, min_samples_leaf=7;, score=0.846 total time=   0.0s\n",
            "[CV 4/5] END ...max_depth=6, min_samples_leaf=7;, score=0.844 total time=   0.0s\n",
            "[CV 5/5] END ...max_depth=6, min_samples_leaf=7;, score=0.846 total time=   0.0s\n",
            "[CV 1/5] END ...max_depth=6, min_samples_leaf=8;, score=0.840 total time=   0.0s\n",
            "[CV 2/5] END ...max_depth=6, min_samples_leaf=8;, score=0.843 total time=   0.0s\n",
            "[CV 3/5] END ...max_depth=6, min_samples_leaf=8;, score=0.842 total time=   0.0s\n",
            "[CV 4/5] END ...max_depth=6, min_samples_leaf=8;, score=0.843 total time=   0.0s\n",
            "[CV 5/5] END ...max_depth=6, min_samples_leaf=8;, score=0.844 total time=   0.0s\n",
            "[CV 1/5] END ...max_depth=6, min_samples_leaf=9;, score=0.840 total time=   0.0s\n",
            "[CV 2/5] END ...max_depth=6, min_samples_leaf=9;, score=0.843 total time=   0.0s\n",
            "[CV 3/5] END ...max_depth=6, min_samples_leaf=9;, score=0.844 total time=   0.0s\n",
            "[CV 4/5] END ...max_depth=6, min_samples_leaf=9;, score=0.844 total time=   0.0s\n",
            "[CV 5/5] END ...max_depth=6, min_samples_leaf=9;, score=0.847 total time=   0.0s\n",
            "[CV 1/5] END ...max_depth=7, min_samples_leaf=2;, score=0.835 total time=   0.0s\n",
            "[CV 2/5] END ...max_depth=7, min_samples_leaf=2;, score=0.841 total time=   0.0s\n",
            "[CV 3/5] END ...max_depth=7, min_samples_leaf=2;, score=0.839 total time=   0.0s\n",
            "[CV 4/5] END ...max_depth=7, min_samples_leaf=2;, score=0.837 total time=   0.0s\n",
            "[CV 5/5] END ...max_depth=7, min_samples_leaf=2;, score=0.844 total time=   0.0s\n",
            "[CV 1/5] END ...max_depth=7, min_samples_leaf=3;, score=0.834 total time=   0.0s\n",
            "[CV 2/5] END ...max_depth=7, min_samples_leaf=3;, score=0.843 total time=   0.0s\n",
            "[CV 3/5] END ...max_depth=7, min_samples_leaf=3;, score=0.841 total time=   0.0s\n",
            "[CV 4/5] END ...max_depth=7, min_samples_leaf=3;, score=0.836 total time=   0.0s\n",
            "[CV 5/5] END ...max_depth=7, min_samples_leaf=3;, score=0.843 total time=   0.0s\n",
            "[CV 1/5] END ...max_depth=7, min_samples_leaf=4;, score=0.836 total time=   0.0s\n",
            "[CV 2/5] END ...max_depth=7, min_samples_leaf=4;, score=0.845 total time=   0.0s\n",
            "[CV 3/5] END ...max_depth=7, min_samples_leaf=4;, score=0.842 total time=   0.0s\n",
            "[CV 4/5] END ...max_depth=7, min_samples_leaf=4;, score=0.838 total time=   0.0s\n",
            "[CV 5/5] END ...max_depth=7, min_samples_leaf=4;, score=0.842 total time=   0.0s\n",
            "[CV 1/5] END ...max_depth=7, min_samples_leaf=5;, score=0.838 total time=   0.0s\n",
            "[CV 2/5] END ...max_depth=7, min_samples_leaf=5;, score=0.844 total time=   0.0s\n",
            "[CV 3/5] END ...max_depth=7, min_samples_leaf=5;, score=0.840 total time=   0.0s\n",
            "[CV 4/5] END ...max_depth=7, min_samples_leaf=5;, score=0.839 total time=   0.0s\n",
            "[CV 5/5] END ...max_depth=7, min_samples_leaf=5;, score=0.842 total time=   0.0s\n",
            "[CV 1/5] END ...max_depth=7, min_samples_leaf=6;, score=0.840 total time=   0.0s\n",
            "[CV 2/5] END ...max_depth=7, min_samples_leaf=6;, score=0.843 total time=   0.0s\n",
            "[CV 3/5] END ...max_depth=7, min_samples_leaf=6;, score=0.839 total time=   0.0s\n",
            "[CV 4/5] END ...max_depth=7, min_samples_leaf=6;, score=0.838 total time=   0.0s\n",
            "[CV 5/5] END ...max_depth=7, min_samples_leaf=6;, score=0.842 total time=   0.0s\n",
            "[CV 1/5] END ...max_depth=7, min_samples_leaf=7;, score=0.839 total time=   0.0s\n",
            "[CV 2/5] END ...max_depth=7, min_samples_leaf=7;, score=0.843 total time=   0.0s\n",
            "[CV 3/5] END ...max_depth=7, min_samples_leaf=7;, score=0.840 total time=   0.0s\n",
            "[CV 4/5] END ...max_depth=7, min_samples_leaf=7;, score=0.841 total time=   0.0s\n",
            "[CV 5/5] END ...max_depth=7, min_samples_leaf=7;, score=0.840 total time=   0.0s\n",
            "[CV 1/5] END ...max_depth=7, min_samples_leaf=8;, score=0.841 total time=   0.0s\n",
            "[CV 2/5] END ...max_depth=7, min_samples_leaf=8;, score=0.842 total time=   0.0s\n",
            "[CV 3/5] END ...max_depth=7, min_samples_leaf=8;, score=0.836 total time=   0.0s\n",
            "[CV 4/5] END ...max_depth=7, min_samples_leaf=8;, score=0.840 total time=   0.0s\n",
            "[CV 5/5] END ...max_depth=7, min_samples_leaf=8;, score=0.839 total time=   0.0s\n",
            "[CV 1/5] END ...max_depth=7, min_samples_leaf=9;, score=0.839 total time=   0.0s\n",
            "[CV 2/5] END ...max_depth=7, min_samples_leaf=9;, score=0.839 total time=   0.0s\n",
            "[CV 3/5] END ...max_depth=7, min_samples_leaf=9;, score=0.838 total time=   0.0s\n",
            "[CV 4/5] END ...max_depth=7, min_samples_leaf=9;, score=0.840 total time=   0.0s\n",
            "[CV 5/5] END ...max_depth=7, min_samples_leaf=9;, score=0.840 total time=   0.0s\n",
            "[CV 1/5] END ...max_depth=8, min_samples_leaf=2;, score=0.837 total time=   0.0s\n",
            "[CV 2/5] END ...max_depth=8, min_samples_leaf=2;, score=0.836 total time=   0.0s\n",
            "[CV 3/5] END ...max_depth=8, min_samples_leaf=2;, score=0.838 total time=   0.0s\n",
            "[CV 4/5] END ...max_depth=8, min_samples_leaf=2;, score=0.843 total time=   0.0s\n",
            "[CV 5/5] END ...max_depth=8, min_samples_leaf=2;, score=0.839 total time=   0.0s\n",
            "[CV 1/5] END ...max_depth=8, min_samples_leaf=3;, score=0.838 total time=   0.0s\n",
            "[CV 2/5] END ...max_depth=8, min_samples_leaf=3;, score=0.839 total time=   0.0s\n",
            "[CV 3/5] END ...max_depth=8, min_samples_leaf=3;, score=0.842 total time=   0.0s\n",
            "[CV 4/5] END ...max_depth=8, min_samples_leaf=3;, score=0.844 total time=   0.0s\n",
            "[CV 5/5] END ...max_depth=8, min_samples_leaf=3;, score=0.844 total time=   0.0s\n",
            "[CV 1/5] END ...max_depth=8, min_samples_leaf=4;, score=0.835 total time=   0.0s\n",
            "[CV 2/5] END ...max_depth=8, min_samples_leaf=4;, score=0.840 total time=   0.0s\n",
            "[CV 3/5] END ...max_depth=8, min_samples_leaf=4;, score=0.842 total time=   0.0s\n",
            "[CV 4/5] END ...max_depth=8, min_samples_leaf=4;, score=0.843 total time=   0.0s\n",
            "[CV 5/5] END ...max_depth=8, min_samples_leaf=4;, score=0.844 total time=   0.0s\n",
            "[CV 1/5] END ...max_depth=8, min_samples_leaf=5;, score=0.835 total time=   0.0s\n",
            "[CV 2/5] END ...max_depth=8, min_samples_leaf=5;, score=0.843 total time=   0.0s\n",
            "[CV 3/5] END ...max_depth=8, min_samples_leaf=5;, score=0.843 total time=   0.0s\n",
            "[CV 4/5] END ...max_depth=8, min_samples_leaf=5;, score=0.840 total time=   0.0s\n",
            "[CV 5/5] END ...max_depth=8, min_samples_leaf=5;, score=0.843 total time=   0.0s\n",
            "[CV 1/5] END ...max_depth=8, min_samples_leaf=6;, score=0.840 total time=   0.0s\n",
            "[CV 2/5] END ...max_depth=8, min_samples_leaf=6;, score=0.841 total time=   0.0s\n",
            "[CV 3/5] END ...max_depth=8, min_samples_leaf=6;, score=0.841 total time=   0.0s\n",
            "[CV 4/5] END ...max_depth=8, min_samples_leaf=6;, score=0.839 total time=   0.0s\n",
            "[CV 5/5] END ...max_depth=8, min_samples_leaf=6;, score=0.843 total time=   0.0s\n",
            "[CV 1/5] END ...max_depth=8, min_samples_leaf=7;, score=0.839 total time=   0.0s\n",
            "[CV 2/5] END ...max_depth=8, min_samples_leaf=7;, score=0.841 total time=   0.0s\n",
            "[CV 3/5] END ...max_depth=8, min_samples_leaf=7;, score=0.841 total time=   0.0s\n",
            "[CV 4/5] END ...max_depth=8, min_samples_leaf=7;, score=0.840 total time=   0.0s\n",
            "[CV 5/5] END ...max_depth=8, min_samples_leaf=7;, score=0.840 total time=   0.0s\n",
            "[CV 1/5] END ...max_depth=8, min_samples_leaf=8;, score=0.840 total time=   0.0s\n",
            "[CV 2/5] END ...max_depth=8, min_samples_leaf=8;, score=0.841 total time=   0.0s\n",
            "[CV 3/5] END ...max_depth=8, min_samples_leaf=8;, score=0.838 total time=   0.0s\n",
            "[CV 4/5] END ...max_depth=8, min_samples_leaf=8;, score=0.840 total time=   0.0s\n",
            "[CV 5/5] END ...max_depth=8, min_samples_leaf=8;, score=0.841 total time=   0.0s\n",
            "[CV 1/5] END ...max_depth=8, min_samples_leaf=9;, score=0.837 total time=   0.0s\n",
            "[CV 2/5] END ...max_depth=8, min_samples_leaf=9;, score=0.839 total time=   0.0s\n",
            "[CV 3/5] END ...max_depth=8, min_samples_leaf=9;, score=0.838 total time=   0.0s\n",
            "[CV 4/5] END ...max_depth=8, min_samples_leaf=9;, score=0.839 total time=   0.0s\n",
            "[CV 5/5] END ...max_depth=8, min_samples_leaf=9;, score=0.842 total time=   0.0s\n",
            "[CV 1/5] END ...max_depth=9, min_samples_leaf=2;, score=0.835 total time=   0.0s\n",
            "[CV 2/5] END ...max_depth=9, min_samples_leaf=2;, score=0.827 total time=   0.0s\n",
            "[CV 3/5] END ...max_depth=9, min_samples_leaf=2;, score=0.835 total time=   0.0s\n",
            "[CV 4/5] END ...max_depth=9, min_samples_leaf=2;, score=0.836 total time=   0.0s\n",
            "[CV 5/5] END ...max_depth=9, min_samples_leaf=2;, score=0.837 total time=   0.0s\n",
            "[CV 1/5] END ...max_depth=9, min_samples_leaf=3;, score=0.836 total time=   0.0s\n",
            "[CV 2/5] END ...max_depth=9, min_samples_leaf=3;, score=0.833 total time=   0.0s\n",
            "[CV 3/5] END ...max_depth=9, min_samples_leaf=3;, score=0.842 total time=   0.0s\n",
            "[CV 4/5] END ...max_depth=9, min_samples_leaf=3;, score=0.835 total time=   0.0s\n",
            "[CV 5/5] END ...max_depth=9, min_samples_leaf=3;, score=0.837 total time=   0.0s\n",
            "[CV 1/5] END ...max_depth=9, min_samples_leaf=4;, score=0.835 total time=   0.0s\n",
            "[CV 2/5] END ...max_depth=9, min_samples_leaf=4;, score=0.832 total time=   0.0s\n",
            "[CV 3/5] END ...max_depth=9, min_samples_leaf=4;, score=0.842 total time=   0.0s\n",
            "[CV 4/5] END ...max_depth=9, min_samples_leaf=4;, score=0.835 total time=   0.0s\n",
            "[CV 5/5] END ...max_depth=9, min_samples_leaf=4;, score=0.836 total time=   0.0s\n",
            "[CV 1/5] END ...max_depth=9, min_samples_leaf=5;, score=0.835 total time=   0.0s\n",
            "[CV 2/5] END ...max_depth=9, min_samples_leaf=5;, score=0.838 total time=   0.0s\n",
            "[CV 3/5] END ...max_depth=9, min_samples_leaf=5;, score=0.843 total time=   0.0s\n",
            "[CV 4/5] END ...max_depth=9, min_samples_leaf=5;, score=0.832 total time=   0.0s\n",
            "[CV 5/5] END ...max_depth=9, min_samples_leaf=5;, score=0.838 total time=   0.0s\n",
            "[CV 1/5] END ...max_depth=9, min_samples_leaf=6;, score=0.833 total time=   0.0s\n",
            "[CV 2/5] END ...max_depth=9, min_samples_leaf=6;, score=0.838 total time=   0.0s\n",
            "[CV 3/5] END ...max_depth=9, min_samples_leaf=6;, score=0.840 total time=   0.0s\n",
            "[CV 4/5] END ...max_depth=9, min_samples_leaf=6;, score=0.833 total time=   0.0s\n",
            "[CV 5/5] END ...max_depth=9, min_samples_leaf=6;, score=0.840 total time=   0.0s\n",
            "[CV 1/5] END ...max_depth=9, min_samples_leaf=7;, score=0.834 total time=   0.0s\n",
            "[CV 2/5] END ...max_depth=9, min_samples_leaf=7;, score=0.838 total time=   0.0s\n",
            "[CV 3/5] END ...max_depth=9, min_samples_leaf=7;, score=0.840 total time=   0.0s\n",
            "[CV 4/5] END ...max_depth=9, min_samples_leaf=7;, score=0.834 total time=   0.0s\n",
            "[CV 5/5] END ...max_depth=9, min_samples_leaf=7;, score=0.838 total time=   0.0s\n",
            "[CV 1/5] END ...max_depth=9, min_samples_leaf=8;, score=0.835 total time=   0.0s\n",
            "[CV 2/5] END ...max_depth=9, min_samples_leaf=8;, score=0.839 total time=   0.0s\n",
            "[CV 3/5] END ...max_depth=9, min_samples_leaf=8;, score=0.834 total time=   0.0s\n",
            "[CV 4/5] END ...max_depth=9, min_samples_leaf=8;, score=0.834 total time=   0.0s\n",
            "[CV 5/5] END ...max_depth=9, min_samples_leaf=8;, score=0.838 total time=   0.0s\n",
            "[CV 1/5] END ...max_depth=9, min_samples_leaf=9;, score=0.833 total time=   0.0s\n",
            "[CV 2/5] END ...max_depth=9, min_samples_leaf=9;, score=0.839 total time=   0.0s\n",
            "[CV 3/5] END ...max_depth=9, min_samples_leaf=9;, score=0.838 total time=   0.0s\n",
            "[CV 4/5] END ...max_depth=9, min_samples_leaf=9;, score=0.833 total time=   0.0s\n",
            "[CV 5/5] END ...max_depth=9, min_samples_leaf=9;, score=0.840 total time=   0.0s\n"
          ]
        },
        {
          "output_type": "execute_result",
          "data": {
            "text/plain": [
              "GridSearchCV(cv=5, estimator=DecisionTreeClassifier(),\n",
              "             param_grid={'max_depth': [3, 4, 5, 6, 7, 8, 9],\n",
              "                         'min_samples_leaf': [2, 3, 4, 5, 6, 7, 8, 9]},\n",
              "             verbose=3)"
            ],
            "text/html": [
              "<style>#sk-container-id-33 {color: black;}#sk-container-id-33 pre{padding: 0;}#sk-container-id-33 div.sk-toggleable {background-color: white;}#sk-container-id-33 label.sk-toggleable__label {cursor: pointer;display: block;width: 100%;margin-bottom: 0;padding: 0.3em;box-sizing: border-box;text-align: center;}#sk-container-id-33 label.sk-toggleable__label-arrow:before {content: \"▸\";float: left;margin-right: 0.25em;color: #696969;}#sk-container-id-33 label.sk-toggleable__label-arrow:hover:before {color: black;}#sk-container-id-33 div.sk-estimator:hover label.sk-toggleable__label-arrow:before {color: black;}#sk-container-id-33 div.sk-toggleable__content {max-height: 0;max-width: 0;overflow: hidden;text-align: left;background-color: #f0f8ff;}#sk-container-id-33 div.sk-toggleable__content pre {margin: 0.2em;color: black;border-radius: 0.25em;background-color: #f0f8ff;}#sk-container-id-33 input.sk-toggleable__control:checked~div.sk-toggleable__content {max-height: 200px;max-width: 100%;overflow: auto;}#sk-container-id-33 input.sk-toggleable__control:checked~label.sk-toggleable__label-arrow:before {content: \"▾\";}#sk-container-id-33 div.sk-estimator input.sk-toggleable__control:checked~label.sk-toggleable__label {background-color: #d4ebff;}#sk-container-id-33 div.sk-label input.sk-toggleable__control:checked~label.sk-toggleable__label {background-color: #d4ebff;}#sk-container-id-33 input.sk-hidden--visually {border: 0;clip: rect(1px 1px 1px 1px);clip: rect(1px, 1px, 1px, 1px);height: 1px;margin: -1px;overflow: hidden;padding: 0;position: absolute;width: 1px;}#sk-container-id-33 div.sk-estimator {font-family: monospace;background-color: #f0f8ff;border: 1px dotted black;border-radius: 0.25em;box-sizing: border-box;margin-bottom: 0.5em;}#sk-container-id-33 div.sk-estimator:hover {background-color: #d4ebff;}#sk-container-id-33 div.sk-parallel-item::after {content: \"\";width: 100%;border-bottom: 1px solid gray;flex-grow: 1;}#sk-container-id-33 div.sk-label:hover label.sk-toggleable__label {background-color: #d4ebff;}#sk-container-id-33 div.sk-serial::before {content: \"\";position: absolute;border-left: 1px solid gray;box-sizing: border-box;top: 0;bottom: 0;left: 50%;z-index: 0;}#sk-container-id-33 div.sk-serial {display: flex;flex-direction: column;align-items: center;background-color: white;padding-right: 0.2em;padding-left: 0.2em;position: relative;}#sk-container-id-33 div.sk-item {position: relative;z-index: 1;}#sk-container-id-33 div.sk-parallel {display: flex;align-items: stretch;justify-content: center;background-color: white;position: relative;}#sk-container-id-33 div.sk-item::before, #sk-container-id-33 div.sk-parallel-item::before {content: \"\";position: absolute;border-left: 1px solid gray;box-sizing: border-box;top: 0;bottom: 0;left: 50%;z-index: -1;}#sk-container-id-33 div.sk-parallel-item {display: flex;flex-direction: column;z-index: 1;position: relative;background-color: white;}#sk-container-id-33 div.sk-parallel-item:first-child::after {align-self: flex-end;width: 50%;}#sk-container-id-33 div.sk-parallel-item:last-child::after {align-self: flex-start;width: 50%;}#sk-container-id-33 div.sk-parallel-item:only-child::after {width: 0;}#sk-container-id-33 div.sk-dashed-wrapped {border: 1px dashed gray;margin: 0 0.4em 0.5em 0.4em;box-sizing: border-box;padding-bottom: 0.4em;background-color: white;}#sk-container-id-33 div.sk-label label {font-family: monospace;font-weight: bold;display: inline-block;line-height: 1.2em;}#sk-container-id-33 div.sk-label-container {text-align: center;}#sk-container-id-33 div.sk-container {/* jupyter's `normalize.less` sets `[hidden] { display: none; }` but bootstrap.min.css set `[hidden] { display: none !important; }` so we also need the `!important` here to be able to override the default hidden behavior on the sphinx rendered scikit-learn.org. See: https://github.com/scikit-learn/scikit-learn/issues/21755 */display: inline-block !important;position: relative;}#sk-container-id-33 div.sk-text-repr-fallback {display: none;}</style><div id=\"sk-container-id-33\" class=\"sk-top-container\"><div class=\"sk-text-repr-fallback\"><pre>GridSearchCV(cv=5, estimator=DecisionTreeClassifier(),\n",
              "             param_grid={&#x27;max_depth&#x27;: [3, 4, 5, 6, 7, 8, 9],\n",
              "                         &#x27;min_samples_leaf&#x27;: [2, 3, 4, 5, 6, 7, 8, 9]},\n",
              "             verbose=3)</pre><b>In a Jupyter environment, please rerun this cell to show the HTML representation or trust the notebook. <br />On GitHub, the HTML representation is unable to render, please try loading this page with nbviewer.org.</b></div><div class=\"sk-container\" hidden><div class=\"sk-item sk-dashed-wrapped\"><div class=\"sk-label-container\"><div class=\"sk-label sk-toggleable\"><input class=\"sk-toggleable__control sk-hidden--visually\" id=\"sk-estimator-id-71\" type=\"checkbox\" ><label for=\"sk-estimator-id-71\" class=\"sk-toggleable__label sk-toggleable__label-arrow\">GridSearchCV</label><div class=\"sk-toggleable__content\"><pre>GridSearchCV(cv=5, estimator=DecisionTreeClassifier(),\n",
              "             param_grid={&#x27;max_depth&#x27;: [3, 4, 5, 6, 7, 8, 9],\n",
              "                         &#x27;min_samples_leaf&#x27;: [2, 3, 4, 5, 6, 7, 8, 9]},\n",
              "             verbose=3)</pre></div></div></div><div class=\"sk-parallel\"><div class=\"sk-parallel-item\"><div class=\"sk-item\"><div class=\"sk-label-container\"><div class=\"sk-label sk-toggleable\"><input class=\"sk-toggleable__control sk-hidden--visually\" id=\"sk-estimator-id-72\" type=\"checkbox\" ><label for=\"sk-estimator-id-72\" class=\"sk-toggleable__label sk-toggleable__label-arrow\">estimator: DecisionTreeClassifier</label><div class=\"sk-toggleable__content\"><pre>DecisionTreeClassifier()</pre></div></div></div><div class=\"sk-serial\"><div class=\"sk-item\"><div class=\"sk-estimator sk-toggleable\"><input class=\"sk-toggleable__control sk-hidden--visually\" id=\"sk-estimator-id-73\" type=\"checkbox\" ><label for=\"sk-estimator-id-73\" class=\"sk-toggleable__label sk-toggleable__label-arrow\">DecisionTreeClassifier</label><div class=\"sk-toggleable__content\"><pre>DecisionTreeClassifier()</pre></div></div></div></div></div></div></div></div></div></div>"
            ]
          },
          "metadata": {},
          "execution_count": 538
        }
      ]
    },
    {
      "cell_type": "code",
      "source": [
        "g_d.best_score_"
      ],
      "metadata": {
        "colab": {
          "base_uri": "https://localhost:8080/"
        },
        "id": "fcEnNMeIzFAU",
        "outputId": "a456d2e3-16f7-497f-fed8-aab980613b77"
      },
      "id": "fcEnNMeIzFAU",
      "execution_count": 540,
      "outputs": [
        {
          "output_type": "execute_result",
          "data": {
            "text/plain": [
              "0.8449021627188464"
            ]
          },
          "metadata": {},
          "execution_count": 540
        }
      ]
    },
    {
      "cell_type": "markdown",
      "id": "7ce21487",
      "metadata": {
        "id": "7ce21487"
      },
      "source": [
        "#### Support Vector Machine (SVM)"
      ]
    },
    {
      "cell_type": "code",
      "execution_count": 541,
      "id": "6f448f26",
      "metadata": {
        "id": "6f448f26"
      },
      "outputs": [],
      "source": [
        "s=SVC(gamma=\"auto\")\n",
        "has={\"degree\":[2,3,4,5,6]}\n",
        "g_s=GridSearchCV(s,has,cv=3,verbose=3)"
      ]
    },
    {
      "cell_type": "code",
      "source": [
        "g_s.fit(x_train,y_train)"
      ],
      "metadata": {
        "colab": {
          "base_uri": "https://localhost:8080/",
          "height": 394
        },
        "id": "E1XCZIBv39s8",
        "outputId": "e5103b90-3dfd-44a9-94c5-cef849a95d65"
      },
      "id": "E1XCZIBv39s8",
      "execution_count": 542,
      "outputs": [
        {
          "output_type": "stream",
          "name": "stdout",
          "text": [
            "Fitting 3 folds for each of 5 candidates, totalling 15 fits\n",
            "[CV 1/3] END ..........................degree=2;, score=0.845 total time=   4.1s\n",
            "[CV 2/3] END ..........................degree=2;, score=0.844 total time=   2.9s\n",
            "[CV 3/3] END ..........................degree=2;, score=0.845 total time=   2.9s\n",
            "[CV 1/3] END ..........................degree=3;, score=0.845 total time=   2.9s\n",
            "[CV 2/3] END ..........................degree=3;, score=0.844 total time=   4.3s\n",
            "[CV 3/3] END ..........................degree=3;, score=0.845 total time=   2.9s\n",
            "[CV 1/3] END ..........................degree=4;, score=0.845 total time=   2.9s\n",
            "[CV 2/3] END ..........................degree=4;, score=0.844 total time=   2.9s\n",
            "[CV 3/3] END ..........................degree=4;, score=0.845 total time=   4.1s\n",
            "[CV 1/3] END ..........................degree=5;, score=0.845 total time=   3.0s\n",
            "[CV 2/3] END ..........................degree=5;, score=0.844 total time=   2.9s\n",
            "[CV 3/3] END ..........................degree=5;, score=0.845 total time=   2.9s\n",
            "[CV 1/3] END ..........................degree=6;, score=0.845 total time=   3.9s\n",
            "[CV 2/3] END ..........................degree=6;, score=0.844 total time=   5.5s\n",
            "[CV 3/3] END ..........................degree=6;, score=0.845 total time=   2.9s\n"
          ]
        },
        {
          "output_type": "execute_result",
          "data": {
            "text/plain": [
              "GridSearchCV(cv=3, estimator=SVC(gamma='auto'),\n",
              "             param_grid={'degree': [2, 3, 4, 5, 6]}, verbose=3)"
            ],
            "text/html": [
              "<style>#sk-container-id-34 {color: black;}#sk-container-id-34 pre{padding: 0;}#sk-container-id-34 div.sk-toggleable {background-color: white;}#sk-container-id-34 label.sk-toggleable__label {cursor: pointer;display: block;width: 100%;margin-bottom: 0;padding: 0.3em;box-sizing: border-box;text-align: center;}#sk-container-id-34 label.sk-toggleable__label-arrow:before {content: \"▸\";float: left;margin-right: 0.25em;color: #696969;}#sk-container-id-34 label.sk-toggleable__label-arrow:hover:before {color: black;}#sk-container-id-34 div.sk-estimator:hover label.sk-toggleable__label-arrow:before {color: black;}#sk-container-id-34 div.sk-toggleable__content {max-height: 0;max-width: 0;overflow: hidden;text-align: left;background-color: #f0f8ff;}#sk-container-id-34 div.sk-toggleable__content pre {margin: 0.2em;color: black;border-radius: 0.25em;background-color: #f0f8ff;}#sk-container-id-34 input.sk-toggleable__control:checked~div.sk-toggleable__content {max-height: 200px;max-width: 100%;overflow: auto;}#sk-container-id-34 input.sk-toggleable__control:checked~label.sk-toggleable__label-arrow:before {content: \"▾\";}#sk-container-id-34 div.sk-estimator input.sk-toggleable__control:checked~label.sk-toggleable__label {background-color: #d4ebff;}#sk-container-id-34 div.sk-label input.sk-toggleable__control:checked~label.sk-toggleable__label {background-color: #d4ebff;}#sk-container-id-34 input.sk-hidden--visually {border: 0;clip: rect(1px 1px 1px 1px);clip: rect(1px, 1px, 1px, 1px);height: 1px;margin: -1px;overflow: hidden;padding: 0;position: absolute;width: 1px;}#sk-container-id-34 div.sk-estimator {font-family: monospace;background-color: #f0f8ff;border: 1px dotted black;border-radius: 0.25em;box-sizing: border-box;margin-bottom: 0.5em;}#sk-container-id-34 div.sk-estimator:hover {background-color: #d4ebff;}#sk-container-id-34 div.sk-parallel-item::after {content: \"\";width: 100%;border-bottom: 1px solid gray;flex-grow: 1;}#sk-container-id-34 div.sk-label:hover label.sk-toggleable__label {background-color: #d4ebff;}#sk-container-id-34 div.sk-serial::before {content: \"\";position: absolute;border-left: 1px solid gray;box-sizing: border-box;top: 0;bottom: 0;left: 50%;z-index: 0;}#sk-container-id-34 div.sk-serial {display: flex;flex-direction: column;align-items: center;background-color: white;padding-right: 0.2em;padding-left: 0.2em;position: relative;}#sk-container-id-34 div.sk-item {position: relative;z-index: 1;}#sk-container-id-34 div.sk-parallel {display: flex;align-items: stretch;justify-content: center;background-color: white;position: relative;}#sk-container-id-34 div.sk-item::before, #sk-container-id-34 div.sk-parallel-item::before {content: \"\";position: absolute;border-left: 1px solid gray;box-sizing: border-box;top: 0;bottom: 0;left: 50%;z-index: -1;}#sk-container-id-34 div.sk-parallel-item {display: flex;flex-direction: column;z-index: 1;position: relative;background-color: white;}#sk-container-id-34 div.sk-parallel-item:first-child::after {align-self: flex-end;width: 50%;}#sk-container-id-34 div.sk-parallel-item:last-child::after {align-self: flex-start;width: 50%;}#sk-container-id-34 div.sk-parallel-item:only-child::after {width: 0;}#sk-container-id-34 div.sk-dashed-wrapped {border: 1px dashed gray;margin: 0 0.4em 0.5em 0.4em;box-sizing: border-box;padding-bottom: 0.4em;background-color: white;}#sk-container-id-34 div.sk-label label {font-family: monospace;font-weight: bold;display: inline-block;line-height: 1.2em;}#sk-container-id-34 div.sk-label-container {text-align: center;}#sk-container-id-34 div.sk-container {/* jupyter's `normalize.less` sets `[hidden] { display: none; }` but bootstrap.min.css set `[hidden] { display: none !important; }` so we also need the `!important` here to be able to override the default hidden behavior on the sphinx rendered scikit-learn.org. See: https://github.com/scikit-learn/scikit-learn/issues/21755 */display: inline-block !important;position: relative;}#sk-container-id-34 div.sk-text-repr-fallback {display: none;}</style><div id=\"sk-container-id-34\" class=\"sk-top-container\"><div class=\"sk-text-repr-fallback\"><pre>GridSearchCV(cv=3, estimator=SVC(gamma=&#x27;auto&#x27;),\n",
              "             param_grid={&#x27;degree&#x27;: [2, 3, 4, 5, 6]}, verbose=3)</pre><b>In a Jupyter environment, please rerun this cell to show the HTML representation or trust the notebook. <br />On GitHub, the HTML representation is unable to render, please try loading this page with nbviewer.org.</b></div><div class=\"sk-container\" hidden><div class=\"sk-item sk-dashed-wrapped\"><div class=\"sk-label-container\"><div class=\"sk-label sk-toggleable\"><input class=\"sk-toggleable__control sk-hidden--visually\" id=\"sk-estimator-id-74\" type=\"checkbox\" ><label for=\"sk-estimator-id-74\" class=\"sk-toggleable__label sk-toggleable__label-arrow\">GridSearchCV</label><div class=\"sk-toggleable__content\"><pre>GridSearchCV(cv=3, estimator=SVC(gamma=&#x27;auto&#x27;),\n",
              "             param_grid={&#x27;degree&#x27;: [2, 3, 4, 5, 6]}, verbose=3)</pre></div></div></div><div class=\"sk-parallel\"><div class=\"sk-parallel-item\"><div class=\"sk-item\"><div class=\"sk-label-container\"><div class=\"sk-label sk-toggleable\"><input class=\"sk-toggleable__control sk-hidden--visually\" id=\"sk-estimator-id-75\" type=\"checkbox\" ><label for=\"sk-estimator-id-75\" class=\"sk-toggleable__label sk-toggleable__label-arrow\">estimator: SVC</label><div class=\"sk-toggleable__content\"><pre>SVC(gamma=&#x27;auto&#x27;)</pre></div></div></div><div class=\"sk-serial\"><div class=\"sk-item\"><div class=\"sk-estimator sk-toggleable\"><input class=\"sk-toggleable__control sk-hidden--visually\" id=\"sk-estimator-id-76\" type=\"checkbox\" ><label for=\"sk-estimator-id-76\" class=\"sk-toggleable__label sk-toggleable__label-arrow\">SVC</label><div class=\"sk-toggleable__content\"><pre>SVC(gamma=&#x27;auto&#x27;)</pre></div></div></div></div></div></div></div></div></div></div>"
            ]
          },
          "metadata": {},
          "execution_count": 542
        }
      ]
    },
    {
      "cell_type": "code",
      "source": [
        "g_s.best_score_"
      ],
      "metadata": {
        "colab": {
          "base_uri": "https://localhost:8080/"
        },
        "id": "TM8EN-liDtOX",
        "outputId": "058bbb4f-2669-4cd0-a04b-6a2d1348bab3"
      },
      "id": "TM8EN-liDtOX",
      "execution_count": 543,
      "outputs": [
        {
          "output_type": "execute_result",
          "data": {
            "text/plain": [
              "0.8444902235801308"
            ]
          },
          "metadata": {},
          "execution_count": 543
        }
      ]
    },
    {
      "cell_type": "markdown",
      "id": "f3656932",
      "metadata": {
        "id": "f3656932"
      },
      "source": [
        "#### K-Neighbors Classifier"
      ]
    },
    {
      "cell_type": "code",
      "execution_count": 544,
      "id": "c8c73d33",
      "metadata": {
        "id": "c8c73d33"
      },
      "outputs": [],
      "source": [
        "d=KNeighborsClassifier()\n",
        "has={\"n_neighbors\":[6,7,8,9,10]}\n",
        "g_k=GridSearchCV(d,has,cv=3,verbose=3)"
      ]
    },
    {
      "cell_type": "code",
      "source": [
        "g_k.fit(x_train,y_train)"
      ],
      "metadata": {
        "colab": {
          "base_uri": "https://localhost:8080/",
          "height": 394
        },
        "id": "BDkLEzxU4xXx",
        "outputId": "f9840c44-7521-4dd4-e8eb-843f0113c1b2"
      },
      "id": "BDkLEzxU4xXx",
      "execution_count": 545,
      "outputs": [
        {
          "output_type": "stream",
          "name": "stdout",
          "text": [
            "Fitting 3 folds for each of 5 candidates, totalling 15 fits\n",
            "[CV 1/3] END .....................n_neighbors=6;, score=0.821 total time=   1.0s\n",
            "[CV 2/3] END .....................n_neighbors=6;, score=0.818 total time=   0.7s\n",
            "[CV 3/3] END .....................n_neighbors=6;, score=0.820 total time=   0.7s\n",
            "[CV 1/3] END .....................n_neighbors=7;, score=0.838 total time=   0.6s\n",
            "[CV 2/3] END .....................n_neighbors=7;, score=0.838 total time=   0.7s\n",
            "[CV 3/3] END .....................n_neighbors=7;, score=0.837 total time=   0.6s\n",
            "[CV 1/3] END .....................n_neighbors=8;, score=0.833 total time=   0.7s\n",
            "[CV 2/3] END .....................n_neighbors=8;, score=0.835 total time=   0.7s\n",
            "[CV 3/3] END .....................n_neighbors=8;, score=0.836 total time=   0.6s\n",
            "[CV 1/3] END .....................n_neighbors=9;, score=0.841 total time=   0.6s\n",
            "[CV 2/3] END .....................n_neighbors=9;, score=0.840 total time=   0.7s\n",
            "[CV 3/3] END .....................n_neighbors=9;, score=0.841 total time=   0.6s\n",
            "[CV 1/3] END ....................n_neighbors=10;, score=0.841 total time=   0.7s\n",
            "[CV 2/3] END ....................n_neighbors=10;, score=0.839 total time=   0.7s\n",
            "[CV 3/3] END ....................n_neighbors=10;, score=0.840 total time=   0.6s\n"
          ]
        },
        {
          "output_type": "execute_result",
          "data": {
            "text/plain": [
              "GridSearchCV(cv=3, estimator=KNeighborsClassifier(),\n",
              "             param_grid={'n_neighbors': [6, 7, 8, 9, 10]}, verbose=3)"
            ],
            "text/html": [
              "<style>#sk-container-id-35 {color: black;}#sk-container-id-35 pre{padding: 0;}#sk-container-id-35 div.sk-toggleable {background-color: white;}#sk-container-id-35 label.sk-toggleable__label {cursor: pointer;display: block;width: 100%;margin-bottom: 0;padding: 0.3em;box-sizing: border-box;text-align: center;}#sk-container-id-35 label.sk-toggleable__label-arrow:before {content: \"▸\";float: left;margin-right: 0.25em;color: #696969;}#sk-container-id-35 label.sk-toggleable__label-arrow:hover:before {color: black;}#sk-container-id-35 div.sk-estimator:hover label.sk-toggleable__label-arrow:before {color: black;}#sk-container-id-35 div.sk-toggleable__content {max-height: 0;max-width: 0;overflow: hidden;text-align: left;background-color: #f0f8ff;}#sk-container-id-35 div.sk-toggleable__content pre {margin: 0.2em;color: black;border-radius: 0.25em;background-color: #f0f8ff;}#sk-container-id-35 input.sk-toggleable__control:checked~div.sk-toggleable__content {max-height: 200px;max-width: 100%;overflow: auto;}#sk-container-id-35 input.sk-toggleable__control:checked~label.sk-toggleable__label-arrow:before {content: \"▾\";}#sk-container-id-35 div.sk-estimator input.sk-toggleable__control:checked~label.sk-toggleable__label {background-color: #d4ebff;}#sk-container-id-35 div.sk-label input.sk-toggleable__control:checked~label.sk-toggleable__label {background-color: #d4ebff;}#sk-container-id-35 input.sk-hidden--visually {border: 0;clip: rect(1px 1px 1px 1px);clip: rect(1px, 1px, 1px, 1px);height: 1px;margin: -1px;overflow: hidden;padding: 0;position: absolute;width: 1px;}#sk-container-id-35 div.sk-estimator {font-family: monospace;background-color: #f0f8ff;border: 1px dotted black;border-radius: 0.25em;box-sizing: border-box;margin-bottom: 0.5em;}#sk-container-id-35 div.sk-estimator:hover {background-color: #d4ebff;}#sk-container-id-35 div.sk-parallel-item::after {content: \"\";width: 100%;border-bottom: 1px solid gray;flex-grow: 1;}#sk-container-id-35 div.sk-label:hover label.sk-toggleable__label {background-color: #d4ebff;}#sk-container-id-35 div.sk-serial::before {content: \"\";position: absolute;border-left: 1px solid gray;box-sizing: border-box;top: 0;bottom: 0;left: 50%;z-index: 0;}#sk-container-id-35 div.sk-serial {display: flex;flex-direction: column;align-items: center;background-color: white;padding-right: 0.2em;padding-left: 0.2em;position: relative;}#sk-container-id-35 div.sk-item {position: relative;z-index: 1;}#sk-container-id-35 div.sk-parallel {display: flex;align-items: stretch;justify-content: center;background-color: white;position: relative;}#sk-container-id-35 div.sk-item::before, #sk-container-id-35 div.sk-parallel-item::before {content: \"\";position: absolute;border-left: 1px solid gray;box-sizing: border-box;top: 0;bottom: 0;left: 50%;z-index: -1;}#sk-container-id-35 div.sk-parallel-item {display: flex;flex-direction: column;z-index: 1;position: relative;background-color: white;}#sk-container-id-35 div.sk-parallel-item:first-child::after {align-self: flex-end;width: 50%;}#sk-container-id-35 div.sk-parallel-item:last-child::after {align-self: flex-start;width: 50%;}#sk-container-id-35 div.sk-parallel-item:only-child::after {width: 0;}#sk-container-id-35 div.sk-dashed-wrapped {border: 1px dashed gray;margin: 0 0.4em 0.5em 0.4em;box-sizing: border-box;padding-bottom: 0.4em;background-color: white;}#sk-container-id-35 div.sk-label label {font-family: monospace;font-weight: bold;display: inline-block;line-height: 1.2em;}#sk-container-id-35 div.sk-label-container {text-align: center;}#sk-container-id-35 div.sk-container {/* jupyter's `normalize.less` sets `[hidden] { display: none; }` but bootstrap.min.css set `[hidden] { display: none !important; }` so we also need the `!important` here to be able to override the default hidden behavior on the sphinx rendered scikit-learn.org. See: https://github.com/scikit-learn/scikit-learn/issues/21755 */display: inline-block !important;position: relative;}#sk-container-id-35 div.sk-text-repr-fallback {display: none;}</style><div id=\"sk-container-id-35\" class=\"sk-top-container\"><div class=\"sk-text-repr-fallback\"><pre>GridSearchCV(cv=3, estimator=KNeighborsClassifier(),\n",
              "             param_grid={&#x27;n_neighbors&#x27;: [6, 7, 8, 9, 10]}, verbose=3)</pre><b>In a Jupyter environment, please rerun this cell to show the HTML representation or trust the notebook. <br />On GitHub, the HTML representation is unable to render, please try loading this page with nbviewer.org.</b></div><div class=\"sk-container\" hidden><div class=\"sk-item sk-dashed-wrapped\"><div class=\"sk-label-container\"><div class=\"sk-label sk-toggleable\"><input class=\"sk-toggleable__control sk-hidden--visually\" id=\"sk-estimator-id-77\" type=\"checkbox\" ><label for=\"sk-estimator-id-77\" class=\"sk-toggleable__label sk-toggleable__label-arrow\">GridSearchCV</label><div class=\"sk-toggleable__content\"><pre>GridSearchCV(cv=3, estimator=KNeighborsClassifier(),\n",
              "             param_grid={&#x27;n_neighbors&#x27;: [6, 7, 8, 9, 10]}, verbose=3)</pre></div></div></div><div class=\"sk-parallel\"><div class=\"sk-parallel-item\"><div class=\"sk-item\"><div class=\"sk-label-container\"><div class=\"sk-label sk-toggleable\"><input class=\"sk-toggleable__control sk-hidden--visually\" id=\"sk-estimator-id-78\" type=\"checkbox\" ><label for=\"sk-estimator-id-78\" class=\"sk-toggleable__label sk-toggleable__label-arrow\">estimator: KNeighborsClassifier</label><div class=\"sk-toggleable__content\"><pre>KNeighborsClassifier()</pre></div></div></div><div class=\"sk-serial\"><div class=\"sk-item\"><div class=\"sk-estimator sk-toggleable\"><input class=\"sk-toggleable__control sk-hidden--visually\" id=\"sk-estimator-id-79\" type=\"checkbox\" ><label for=\"sk-estimator-id-79\" class=\"sk-toggleable__label sk-toggleable__label-arrow\">KNeighborsClassifier</label><div class=\"sk-toggleable__content\"><pre>KNeighborsClassifier()</pre></div></div></div></div></div></div></div></div></div></div>"
            ]
          },
          "metadata": {},
          "execution_count": 545
        }
      ]
    },
    {
      "cell_type": "markdown",
      "id": "12057ba0",
      "metadata": {
        "id": "12057ba0"
      },
      "source": [
        "## Model Evaluation\n",
        "\n",
        "After training your models, it's crucial to evaluate their performance to understand their effectiveness and limitations. This section outlines various techniques and metrics to assess the performance of each model you have implemented.\n",
        "\n",
        "### Evaluation Techniques\n",
        "1. **Confusion Matrix**\n",
        "\n",
        "2. **Accuracy**\n",
        "\n",
        "3. **Precision and Recall**\n",
        "\n",
        "4. **F1 Score**\n",
        "\n",
        "5. **ROC Curve and AUC**\n",
        "\n",
        "### Implementing Evaluation\n",
        "- Calculate the metrics listed above using your test data."
      ]
    },
    {
      "cell_type": "code",
      "source": [
        "from sklearn.metrics import accuracy_score,f1_score,confusion_matrix,precision_score,recall_score,roc_auc_score\n"
      ],
      "metadata": {
        "id": "RqixVSwcE551"
      },
      "id": "RqixVSwcE551",
      "execution_count": 547,
      "outputs": []
    },
    {
      "cell_type": "markdown",
      "source": [
        "**Logistic Regression**"
      ],
      "metadata": {
        "id": "ZR7LafuZFp7N"
      },
      "id": "ZR7LafuZFp7N"
    },
    {
      "cell_type": "code",
      "source": [
        "y_pred=g.predict(x_test)"
      ],
      "metadata": {
        "id": "gZ5ih1xxFUIi"
      },
      "id": "gZ5ih1xxFUIi",
      "execution_count": 549,
      "outputs": []
    },
    {
      "cell_type": "code",
      "source": [
        "confusion_matrix(y_pred,y_test)"
      ],
      "metadata": {
        "colab": {
          "base_uri": "https://localhost:8080/"
        },
        "id": "_sapkwTUFjTf",
        "outputId": "f297bf6c-85b3-48cb-9a72-9b4821faa347"
      },
      "id": "_sapkwTUFjTf",
      "execution_count": 550,
      "outputs": [
        {
          "output_type": "execute_result",
          "data": {
            "text/plain": [
              "array([[   0,    0,    0],\n",
              "       [   0,    0,    0],\n",
              "       [  29,  343, 2056]])"
            ]
          },
          "metadata": {},
          "execution_count": 550
        }
      ]
    },
    {
      "cell_type": "code",
      "source": [
        "accuracy_score(y_pred,y_test)"
      ],
      "metadata": {
        "colab": {
          "base_uri": "https://localhost:8080/"
        },
        "id": "zp8cDlkAFpOm",
        "outputId": "e27aa363-5fc5-43cc-a22a-b3d329dd1012"
      },
      "id": "zp8cDlkAFpOm",
      "execution_count": 551,
      "outputs": [
        {
          "output_type": "execute_result",
          "data": {
            "text/plain": [
              "0.8467874794069192"
            ]
          },
          "metadata": {},
          "execution_count": 551
        }
      ]
    },
    {
      "cell_type": "code",
      "source": [
        "precision_score(y_pred,y_test,average=\"micro\")"
      ],
      "metadata": {
        "colab": {
          "base_uri": "https://localhost:8080/"
        },
        "id": "J1RbdKnNF0Df",
        "outputId": "075d1950-94ea-4fd1-d1ed-f14b917d6f4c"
      },
      "id": "J1RbdKnNF0Df",
      "execution_count": 554,
      "outputs": [
        {
          "output_type": "execute_result",
          "data": {
            "text/plain": [
              "0.8467874794069192"
            ]
          },
          "metadata": {},
          "execution_count": 554
        }
      ]
    },
    {
      "cell_type": "code",
      "source": [
        "recall_score(y_pred,y_test,average=\"micro\")"
      ],
      "metadata": {
        "colab": {
          "base_uri": "https://localhost:8080/"
        },
        "id": "VNSYbNRBF3Mx",
        "outputId": "4d476d4a-c169-47c3-9b35-541d125dae61"
      },
      "id": "VNSYbNRBF3Mx",
      "execution_count": 556,
      "outputs": [
        {
          "output_type": "execute_result",
          "data": {
            "text/plain": [
              "0.8467874794069192"
            ]
          },
          "metadata": {},
          "execution_count": 556
        }
      ]
    },
    {
      "cell_type": "code",
      "source": [
        "f1_score(y_pred,y_test,average=\"micro\")"
      ],
      "metadata": {
        "colab": {
          "base_uri": "https://localhost:8080/"
        },
        "id": "5uQtMo7AF3if",
        "outputId": "03b79eb0-436d-438e-ae4e-dc6f39110775"
      },
      "id": "5uQtMo7AF3if",
      "execution_count": 558,
      "outputs": [
        {
          "output_type": "execute_result",
          "data": {
            "text/plain": [
              "0.8467874794069193"
            ]
          },
          "metadata": {},
          "execution_count": 558
        }
      ]
    },
    {
      "cell_type": "markdown",
      "source": [
        "**Decision Tree Classifier**"
      ],
      "metadata": {
        "id": "Jy_bBVZeGpKn"
      },
      "id": "Jy_bBVZeGpKn"
    },
    {
      "cell_type": "code",
      "source": [
        "y_pred=g_d.predict(x_test)"
      ],
      "metadata": {
        "id": "ojDdOZ4HGynY"
      },
      "id": "ojDdOZ4HGynY",
      "execution_count": 565,
      "outputs": []
    },
    {
      "cell_type": "code",
      "source": [
        "confusion_matrix(y_pred,y_test)"
      ],
      "metadata": {
        "colab": {
          "base_uri": "https://localhost:8080/"
        },
        "id": "F-fVJEsOFP35",
        "outputId": "2738d0d1-4c30-431e-ea02-9df7ab19da0f"
      },
      "id": "F-fVJEsOFP35",
      "execution_count": 566,
      "outputs": [
        {
          "output_type": "execute_result",
          "data": {
            "text/plain": [
              "array([[   0,    0,    0],\n",
              "       [   0,    8,    1],\n",
              "       [  29,  335, 2055]])"
            ]
          },
          "metadata": {},
          "execution_count": 566
        }
      ]
    },
    {
      "cell_type": "code",
      "source": [
        "accuracy_score(y_pred,y_test)"
      ],
      "metadata": {
        "colab": {
          "base_uri": "https://localhost:8080/"
        },
        "id": "SfZ685NQG6_b",
        "outputId": "df8570f1-c20d-423f-a86f-881af8a4445d"
      },
      "id": "SfZ685NQG6_b",
      "execution_count": 567,
      "outputs": [
        {
          "output_type": "execute_result",
          "data": {
            "text/plain": [
              "0.8496705107084019"
            ]
          },
          "metadata": {},
          "execution_count": 567
        }
      ]
    },
    {
      "cell_type": "code",
      "source": [
        "precision_score(y_pred,y_test,average=\"micro\")"
      ],
      "metadata": {
        "colab": {
          "base_uri": "https://localhost:8080/"
        },
        "id": "vplnjEO7G86W",
        "outputId": "e168e0bd-ee60-414b-e5ed-28747540b83d"
      },
      "id": "vplnjEO7G86W",
      "execution_count": 568,
      "outputs": [
        {
          "output_type": "execute_result",
          "data": {
            "text/plain": [
              "0.8496705107084019"
            ]
          },
          "metadata": {},
          "execution_count": 568
        }
      ]
    },
    {
      "cell_type": "code",
      "source": [
        "recall_score(y_pred,y_test,average=\"micro\")"
      ],
      "metadata": {
        "colab": {
          "base_uri": "https://localhost:8080/"
        },
        "id": "O7BRlm11HAKp",
        "outputId": "9b767fd2-b12c-454d-d116-9309c6500c51"
      },
      "id": "O7BRlm11HAKp",
      "execution_count": 569,
      "outputs": [
        {
          "output_type": "execute_result",
          "data": {
            "text/plain": [
              "0.8496705107084019"
            ]
          },
          "metadata": {},
          "execution_count": 569
        }
      ]
    },
    {
      "cell_type": "code",
      "source": [
        "f1_score(y_pred,y_test,average=\"micro\")"
      ],
      "metadata": {
        "colab": {
          "base_uri": "https://localhost:8080/"
        },
        "id": "bjslmUZfHB_Y",
        "outputId": "d9cf84f8-e0bc-4fdc-c5fc-ff8e003e62ab"
      },
      "id": "bjslmUZfHB_Y",
      "execution_count": 570,
      "outputs": [
        {
          "output_type": "execute_result",
          "data": {
            "text/plain": [
              "0.8496705107084019"
            ]
          },
          "metadata": {},
          "execution_count": 570
        }
      ]
    },
    {
      "cell_type": "code",
      "source": [],
      "metadata": {
        "id": "35eJ1Z-XHFEk"
      },
      "id": "35eJ1Z-XHFEk",
      "execution_count": null,
      "outputs": []
    },
    {
      "cell_type": "markdown",
      "source": [
        "**Support Vector Machine**"
      ],
      "metadata": {
        "id": "-r5ihHTbHLDq"
      },
      "id": "-r5ihHTbHLDq"
    },
    {
      "cell_type": "code",
      "execution_count": 571,
      "id": "c8328067",
      "metadata": {
        "id": "c8328067"
      },
      "outputs": [],
      "source": [
        "y_pred=g_s.predict(x_test)"
      ]
    },
    {
      "cell_type": "code",
      "source": [
        "confusion_matrix(y_pred,y_test)"
      ],
      "metadata": {
        "colab": {
          "base_uri": "https://localhost:8080/"
        },
        "id": "9ucbFs_GHV9T",
        "outputId": "a12fb697-090e-470a-c602-0a1c97510b12"
      },
      "id": "9ucbFs_GHV9T",
      "execution_count": 572,
      "outputs": [
        {
          "output_type": "execute_result",
          "data": {
            "text/plain": [
              "array([[   0,    0,    0],\n",
              "       [   0,    0,    0],\n",
              "       [  29,  343, 2056]])"
            ]
          },
          "metadata": {},
          "execution_count": 572
        }
      ]
    },
    {
      "cell_type": "code",
      "source": [
        "accuracy_score(y_pred,y_test)"
      ],
      "metadata": {
        "colab": {
          "base_uri": "https://localhost:8080/"
        },
        "id": "oAbKiZrbHYIr",
        "outputId": "eb46583b-66cf-46b9-b40d-90223cd19aa8"
      },
      "id": "oAbKiZrbHYIr",
      "execution_count": 573,
      "outputs": [
        {
          "output_type": "execute_result",
          "data": {
            "text/plain": [
              "0.8467874794069192"
            ]
          },
          "metadata": {},
          "execution_count": 573
        }
      ]
    },
    {
      "cell_type": "code",
      "source": [
        "precision_score(y_pred,y_test,average=\"micro\")"
      ],
      "metadata": {
        "colab": {
          "base_uri": "https://localhost:8080/"
        },
        "id": "y-fd-uX-HdP-",
        "outputId": "f33588e3-4c7a-43cb-9ab5-22fbbaa8a412"
      },
      "id": "y-fd-uX-HdP-",
      "execution_count": 574,
      "outputs": [
        {
          "output_type": "execute_result",
          "data": {
            "text/plain": [
              "0.8467874794069192"
            ]
          },
          "metadata": {},
          "execution_count": 574
        }
      ]
    },
    {
      "cell_type": "code",
      "source": [
        "recall_score(y_pred,y_test,average=\"micro\")"
      ],
      "metadata": {
        "colab": {
          "base_uri": "https://localhost:8080/"
        },
        "id": "N2V3ROraHeyr",
        "outputId": "55fb9ead-731a-4eb1-cca4-c58e34a64916"
      },
      "id": "N2V3ROraHeyr",
      "execution_count": 575,
      "outputs": [
        {
          "output_type": "execute_result",
          "data": {
            "text/plain": [
              "0.8467874794069192"
            ]
          },
          "metadata": {},
          "execution_count": 575
        }
      ]
    },
    {
      "cell_type": "code",
      "source": [
        "f1_score(y_pred,y_test,average=\"micro\")"
      ],
      "metadata": {
        "colab": {
          "base_uri": "https://localhost:8080/"
        },
        "id": "5F7VT55HHhsp",
        "outputId": "9b1eb0f3-a90c-465e-fbaf-987b14fee77e"
      },
      "id": "5F7VT55HHhsp",
      "execution_count": 576,
      "outputs": [
        {
          "output_type": "execute_result",
          "data": {
            "text/plain": [
              "0.8467874794069193"
            ]
          },
          "metadata": {},
          "execution_count": 576
        }
      ]
    },
    {
      "cell_type": "markdown",
      "source": [
        "**K-Neighbors Classifier**"
      ],
      "metadata": {
        "id": "InhgCzQ0HihP"
      },
      "id": "InhgCzQ0HihP"
    },
    {
      "cell_type": "code",
      "source": [
        "y_pred=g_k.predict(x_test)"
      ],
      "metadata": {
        "id": "I9_-lI5GHnl0"
      },
      "id": "I9_-lI5GHnl0",
      "execution_count": 577,
      "outputs": []
    },
    {
      "cell_type": "code",
      "source": [
        "confusion_matrix(y_pred,y_test)"
      ],
      "metadata": {
        "colab": {
          "base_uri": "https://localhost:8080/"
        },
        "id": "UqQLXqI2Hqrx",
        "outputId": "8613c0d9-75e9-4a4a-a0cf-39910831c1ff"
      },
      "id": "UqQLXqI2Hqrx",
      "execution_count": 578,
      "outputs": [
        {
          "output_type": "execute_result",
          "data": {
            "text/plain": [
              "array([[   0,    0,    0],\n",
              "       [   0,    3,    6],\n",
              "       [  29,  340, 2050]])"
            ]
          },
          "metadata": {},
          "execution_count": 578
        }
      ]
    },
    {
      "cell_type": "code",
      "source": [
        "accuracy_score(y_pred,y_test)"
      ],
      "metadata": {
        "colab": {
          "base_uri": "https://localhost:8080/"
        },
        "id": "Q9zAf615HtDR",
        "outputId": "7831b047-22f2-45a1-81ba-1b0d65e10a9d"
      },
      "id": "Q9zAf615HtDR",
      "execution_count": 579,
      "outputs": [
        {
          "output_type": "execute_result",
          "data": {
            "text/plain": [
              "0.8455518945634267"
            ]
          },
          "metadata": {},
          "execution_count": 579
        }
      ]
    },
    {
      "cell_type": "code",
      "source": [
        "precision_score(y_pred,y_test,average=\"micro\")"
      ],
      "metadata": {
        "colab": {
          "base_uri": "https://localhost:8080/"
        },
        "id": "CK2MqQsVHvrv",
        "outputId": "d280a034-18a0-49be-a659-4699971a5b98"
      },
      "id": "CK2MqQsVHvrv",
      "execution_count": 580,
      "outputs": [
        {
          "output_type": "execute_result",
          "data": {
            "text/plain": [
              "0.8455518945634267"
            ]
          },
          "metadata": {},
          "execution_count": 580
        }
      ]
    },
    {
      "cell_type": "code",
      "source": [
        "recall_score(y_pred,y_test,average=\"micro\")"
      ],
      "metadata": {
        "colab": {
          "base_uri": "https://localhost:8080/"
        },
        "id": "TFv8lHGHHvtv",
        "outputId": "fd197cf7-e4af-43bc-a353-4e75653430de"
      },
      "id": "TFv8lHGHHvtv",
      "execution_count": 581,
      "outputs": [
        {
          "output_type": "execute_result",
          "data": {
            "text/plain": [
              "0.8455518945634267"
            ]
          },
          "metadata": {},
          "execution_count": 581
        }
      ]
    },
    {
      "cell_type": "code",
      "source": [
        "f1_score(y_pred,y_test,average=\"micro\")"
      ],
      "metadata": {
        "colab": {
          "base_uri": "https://localhost:8080/"
        },
        "id": "ElwuVvtDHvxQ",
        "outputId": "0a4e6369-f9d6-488e-bd98-2fb3f9e21a01"
      },
      "id": "ElwuVvtDHvxQ",
      "execution_count": 582,
      "outputs": [
        {
          "output_type": "execute_result",
          "data": {
            "text/plain": [
              "0.8455518945634267"
            ]
          },
          "metadata": {},
          "execution_count": 582
        }
      ]
    },
    {
      "cell_type": "markdown",
      "id": "65f17c12",
      "metadata": {
        "id": "65f17c12"
      },
      "source": [
        "## Project Questions:\n",
        "\n",
        "### Comparative Analysis\n",
        "\n",
        "- **Compare Metrics**: Examine the performance metrics (such as accuracy, precision, and recall) of each model. Document your observations on which model performs best for your dataset and the problem you're addressing.\n",
        "- **Evaluate Trade-offs**: Discuss the trade-offs you encountered when choosing between models. Consider factors like computational efficiency, ease of implementation, and model interpretability.\n",
        "- **Justify Your Choice**: After comparing and evaluating, explain why you believe one model is the best choice. Provide a clear rationale based on the performance metrics and trade-offs discussed.\n",
        "- **Feature Importance**: Identify and discuss the most important features for the best-performing model. How do these features impact the predictions? Use the visualizations you have created to justify your answer if necessary.\n",
        "- **Model Limitations**: Discuss any limitations you encountered with the models you used. Are there any aspects of the data or the problem that these models do not handle well?\n",
        "- **Future Improvements**: Suggest potential improvements or further steps you could take to enhance model performance. This could include trying different algorithms, feature engineering techniques, or tuning hyperparameters."
      ]
    },
    {
      "cell_type": "markdown",
      "id": "76425529",
      "metadata": {
        "id": "76425529"
      },
      "source": [
        "### Answer Here:"
      ]
    },
    {
      "cell_type": "markdown",
      "source": [
        "since the target value has 84% Slight Injury therefore the accuracy are the same, most models would classify Slight Injury and get high accuracy rate.\n",
        "\n",
        "Compare Metrics:\n",
        "most metrics are the same .\n",
        "\n",
        "Evaluate Trade-offs:\n",
        "i used grid gridsearchcv for all models and got smae result\n",
        "\n",
        "\n"
      ],
      "metadata": {
        "id": "j3DbZF4dH7sB"
      },
      "id": "j3DbZF4dH7sB"
    }
  ],
  "metadata": {
    "language_info": {
      "name": "python"
    },
    "colab": {
      "provenance": []
    },
    "kernelspec": {
      "name": "python3",
      "display_name": "Python 3"
    }
  },
  "nbformat": 4,
  "nbformat_minor": 5
}